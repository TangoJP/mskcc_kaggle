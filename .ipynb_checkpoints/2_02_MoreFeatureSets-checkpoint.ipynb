{
 "cells": [
  {
   "cell_type": "markdown",
   "metadata": {},
   "source": [
    "<a id='sec0'></a>"
   ]
  },
  {
   "cell_type": "markdown",
   "metadata": {},
   "source": [
    "1. Extraction by fraction of appearance fold difference between classes\n",
    "   - Thresholds for minimum fraction of appearance and fold difference\n",
    "2. Extraction by exclusive appearance in certain classes\n",
    "   - Threshold for minimum fraction of appearance (Can be lower than #1)\n",
    "3. Extraction by per-doc appearance fold difference between classes\n",
    "   - Thresholds for minimum per-doc appearance and fold difference\n",
    "4. Extraction by per-doc appearance number difference between classes\n",
    "   - Thresholds for minimum per-doc appearance and # of difference in appearance between classes"
   ]
  },
  {
   "cell_type": "markdown",
   "metadata": {},
   "source": [
    "# 1. Extraction by fraction of appearance fold difference between classes\n",
    "(<a href='#sec0'>Back to top</a>)"
   ]
  },
  {
   "cell_type": "code",
   "execution_count": null,
   "metadata": {
    "collapsed": true
   },
   "outputs": [],
   "source": [
    "def get_FoldDifference(a, b, freq_threshold=0.05):\n",
    "    if ((b != 0) and (a >= freq_threshold)):\n",
    "        return (a / b)\n",
    "    else:\n",
    "        return 0\n",
    "\n",
    "def get_nClassWords_byFold(frac_docs, fold_threshold, freq_threshold, print_result=True):\n",
    "    '''\n",
    "    This function looks at each word in each doc in the 'docs' and creates \n",
    "    a list containing frequency of appearance ('apps') for each class. The list is\n",
    "    re-order in descending order, and the fold difference between the adjacent pair\n",
    "    of frequencies are compared. If the fold difference is above a certain threshold\n",
    "    ('fold_threshold), the word is classified into a designated class of words.\n",
    "    When a word is classified as n-class word, it means that the freqs of app of the\n",
    "    word in n (number of) classes are X fold (fold_threshold) higher than those of \n",
    "    other classes. freq_threshold is a cutoff freq of app to decide whether to \n",
    "    include the word or not in the list. \n",
    "    \n",
    "    - Number of classes are assumed to be 9.\n",
    "    - Use get_FoldDifference function to calculate fold difference\n",
    "     \n",
    "    INPUTS:\n",
    "    ========\n",
    "    frac_docs : list of lists\n",
    "        A list of lists containing fractions of docs a word appears in the class\n",
    "    \n",
    "    OUTPUTS:\n",
    "    ========\n",
    "    n_class_words : dictionary\n",
    "        A dictionary whose keys are n-class_word labels. Values a lists of words\n",
    "        in each of n classes of words\n",
    "    '''\n",
    "    fold_th = fold_threshold\n",
    "    freq_th = freq_threshold\n",
    "\n",
    "    ncw_labels = ['one_class_words', 'two_class_words', 'three_class_words', \n",
    "                  'four_class_words', 'five_class_words', 'six_class_words', \n",
    "                  'seven_class_words', 'eight_class_words','other_words']\n",
    "\n",
    "    # Create a new dictionary to contain each n-class of words in list formats\n",
    "    n_class_words = {}\n",
    "    for i in range(9):\n",
    "        n_class_words[ncw_labels[i]] = []\n",
    "\n",
    "    # Get words for each n-class of words (might be a better way to do this?)\n",
    "    for j, word in enumerate(frac_docs.index):\n",
    "        apps = np.array(frac_docs.loc[word])\n",
    "        apps[::-1].sort()\n",
    "        #print(apps)\n",
    "        if get_FoldDifference(apps[0], apps[1], freq_threshold=freq_th) >= fold_th:\n",
    "            n_class_words[ncw_labels[0]].append(word)\n",
    "        elif get_FoldDifference(apps[1], apps[2], freq_threshold=freq_th) >= fold_th:\n",
    "            n_class_words[ncw_labels[1]].append(word)\n",
    "        elif get_FoldDifference(apps[2], apps[3], freq_threshold=freq_th) >= fold_th:\n",
    "            n_class_words[ncw_labels[2]].append(word)\n",
    "        elif get_FoldDifference(apps[3], apps[4], freq_threshold=freq_th) >= fold_th:\n",
    "            n_class_words[ncw_labels[3]].append(word)\n",
    "        elif get_FoldDifference(apps[4], apps[5], freq_threshold=freq_th) >= fold_th:\n",
    "            n_class_words[ncw_labels[4]].append(word)\n",
    "        elif get_FoldDifference(apps[5], apps[6], freq_threshold=freq_th) >= fold_th:\n",
    "            n_class_words[ncw_labels[5]].append(word)\n",
    "        elif get_FoldDifference(apps[6], apps[7], freq_threshold=freq_th) >= fold_th:\n",
    "            n_class_words[ncw_labels[6]].append(word)\n",
    "        elif get_FoldDifference(apps[7], apps[8], freq_threshold=freq_th) >= fold_th:\n",
    "            n_class_words[ncw_labels[7]].append(word)\n",
    "        else:\n",
    "            n_class_words[ncw_labels[8]].append(word)\n",
    "    \n",
    "    # Remove a list of words from one-class words\n",
    "    one_class_remove_list = ['bunkyo', 'commonest', 'commonplac', 'concret', 'consol',\n",
    "                             'conspicu', 'credenc', 'damage—unlik', 'drew', 'enumer', 'logo', \n",
    "                             'graduat','ibaraki', 'joshi', 'kaneda', 'kurumizaka', 'lesson', \n",
    "                             'matsui', 'minami', 'minato', 'montreal', 'newyork', 'ontario', \n",
    "                             'shirokanedai', 'sinai', 'taipei', 'wake', 'wise', 'yokohama']\n",
    "    n_class_words['one_class_words'] = [word for word in n_class_words['one_class_words'] if len(word) > 2]\n",
    "    \n",
    "    if print_result:\n",
    "        print('======== n-class words extractions by fold differecne ========')\n",
    "        print('Fold Threshold = %f' % fold_th)\n",
    "        print('Frequency Threshold = %f' % freq_th)\n",
    "        total = 0\n",
    "        for i in range(9):\n",
    "            print('# of words in %s: %d' % (ncw_labels[i], len(n_class_words[ncw_labels[i]])))\n",
    "            total += len(n_class_words[ncw_labels[i]])\n",
    "        print('Total # of words: %d' % total)\n",
    "    \n",
    "    return n_class_words"
   ]
  },
  {
   "cell_type": "code",
   "execution_count": null,
   "metadata": {
    "collapsed": true
   },
   "outputs": [],
   "source": []
  },
  {
   "cell_type": "markdown",
   "metadata": {},
   "source": [
    "# 2. Extraction by exclusive appearance in certain classes\n",
    "(<a href='#sec0'>Back to top</a>)"
   ]
  },
  {
   "cell_type": "code",
   "execution_count": null,
   "metadata": {
    "collapsed": true
   },
   "outputs": [],
   "source": [
    "def get_nClassWords_byApp(frac_docs, freq_threshold, print_result=True):\n",
    "    '''\n",
    "    This function looks at each word in each doc in the 'docs' and creates \n",
    "    a list containing frequency of appearance ('apps') for each class. Then,\n",
    "    the number of non-zero freqs in the list is counted. That number is used\n",
    "    to classified the word as n-class word. In this case, n-class word is a\n",
    "    word that appears only in n number of classes. freq_threshold parameter \n",
    "    is a cutoff freq of app to decide whether to include the word or not in \n",
    "    the list. \n",
    "    \n",
    "    - Number of classes are assumed to be 9.\n",
    "    \n",
    "    INPUTS:\n",
    "    ========\n",
    "    frac_docs : list of lists\n",
    "        A list of lists containing fractions of docs a word appears in the class\n",
    "    \n",
    "    OUTPUTS:\n",
    "    ========\n",
    "    n_class_words : dictionary\n",
    "        A dictionary whose keys are n-class_word labels. Values a lists of words\n",
    "        in each of n classes of words\n",
    "        \n",
    "    '''\n",
    "    freq_th = freq_threshold\n",
    "\n",
    "    ncw_labels = ['one_class_words', 'two_class_words', 'three_class_words', \n",
    "                  'four_class_words', 'five_class_words', 'six_class_words', \n",
    "                  'seven_class_words', 'eight_class_words','other_words']\n",
    "\n",
    "    # Create a new dictionary to contain each n-class of words in list formats\n",
    "    n_class_words = {}\n",
    "    for i in range(9):\n",
    "        n_class_words[ncw_labels[i]] = []\n",
    "\n",
    "    # Get words for each n-class of words\n",
    "    for j, word in enumerate(frac_docs.index):\n",
    "        apps = np.array(frac_docs.loc[word])\n",
    "        num_nonzeros = np.count_nonzero(apps)\n",
    "        if np.min(apps[nonzero(apps)]) >= freq_th:\n",
    "            n_class_words[ncw_labels[(num_nonzeros-1)]].append(word)\n",
    "        else:\n",
    "            n_class_words[ncw_labels[8]].append(word)\n",
    "    \n",
    "    # Remove a list of words from one-class words\n",
    "    one_class_remove_list = ['bunkyo', 'commonest', 'commonplac', 'concret', 'consol',\n",
    "                             'conspicu', 'credenc', 'damage—unlik', 'drew', 'enumer', 'logo', \n",
    "                             'graduat','ibaraki', 'joshi', 'kaneda', 'kurumizaka', 'lesson', \n",
    "                             'matsui', 'minami', 'minato', 'montreal', 'newyork', 'ontario', \n",
    "                             'shirokanedai', 'sinai', 'taipei', 'wake', 'wise', 'yokohama']\n",
    "    n_class_words['one_class_words'] = [word for word in n_class_words['one_class_words'] if len(word) > 2]\n",
    "    \n",
    "    if print_result:\n",
    "        print('======== n-class words extractions by appearances ========')\n",
    "        print('Frequency Threshold = %f' % freq_th)\n",
    "        total = 0\n",
    "        for i in range(9):\n",
    "            print('# of words in %s: %d' % (ncw_labels[i], len(n_class_words[ncw_labels[i]])))\n",
    "            total += len(n_class_words[ncw_labels[i]])\n",
    "        print('Total # of words: %d' % total)\n",
    "    \n",
    "    return n_class_words"
   ]
  },
  {
   "cell_type": "code",
   "execution_count": null,
   "metadata": {
    "collapsed": true
   },
   "outputs": [],
   "source": []
  },
  {
   "cell_type": "markdown",
   "metadata": {},
   "source": [
    "# 3. Extraction by per-doc appearance fold difference between classes\n",
    "(<a href='#sec0'>Back to top</a>)"
   ]
  },
  {
   "cell_type": "code",
   "execution_count": null,
   "metadata": {
    "collapsed": true
   },
   "outputs": [],
   "source": []
  },
  {
   "cell_type": "code",
   "execution_count": null,
   "metadata": {
    "collapsed": true
   },
   "outputs": [],
   "source": []
  },
  {
   "cell_type": "markdown",
   "metadata": {},
   "source": [
    "# 4. Extraction by per-doc appearance number difference between classes\n",
    "(<a href='#sec0'>Back to top</a>)"
   ]
  },
  {
   "cell_type": "code",
   "execution_count": null,
   "metadata": {
    "collapsed": true
   },
   "outputs": [],
   "source": []
  },
  {
   "cell_type": "code",
   "execution_count": null,
   "metadata": {
    "collapsed": true
   },
   "outputs": [],
   "source": []
  },
  {
   "cell_type": "code",
   "execution_count": null,
   "metadata": {
    "collapsed": true
   },
   "outputs": [],
   "source": []
  }
 ],
 "metadata": {
  "kernelspec": {
   "display_name": "Python 3",
   "language": "python",
   "name": "python3"
  },
  "language_info": {
   "codemirror_mode": {
    "name": "ipython",
    "version": 3
   },
   "file_extension": ".py",
   "mimetype": "text/x-python",
   "name": "python",
   "nbconvert_exporter": "python",
   "pygments_lexer": "ipython3",
   "version": "3.6.1"
  }
 },
 "nbformat": 4,
 "nbformat_minor": 2
}
