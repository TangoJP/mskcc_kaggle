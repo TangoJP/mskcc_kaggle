{
 "cells": [
  {
   "cell_type": "markdown",
   "metadata": {},
   "source": [
    "# Use Gensim to vectorize features2"
   ]
  },
  {
   "cell_type": "code",
   "execution_count": 1,
   "metadata": {},
   "outputs": [
    {
     "name": "stderr",
     "output_type": "stream",
     "text": [
      "Using TensorFlow backend.\n",
      "/usr/lib64/python3.6/site-packages/scipy/sparse/sparsetools.py:20: DeprecationWarning: `scipy.sparse.sparsetools` is deprecated!\n",
      "scipy.sparse.sparsetools is a private module for scipy.sparse, and should not be used.\n",
      "  _deprecated()\n",
      "Slow version of gensim.models.doc2vec is being used\n"
     ]
    }
   ],
   "source": [
    "import numpy as np\n",
    "import pandas as pd\n",
    "import matplotlib.pyplot as plt\n",
    "import seaborn as sns\n",
    "import re\n",
    "import random\n",
    "import numexpr as ne\n",
    "import mskcc_functions as ski\n",
    "import scipy.stats as scs\n",
    "import feature_engineering as fe\n",
    "import xgboost as xgb\n",
    "\n",
    "from xgboost import plot_importance\n",
    "from pprint import pprint\n",
    "from matplotlib  import cm\n",
    "from collections import Counter\n",
    "from importlib import reload\n",
    "from gensim import corpora, matutils, models, similarities\n",
    "from nltk import PorterStemmer\n",
    "from nltk.tokenize import word_tokenize\n",
    "from nltk.corpus import stopwords\n",
    "from sklearn.preprocessing import OneHotEncoder, LabelEncoder\n",
    "from sklearn.preprocessing import scale, normalize, robust_scale\n",
    "from sklearn.model_selection import train_test_split\n",
    "from sklearn.ensemble import RandomForestClassifier\n",
    "from sklearn.metrics import accuracy_score, log_loss\n",
    "from sklearn.feature_selection import SelectFromModel\n",
    "from sklearn.decomposition import PCA\n",
    "\n",
    "sns.set_context(\"paper\")\n",
    "%matplotlib inline"
   ]
  },
  {
   "cell_type": "code",
   "execution_count": 2,
   "metadata": {},
   "outputs": [
    {
     "name": "stderr",
     "output_type": "stream",
     "text": [
      "<input>:2: DeprecationWarning: invalid escape sequence \\|\n",
      "<input>:2: DeprecationWarning: invalid escape sequence \\|\n",
      "<input>:2: DeprecationWarning: invalid escape sequence \\|\n",
      "<ipython-input-2-4467bb76c423>:2: DeprecationWarning: invalid escape sequence \\|\n",
      "  text_train = pd.read_csv(\"./data/training_text\", sep=\"\\|\\|\", engine='python',\n"
     ]
    }
   ],
   "source": [
    "class_train = pd.read_csv('./data/training_variants')\n",
    "text_train = pd.read_csv(\"./data/training_text\", sep=\"\\|\\|\", engine='python',\n",
    "                         header=None, skiprows=1, names=[\"ID\",\"Text\"])"
   ]
  },
  {
   "cell_type": "code",
   "execution_count": 3,
   "metadata": {
    "collapsed": true
   },
   "outputs": [],
   "source": [
    "feature_words1= pd.read_csv('./data/features_pass1_subset1.csv', header=None)\n",
    "feature_words1 = list(feature_words1[0])\n",
    "feature_words2 = list(set(class_train['Gene']))\n",
    "feature_words = feature_words1 + feature_words2\n",
    "print(len(feature_words))"
   ]
  },
  {
   "cell_type": "code",
   "execution_count": 4,
   "metadata": {
    "collapsed": true
   },
   "outputs": [],
   "source": [
    "my_dict = corpora.Dictionary([feature_words])"
   ]
  },
  {
   "cell_type": "code",
   "execution_count": 5,
   "metadata": {},
   "outputs": [
    {
     "name": "stdout",
     "output_type": "stream",
     "text": [
      "3321\n",
      "3321\n",
      "CPU times: user 1min 52s, sys: 535 ms, total: 1min 53s\n",
      "Wall time: 1min 53s\n"
     ]
    }
   ],
   "source": [
    "%%time\n",
    "documents = []\n",
    "tokenized_documents = []\n",
    "for i in range(len(text_train)):\n",
    "    doc= text_train['Text'].iloc[i]\n",
    "    tokenized_doc = word_tokenize(fe.replace_with_whitespace(doc, hyphens='on'))\n",
    "    \n",
    "    documents.append(doc)\n",
    "    tokenized_documents.append(tokenized_doc)\n",
    "\n",
    "print(len(documents))     # double checking length\n",
    "print(len(tokenized_documents))     # double checking length"
   ]
  },
  {
   "cell_type": "code",
   "execution_count": 6,
   "metadata": {},
   "outputs": [
    {
     "name": "stdout",
     "output_type": "stream",
     "text": [
      "CPU times: user 2 µs, sys: 0 ns, total: 2 µs\n",
      "Wall time: 3.34 µs\n"
     ]
    }
   ],
   "source": [
    "%time\n",
    "corpus = [my_dict.doc2bow(token) for token in tokenized_documents]\n",
    "tfidf = models.TfidfModel(corpus)\n",
    "corpus_tfidf = tfidf[corpus]"
   ]
  },
  {
   "cell_type": "code",
   "execution_count": 7,
   "metadata": {
    "collapsed": true
   },
   "outputs": [],
   "source": [
    "feature_matrix = matutils.corpus2dense(corpus_tfidf, num_terms=len(feature_words), num_docs=len(corpus_tfidf)).T"
   ]
  },
  {
   "cell_type": "code",
   "execution_count": 8,
   "metadata": {
    "collapsed": true
   },
   "outputs": [],
   "source": [
    "pd.DataFrame(feature_matrix).to_csv('./data/feature_matrix_pass1_subset2.csv', index=False)"
   ]
  },
  {
   "cell_type": "markdown",
   "metadata": {},
   "source": [
    "<b>Try RFC</b>"
   ]
  },
  {
   "cell_type": "code",
   "execution_count": 9,
   "metadata": {
    "collapsed": true
   },
   "outputs": [],
   "source": [
    "# Import Data and extract gene and mutation type info\n",
    "# Get Gene feature from 'train_variants' data\n",
    "X_gene = np.array(class_train.Gene)\n",
    "X_gene_int = LabelEncoder().fit_transform(X_gene.ravel()).reshape(-1, 1)\n",
    "X_gene_bin = OneHotEncoder().fit_transform(X_gene_int).toarray()\n",
    "gene_table = pd.DataFrame(X_gene_bin)\n",
    "\n",
    "# Get Mutation Type from 'train_variants' data\n",
    "mut_type = ski.convert_mutation_type(class_train)\n",
    "X_mtype = np.array(mut_type['mutation_type'])\n",
    "X_mtype_int = LabelEncoder().fit_transform(X_mtype.ravel()).reshape(-1, 1)\n",
    "X_mtype_bin = OneHotEncoder().fit_transform(X_mtype_int).toarray()\n",
    "mtype_table = pd.DataFrame(X_mtype_bin)\n",
    "\n",
    "feat_mat = pd.DataFrame(feature_matrix)"
   ]
  },
  {
   "cell_type": "code",
   "execution_count": 10,
   "metadata": {},
   "outputs": [
    {
     "data": {
      "text/plain": [
       "(3321, 926)"
      ]
     },
     "execution_count": 10,
     "metadata": {},
     "output_type": "execute_result"
    }
   ],
   "source": [
    "feat_mat.shape"
   ]
  },
  {
   "cell_type": "code",
   "execution_count": 21,
   "metadata": {},
   "outputs": [
    {
     "name": "stdout",
     "output_type": "stream",
     "text": [
      "(3321, 1207)\n"
     ]
    }
   ],
   "source": [
    "features = pd.concat([gene_table, mtype_table, feat_mat], axis=1)\n",
    "print(features.shape)\n",
    "X = np.array(features).astype(float)\n",
    "y = np.array(class_train.Class).astype(int).ravel()\n",
    "X_train, X_test, y_train, y_test = train_test_split(X, y, test_size=0.15)"
   ]
  },
  {
   "cell_type": "code",
   "execution_count": 25,
   "metadata": {},
   "outputs": [
    {
     "name": "stdout",
     "output_type": "stream",
     "text": [
      "0.665330661323\n",
      "1.95702729308\n",
      "CPU times: user 1.4 s, sys: 8.93 ms, total: 1.41 s\n",
      "Wall time: 672 ms\n"
     ]
    }
   ],
   "source": [
    "%%time\n",
    "# Run RFC on the data\n",
    "rfc = RandomForestClassifier(n_estimators=100, max_depth=100, n_jobs=4)\n",
    "rfc.fit(X_train, y_train)\n",
    "y_pred = rfc.predict(X_test)\n",
    "y_proba = rfc.predict_proba(X_test)\n",
    "print(accuracy_score(y_test, y_pred))\n",
    "print(log_loss(y_test, y_proba, labels=list(range(1, 10))))"
   ]
  },
  {
   "cell_type": "markdown",
   "metadata": {},
   "source": [
    "<b>XGBoost</b>"
   ]
  },
  {
   "cell_type": "code",
   "execution_count": 22,
   "metadata": {
    "scrolled": false
   },
   "outputs": [
    {
     "name": "stdout",
     "output_type": "stream",
     "text": [
      "========== Iteration 1/3 ==========\n",
      "[0]\ttrain-mlogloss:2.09692\tvalid-mlogloss:2.11001\n",
      "Multiple eval metrics have been passed: 'valid-mlogloss' will be used for early stopping.\n",
      "\n",
      "Will train until valid-mlogloss hasn't improved in 100 rounds.\n",
      "Stopping. Best iteration:\n",
      "[127]\ttrain-mlogloss:0.417304\tvalid-mlogloss:0.96791\n",
      "\n",
      "========== Iteration 2/3 ==========\n",
      "[0]\ttrain-mlogloss:2.09823\tvalid-mlogloss:2.11429\n",
      "Multiple eval metrics have been passed: 'valid-mlogloss' will be used for early stopping.\n",
      "\n",
      "Will train until valid-mlogloss hasn't improved in 100 rounds.\n",
      "Stopping. Best iteration:\n",
      "[101]\ttrain-mlogloss:0.434427\tvalid-mlogloss:0.994831\n",
      "\n",
      "========== Iteration 3/3 ==========\n",
      "[0]\ttrain-mlogloss:2.09746\tvalid-mlogloss:2.11314\n",
      "Multiple eval metrics have been passed: 'valid-mlogloss' will be used for early stopping.\n",
      "\n",
      "Will train until valid-mlogloss hasn't improved in 100 rounds.\n",
      "Stopping. Best iteration:\n",
      "[193]\ttrain-mlogloss:0.407188\tvalid-mlogloss:0.966542\n",
      "\n",
      "Average mlogloss: 0.976428\n",
      "CPU times: user 21min 20s, sys: 148 ms, total: 21min 20s\n",
      "Wall time: 5min 21s\n"
     ]
    },
    {
     "data": {
      "image/png": "[encoded data removed]",
      "text/plain": [
       "<matplotlib.figure.Figure at 0x7f09eaf43fd0>"
      ]
     },
     "metadata": {},
     "output_type": "display_data"
    }
   ],
   "source": [
    "%%time\n",
    "# Adjust the class labels so it starts with 0\n",
    "y_adj = y-1\n",
    "\n",
    "scores = []\n",
    "\n",
    "iteration = 3\n",
    "for i in range(iteration):\n",
    "    print('========== Iteration %d/%d ==========' % (i+1, iteration))\n",
    "    \n",
    "    # Split into test and train randomly, every iteration\n",
    "    x1, x2, y1, y2 = train_test_split(X, y_adj, test_size=0.15)\n",
    "    \n",
    "    # Set up parameters for xgboost\n",
    "    params = {\n",
    "            'eta': 0.1,\n",
    "            'gamma': 0.8,\n",
    "            'max_delta_step': 1,\n",
    "            'max_depth': 12,\n",
    "            'min_child_weight': 1,\n",
    "            'objective': 'multi:softprob',\n",
    "            'eval_metric': 'mlogloss',\n",
    "            'num_class': 9,\n",
    "            'seed': 1,\n",
    "            'silent': True,\n",
    "            'nthread' :4\n",
    "            }\n",
    "\n",
    "    watchlist = [(xgb.DMatrix(x1, y1), 'train'), (xgb.DMatrix(x2, y2), 'valid')]\n",
    "\n",
    "    model = xgb.train(params, xgb.DMatrix(x1, y1), 500,  watchlist, \n",
    "                      verbose_eval=500, early_stopping_rounds=100)\n",
    "\n",
    "    score = log_loss(y2, model.predict(xgb.DMatrix(x2), \n",
    "                     ntree_limit=model.best_ntree_limit), \n",
    "                     labels = list(range(9)))\n",
    "    scores.append(score)\n",
    "    #print(score)\n",
    "          \n",
    "print(\"Average mlogloss: %f\" % np.mean(scores))\n",
    "plot_importance(model)"
   ]
  },
  {
   "cell_type": "code",
   "execution_count": 23,
   "metadata": {},
   "outputs": [
    {
     "data": {
      "text/plain": [
       "414"
      ]
     },
     "execution_count": 23,
     "metadata": {},
     "output_type": "execute_result"
    }
   ],
   "source": [
    "len(model.get_score())"
   ]
  },
  {
   "cell_type": "markdown",
   "metadata": {},
   "source": [
    "<b>Select features based on F-score, try classification</b>"
   ]
  },
  {
   "cell_type": "code",
   "execution_count": 26,
   "metadata": {},
   "outputs": [
    {
     "data": {
      "text/html": [
       "<div>\n",
       "<style>\n",
       "    .dataframe thead tr:only-child th {\n",
       "        text-align: right;\n",
       "    }\n",
       "\n",
       "    .dataframe thead th {\n",
       "        text-align: left;\n",
       "    }\n",
       "\n",
       "    .dataframe tbody tr th {\n",
       "        vertical-align: top;\n",
       "    }\n",
       "</style>\n",
       "<table border=\"1\" class=\"dataframe\">\n",
       "  <thead>\n",
       "    <tr style=\"text-align: right;\">\n",
       "      <th></th>\n",
       "      <th>0</th>\n",
       "    </tr>\n",
       "  </thead>\n",
       "  <tbody>\n",
       "    <tr>\n",
       "      <th>count</th>\n",
       "      <td>414.000000</td>\n",
       "    </tr>\n",
       "    <tr>\n",
       "      <th>mean</th>\n",
       "      <td>38.640097</td>\n",
       "    </tr>\n",
       "    <tr>\n",
       "      <th>std</th>\n",
       "      <td>65.337147</td>\n",
       "    </tr>\n",
       "    <tr>\n",
       "      <th>min</th>\n",
       "      <td>1.000000</td>\n",
       "    </tr>\n",
       "    <tr>\n",
       "      <th>25%</th>\n",
       "      <td>4.000000</td>\n",
       "    </tr>\n",
       "    <tr>\n",
       "      <th>50%</th>\n",
       "      <td>15.000000</td>\n",
       "    </tr>\n",
       "    <tr>\n",
       "      <th>75%</th>\n",
       "      <td>41.000000</td>\n",
       "    </tr>\n",
       "    <tr>\n",
       "      <th>80%</th>\n",
       "      <td>53.400000</td>\n",
       "    </tr>\n",
       "    <tr>\n",
       "      <th>90%</th>\n",
       "      <td>100.000000</td>\n",
       "    </tr>\n",
       "    <tr>\n",
       "      <th>max</th>\n",
       "      <td>471.000000</td>\n",
       "    </tr>\n",
       "  </tbody>\n",
       "</table>\n",
       "</div>"
      ],
      "text/plain": [
       "                0\n",
       "count  414.000000\n",
       "mean    38.640097\n",
       "std     65.337147\n",
       "min      1.000000\n",
       "25%      4.000000\n",
       "50%     15.000000\n",
       "75%     41.000000\n",
       "80%     53.400000\n",
       "90%    100.000000\n",
       "max    471.000000"
      ]
     },
     "execution_count": 26,
     "metadata": {},
     "output_type": "execute_result"
    }
   ],
   "source": [
    "fscores = pd.DataFrame([val for val in model.get_score().values()])\n",
    "fscores.describe(percentiles=[0.25, 0.5, 0.75, 0.8, 0.9])"
   ]
  },
  {
   "cell_type": "code",
   "execution_count": 32,
   "metadata": {},
   "outputs": [
    {
     "name": "stdout",
     "output_type": "stream",
     "text": [
      "Before selection (3321, 1207)\n",
      "After selection (3321, 212)\n"
     ]
    }
   ],
   "source": [
    "select_feat_ind = [int(key.replace('f', '')) for key, value in model.get_score().items() if value >=15]\n",
    "\n",
    "selectX1 = X[:, select_feat_ind]\n",
    "print('Before selection', X.shape)\n",
    "print('After selection', selectX1.shape)"
   ]
  },
  {
   "cell_type": "code",
   "execution_count": 33,
   "metadata": {},
   "outputs": [
    {
     "name": "stdout",
     "output_type": "stream",
     "text": [
      "========== Iteration 1/3 ==========\n",
      "[0]\ttrain-mlogloss:2.09545\tvalid-mlogloss:2.10798\n",
      "Multiple eval metrics have been passed: 'valid-mlogloss' will be used for early stopping.\n",
      "\n",
      "Will train until valid-mlogloss hasn't improved in 100 rounds.\n",
      "Stopping. Best iteration:\n",
      "[220]\ttrain-mlogloss:0.411025\tvalid-mlogloss:0.953514\n",
      "\n",
      "========== Iteration 2/3 ==========\n",
      "[0]\ttrain-mlogloss:2.09763\tvalid-mlogloss:2.10923\n",
      "Multiple eval metrics have been passed: 'valid-mlogloss' will be used for early stopping.\n",
      "\n",
      "Will train until valid-mlogloss hasn't improved in 100 rounds.\n",
      "Stopping. Best iteration:\n",
      "[124]\ttrain-mlogloss:0.432989\tvalid-mlogloss:0.919675\n",
      "\n",
      "========== Iteration 3/3 ==========\n",
      "[0]\ttrain-mlogloss:2.09672\tvalid-mlogloss:2.11437\n",
      "Multiple eval metrics have been passed: 'valid-mlogloss' will be used for early stopping.\n",
      "\n",
      "Will train until valid-mlogloss hasn't improved in 100 rounds.\n",
      "Stopping. Best iteration:\n",
      "[90]\ttrain-mlogloss:0.430952\tvalid-mlogloss:1.03524\n",
      "\n",
      "Average mlogloss: 0.969477\n",
      "CPU times: user 4min 15s, sys: 96.3 ms, total: 4min 15s\n",
      "Wall time: 1min 4s\n"
     ]
    },
    {
     "data": {
      "image/png": "[encoded data removed]",
      "text/plain": [
       "<matplotlib.figure.Figure at 0x7f09f0229d68>"
      ]
     },
     "metadata": {},
     "output_type": "display_data"
    }
   ],
   "source": [
    "%%time\n",
    "# Adjust the class labels so it starts with 0\n",
    "y_adj = y-1\n",
    "\n",
    "scores = []\n",
    "\n",
    "iteration = 3\n",
    "for i in range(iteration):\n",
    "    print('========== Iteration %d/%d ==========' % (i+1, iteration))\n",
    "    \n",
    "    # Split into test and train randomly, every iteration\n",
    "    x1, x2, y1, y2 = train_test_split(selectX1, y_adj, test_size=0.15)\n",
    "    \n",
    "    # Set up parameters for xgboost\n",
    "    params = {\n",
    "            'eta': 0.1,\n",
    "            'gamma': 0.8,\n",
    "            'max_delta_step': 1,\n",
    "            'max_depth': 12,\n",
    "            'min_child_weight': 1,\n",
    "            'objective': 'multi:softprob',\n",
    "            'eval_metric': 'mlogloss',\n",
    "            'num_class': 9,\n",
    "            'seed': 1,\n",
    "            'silent': True,\n",
    "            'nthread' :4\n",
    "            }\n",
    "\n",
    "    watchlist = [(xgb.DMatrix(x1, y1), 'train'), (xgb.DMatrix(x2, y2), 'valid')]\n",
    "\n",
    "    model2 = xgb.train(params, xgb.DMatrix(x1, y1), 500,  watchlist, \n",
    "                      verbose_eval=500, early_stopping_rounds=100)\n",
    "\n",
    "    score = log_loss(y2, model2.predict(xgb.DMatrix(x2), \n",
    "                     ntree_limit=model2.best_ntree_limit), \n",
    "                     labels = list(range(9)))\n",
    "    scores.append(score)\n",
    "          \n",
    "print(\"Average mlogloss: %f\" % np.mean(scores))\n",
    "plot_importance(model2)"
   ]
  },
  {
   "cell_type": "markdown",
   "metadata": {},
   "source": [
    "Repeat another round of cutting features in half"
   ]
  },
  {
   "cell_type": "code",
   "execution_count": 34,
   "metadata": {},
   "outputs": [
    {
     "data": {
      "text/html": [
       "<div>\n",
       "<style>\n",
       "    .dataframe thead tr:only-child th {\n",
       "        text-align: right;\n",
       "    }\n",
       "\n",
       "    .dataframe thead th {\n",
       "        text-align: left;\n",
       "    }\n",
       "\n",
       "    .dataframe tbody tr th {\n",
       "        vertical-align: top;\n",
       "    }\n",
       "</style>\n",
       "<table border=\"1\" class=\"dataframe\">\n",
       "  <thead>\n",
       "    <tr style=\"text-align: right;\">\n",
       "      <th></th>\n",
       "      <th>0</th>\n",
       "    </tr>\n",
       "  </thead>\n",
       "  <tbody>\n",
       "    <tr>\n",
       "      <th>count</th>\n",
       "      <td>208.000000</td>\n",
       "    </tr>\n",
       "    <tr>\n",
       "      <th>mean</th>\n",
       "      <td>72.456731</td>\n",
       "    </tr>\n",
       "    <tr>\n",
       "      <th>std</th>\n",
       "      <td>81.647694</td>\n",
       "    </tr>\n",
       "    <tr>\n",
       "      <th>min</th>\n",
       "      <td>1.000000</td>\n",
       "    </tr>\n",
       "    <tr>\n",
       "      <th>25%</th>\n",
       "      <td>23.750000</td>\n",
       "    </tr>\n",
       "    <tr>\n",
       "      <th>50%</th>\n",
       "      <td>41.000000</td>\n",
       "    </tr>\n",
       "    <tr>\n",
       "      <th>75%</th>\n",
       "      <td>86.250000</td>\n",
       "    </tr>\n",
       "    <tr>\n",
       "      <th>80%</th>\n",
       "      <td>99.000000</td>\n",
       "    </tr>\n",
       "    <tr>\n",
       "      <th>90%</th>\n",
       "      <td>189.600000</td>\n",
       "    </tr>\n",
       "    <tr>\n",
       "      <th>max</th>\n",
       "      <td>477.000000</td>\n",
       "    </tr>\n",
       "  </tbody>\n",
       "</table>\n",
       "</div>"
      ],
      "text/plain": [
       "                0\n",
       "count  208.000000\n",
       "mean    72.456731\n",
       "std     81.647694\n",
       "min      1.000000\n",
       "25%     23.750000\n",
       "50%     41.000000\n",
       "75%     86.250000\n",
       "80%     99.000000\n",
       "90%    189.600000\n",
       "max    477.000000"
      ]
     },
     "execution_count": 34,
     "metadata": {},
     "output_type": "execute_result"
    }
   ],
   "source": [
    "fscores2 = pd.DataFrame([val for val in model2.get_score().values()])\n",
    "fscores2.describe(percentiles=[0.25, 0.5, 0.75, 0.8, 0.9])"
   ]
  },
  {
   "cell_type": "code",
   "execution_count": 35,
   "metadata": {},
   "outputs": [
    {
     "name": "stdout",
     "output_type": "stream",
     "text": [
      "Before selection (3321, 1207)\n",
      "After selection (3321, 105)\n"
     ]
    }
   ],
   "source": [
    "select_feat_ind2 = [int(key.replace('f', '')) for key, value in model.get_score().items() if value >=41]\n",
    "\n",
    "selectX2 = X[:, select_feat_ind2]\n",
    "print('Before selection', X.shape)\n",
    "print('After selection', selectX2.shape)"
   ]
  },
  {
   "cell_type": "code",
   "execution_count": 36,
   "metadata": {},
   "outputs": [
    {
     "name": "stdout",
     "output_type": "stream",
     "text": [
      "========== Iteration 1/3 ==========\n",
      "[0]\ttrain-mlogloss:2.09728\tvalid-mlogloss:2.1117\n",
      "Multiple eval metrics have been passed: 'valid-mlogloss' will be used for early stopping.\n",
      "\n",
      "Will train until valid-mlogloss hasn't improved in 100 rounds.\n",
      "Stopping. Best iteration:\n",
      "[102]\ttrain-mlogloss:0.425823\tvalid-mlogloss:1.03036\n",
      "\n",
      "========== Iteration 2/3 ==========\n",
      "[0]\ttrain-mlogloss:2.09554\tvalid-mlogloss:2.10715\n",
      "Multiple eval metrics have been passed: 'valid-mlogloss' will be used for early stopping.\n",
      "\n",
      "Will train until valid-mlogloss hasn't improved in 100 rounds.\n",
      "Stopping. Best iteration:\n",
      "[137]\ttrain-mlogloss:0.439815\tvalid-mlogloss:0.925277\n",
      "\n",
      "========== Iteration 3/3 ==========\n",
      "[0]\ttrain-mlogloss:2.09564\tvalid-mlogloss:2.11498\n",
      "Multiple eval metrics have been passed: 'valid-mlogloss' will be used for early stopping.\n",
      "\n",
      "Will train until valid-mlogloss hasn't improved in 100 rounds.\n",
      "Stopping. Best iteration:\n",
      "[121]\ttrain-mlogloss:0.428505\tvalid-mlogloss:1.02045\n",
      "\n",
      "Average mlogloss: 0.992029\n",
      "CPU times: user 2min 4s, sys: 65.9 ms, total: 2min 4s\n",
      "Wall time: 31.4 s\n"
     ]
    },
    {
     "data": {
      "image/png": "[encoded data removed]",
      "text/plain": [
       "<matplotlib.figure.Figure at 0x7f09f157f438>"
      ]
     },
     "metadata": {},
     "output_type": "display_data"
    }
   ],
   "source": [
    "%%time\n",
    "# Adjust the class labels so it starts with 0\n",
    "y_adj = y-1\n",
    "\n",
    "scores = []\n",
    "\n",
    "iteration = 3\n",
    "for i in range(iteration):\n",
    "    print('========== Iteration %d/%d ==========' % (i+1, iteration))\n",
    "    \n",
    "    # Split into test and train randomly, every iteration\n",
    "    x1, x2, y1, y2 = train_test_split(selectX2, y_adj, test_size=0.15)\n",
    "    \n",
    "    # Set up parameters for xgboost\n",
    "    params = {\n",
    "            'eta': 0.1,\n",
    "            'gamma': 0.8,\n",
    "            'max_delta_step': 1,\n",
    "            'max_depth': 12,\n",
    "            'min_child_weight': 1,\n",
    "            'objective': 'multi:softprob',\n",
    "            'eval_metric': 'mlogloss',\n",
    "            'num_class': 9,\n",
    "            'seed': 1,\n",
    "            'silent': True,\n",
    "            'nthread' :4\n",
    "            }\n",
    "\n",
    "    watchlist = [(xgb.DMatrix(x1, y1), 'train'), (xgb.DMatrix(x2, y2), 'valid')]\n",
    "\n",
    "    model2 = xgb.train(params, xgb.DMatrix(x1, y1), 500,  watchlist, \n",
    "                      verbose_eval=500, early_stopping_rounds=100)\n",
    "\n",
    "    score = log_loss(y2, model2.predict(xgb.DMatrix(x2), \n",
    "                     ntree_limit=model2.best_ntree_limit), \n",
    "                     labels = list(range(9)))\n",
    "    scores.append(score)\n",
    "          \n",
    "print(\"Average mlogloss: %f\" % np.mean(scores))\n",
    "plot_importance(model2)"
   ]
  },
  {
   "cell_type": "markdown",
   "metadata": {
    "collapsed": true
   },
   "source": [
    "Alternatively, get the best 20% from the first model"
   ]
  },
  {
   "cell_type": "code",
   "execution_count": 48,
   "metadata": {},
   "outputs": [
    {
     "name": "stdout",
     "output_type": "stream",
     "text": [
      "Before selection (3321, 1207)\n",
      "After selection (3321, 85)\n"
     ]
    }
   ],
   "source": [
    "select_feat_ind3 = [int(key.replace('f', '')) for key, value in model.get_score().items() if value >=53]\n",
    "\n",
    "selectX3 = X[:, select_feat_ind3]\n",
    "print('Before selection', X.shape)\n",
    "print('After selection', selectX3.shape)"
   ]
  },
  {
   "cell_type": "code",
   "execution_count": 49,
   "metadata": {},
   "outputs": [
    {
     "name": "stdout",
     "output_type": "stream",
     "text": [
      "========== Iteration 1/3 ==========\n",
      "[0]\ttrain-mlogloss:2.09745\tvalid-mlogloss:2.10939\n",
      "Multiple eval metrics have been passed: 'valid-mlogloss' will be used for early stopping.\n",
      "\n",
      "Will train until valid-mlogloss hasn't improved in 100 rounds.\n",
      "Stopping. Best iteration:\n",
      "[94]\ttrain-mlogloss:0.448865\tvalid-mlogloss:0.970958\n",
      "\n",
      "========== Iteration 2/3 ==========\n",
      "[0]\ttrain-mlogloss:2.09797\tvalid-mlogloss:2.11036\n",
      "Multiple eval metrics have been passed: 'valid-mlogloss' will be used for early stopping.\n",
      "\n",
      "Will train until valid-mlogloss hasn't improved in 100 rounds.\n",
      "Stopping. Best iteration:\n",
      "[111]\ttrain-mlogloss:0.421153\tvalid-mlogloss:0.94592\n",
      "\n",
      "========== Iteration 3/3 ==========\n",
      "[0]\ttrain-mlogloss:2.09678\tvalid-mlogloss:2.11148\n",
      "Multiple eval metrics have been passed: 'valid-mlogloss' will be used for early stopping.\n",
      "\n",
      "Will train until valid-mlogloss hasn't improved in 100 rounds.\n",
      "Stopping. Best iteration:\n",
      "[80]\ttrain-mlogloss:0.461255\tvalid-mlogloss:0.99161\n",
      "\n",
      "Average mlogloss: 0.969496\n",
      "CPU times: user 1min 36s, sys: 79.5 ms, total: 1min 36s\n",
      "Wall time: 24.4 s\n"
     ]
    },
    {
     "data": {
      "image/png": "[encoded data removed]",
      "text/plain": [
       "<matplotlib.figure.Figure at 0x7f09f02c5be0>"
      ]
     },
     "metadata": {},
     "output_type": "display_data"
    }
   ],
   "source": [
    "%%time\n",
    "# Adjust the class labels so it starts with 0\n",
    "y_adj = y-1\n",
    "\n",
    "scores = []\n",
    "\n",
    "iteration = 3\n",
    "for i in range(iteration):\n",
    "    print('========== Iteration %d/%d ==========' % (i+1, iteration))\n",
    "    \n",
    "    # Split into test and train randomly, every iteration\n",
    "    x1, x2, y1, y2 = train_test_split(selectX3, y_adj, test_size=0.15)\n",
    "    \n",
    "    # Set up parameters for xgboost\n",
    "    params = {\n",
    "            'eta': 0.1,\n",
    "            'gamma': 0.8,\n",
    "            'max_delta_step': 1,\n",
    "            'max_depth': 12,\n",
    "            'min_child_weight': 1,\n",
    "            'objective': 'multi:softprob',\n",
    "            'eval_metric': 'mlogloss',\n",
    "            'num_class': 9,\n",
    "            'seed': 1,\n",
    "            'silent': True,\n",
    "            'nthread' :4\n",
    "            }\n",
    "\n",
    "    watchlist = [(xgb.DMatrix(x1, y1), 'train'), (xgb.DMatrix(x2, y2), 'valid')]\n",
    "\n",
    "    model2 = xgb.train(params, xgb.DMatrix(x1, y1), 500,  watchlist, \n",
    "                      verbose_eval=500, early_stopping_rounds=100)\n",
    "\n",
    "    score = log_loss(y2, model2.predict(xgb.DMatrix(x2), \n",
    "                     ntree_limit=model2.best_ntree_limit), \n",
    "                     labels = list(range(9)))\n",
    "    scores.append(score)\n",
    "          \n",
    "print(\"Average mlogloss: %f\" % np.mean(scores))\n",
    "plot_importance(model2)"
   ]
  },
  {
   "cell_type": "code",
   "execution_count": null,
   "metadata": {
    "collapsed": true
   },
   "outputs": [],
   "source": []
  },
  {
   "cell_type": "code",
   "execution_count": null,
   "metadata": {
    "collapsed": true
   },
   "outputs": [],
   "source": []
  }
 ],
 "metadata": {
  "kernelspec": {
   "display_name": "Python 3",
   "language": "python",
   "name": "python3"
  },
  "language_info": {
   "codemirror_mode": {
    "name": "ipython",
    "version": 3
   },
   "file_extension": ".py",
   "mimetype": "text/x-python",
   "name": "python",
   "nbconvert_exporter": "python",
   "pygments_lexer": "ipython3",
   "version": "3.6.2"
  }
 },
 "nbformat": 4,
 "nbformat_minor": 2
}
