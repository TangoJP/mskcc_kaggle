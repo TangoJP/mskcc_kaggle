{
 "cells": [
  {
   "cell_type": "markdown",
   "metadata": {},
   "source": [
    "<a id='sec0'></a>\n",
    "# Text Analysis\n",
    "- Importing Data\n",
    "- <a href='#sec1'>Exemplary Text Analysis for Row3</a>\n",
    "- <a href='#sec2'></a>\n",
    "- <a href='#sec3'></a>\n",
    "- <a href='#sec4'></a>"
   ]
  },
  {
   "cell_type": "code",
   "execution_count": 1,
   "metadata": {},
   "outputs": [],
   "source": [
    "import numpy as np\n",
    "import pandas as pd\n",
    "import matplotlib.pyplot as plt\n",
    "import seaborn as sns\n",
    "import re\n",
    "\n",
    "from nltk import PorterStemmer\n",
    "from nltk.tokenize import word_tokenize\n",
    "from nltk.corpus import stopwords\n",
    "\n",
    "sns.set_context(\"paper\")\n",
    "%matplotlib inline"
   ]
  },
  {
   "cell_type": "markdown",
   "metadata": {},
   "source": [
    "<b>Importing train_text</b>"
   ]
  },
  {
   "cell_type": "code",
   "execution_count": 116,
   "metadata": {
    "collapsed": true
   },
   "outputs": [],
   "source": [
    "class_train = pd.read_csv('train_variants')\n",
    "text_train = pd.read_csv(\"train_text\", sep=\"\\|\\|\", engine='python', header=None, skiprows=1, names=[\"ID\",\"Text\"])"
   ]
  },
  {
   "cell_type": "code",
   "execution_count": 117,
   "metadata": {},
   "outputs": [
    {
     "data": {
      "text/html": [
       "<div>\n",
       "<style>\n",
       "    .dataframe thead tr:only-child th {\n",
       "        text-align: right;\n",
       "    }\n",
       "\n",
       "    .dataframe thead th {\n",
       "        text-align: left;\n",
       "    }\n",
       "\n",
       "    .dataframe tbody tr th {\n",
       "        vertical-align: top;\n",
       "    }\n",
       "</style>\n",
       "<table border=\"1\" class=\"dataframe\">\n",
       "  <thead>\n",
       "    <tr style=\"text-align: right;\">\n",
       "      <th></th>\n",
       "      <th>ID</th>\n",
       "      <th>Gene</th>\n",
       "      <th>Variation</th>\n",
       "      <th>Class</th>\n",
       "    </tr>\n",
       "  </thead>\n",
       "  <tbody>\n",
       "    <tr>\n",
       "      <th>0</th>\n",
       "      <td>0</td>\n",
       "      <td>FAM58A</td>\n",
       "      <td>Truncating Mutations</td>\n",
       "      <td>1</td>\n",
       "    </tr>\n",
       "    <tr>\n",
       "      <th>1</th>\n",
       "      <td>1</td>\n",
       "      <td>CBL</td>\n",
       "      <td>W802*</td>\n",
       "      <td>2</td>\n",
       "    </tr>\n",
       "    <tr>\n",
       "      <th>2</th>\n",
       "      <td>2</td>\n",
       "      <td>CBL</td>\n",
       "      <td>Q249E</td>\n",
       "      <td>2</td>\n",
       "    </tr>\n",
       "    <tr>\n",
       "      <th>3</th>\n",
       "      <td>3</td>\n",
       "      <td>CBL</td>\n",
       "      <td>N454D</td>\n",
       "      <td>3</td>\n",
       "    </tr>\n",
       "    <tr>\n",
       "      <th>4</th>\n",
       "      <td>4</td>\n",
       "      <td>CBL</td>\n",
       "      <td>L399V</td>\n",
       "      <td>4</td>\n",
       "    </tr>\n",
       "  </tbody>\n",
       "</table>\n",
       "</div>"
      ],
      "text/plain": [
       "   ID    Gene             Variation  Class\n",
       "0   0  FAM58A  Truncating Mutations      1\n",
       "1   1     CBL                 W802*      2\n",
       "2   2     CBL                 Q249E      2\n",
       "3   3     CBL                 N454D      3\n",
       "4   4     CBL                 L399V      4"
      ]
     },
     "execution_count": 117,
     "metadata": {},
     "output_type": "execute_result"
    }
   ],
   "source": [
    "class_train.head()"
   ]
  },
  {
   "cell_type": "code",
   "execution_count": 118,
   "metadata": {},
   "outputs": [
    {
     "data": {
      "text/html": [
       "<div>\n",
       "<style>\n",
       "    .dataframe thead tr:only-child th {\n",
       "        text-align: right;\n",
       "    }\n",
       "\n",
       "    .dataframe thead th {\n",
       "        text-align: left;\n",
       "    }\n",
       "\n",
       "    .dataframe tbody tr th {\n",
       "        vertical-align: top;\n",
       "    }\n",
       "</style>\n",
       "<table border=\"1\" class=\"dataframe\">\n",
       "  <thead>\n",
       "    <tr style=\"text-align: right;\">\n",
       "      <th></th>\n",
       "      <th>ID</th>\n",
       "      <th>Text</th>\n",
       "    </tr>\n",
       "  </thead>\n",
       "  <tbody>\n",
       "    <tr>\n",
       "      <th>0</th>\n",
       "      <td>0</td>\n",
       "      <td>Cyclin-dependent kinases (CDKs) regulate a var...</td>\n",
       "    </tr>\n",
       "    <tr>\n",
       "      <th>1</th>\n",
       "      <td>1</td>\n",
       "      <td>Abstract Background  Non-small cell lung canc...</td>\n",
       "    </tr>\n",
       "    <tr>\n",
       "      <th>2</th>\n",
       "      <td>2</td>\n",
       "      <td>Abstract Background  Non-small cell lung canc...</td>\n",
       "    </tr>\n",
       "    <tr>\n",
       "      <th>3</th>\n",
       "      <td>3</td>\n",
       "      <td>Recent evidence has demonstrated that acquired...</td>\n",
       "    </tr>\n",
       "    <tr>\n",
       "      <th>4</th>\n",
       "      <td>4</td>\n",
       "      <td>Oncogenic mutations in the monomeric Casitas B...</td>\n",
       "    </tr>\n",
       "  </tbody>\n",
       "</table>\n",
       "</div>"
      ],
      "text/plain": [
       "   ID                                               Text\n",
       "0   0  Cyclin-dependent kinases (CDKs) regulate a var...\n",
       "1   1   Abstract Background  Non-small cell lung canc...\n",
       "2   2   Abstract Background  Non-small cell lung canc...\n",
       "3   3  Recent evidence has demonstrated that acquired...\n",
       "4   4  Oncogenic mutations in the monomeric Casitas B..."
      ]
     },
     "execution_count": 118,
     "metadata": {},
     "output_type": "execute_result"
    }
   ],
   "source": [
    "text_train.head()"
   ]
  },
  {
   "cell_type": "markdown",
   "metadata": {},
   "source": [
    "<a id='sec1'></a>\n",
    "# Exemplary Text Analysis for Row3 (<a href='#sec0'>Back To Top</a>)"
   ]
  },
  {
   "cell_type": "code",
   "execution_count": 4,
   "metadata": {
    "collapsed": true
   },
   "outputs": [],
   "source": [
    "txt1 = text_train.iloc[3, 1]"
   ]
  },
  {
   "cell_type": "code",
   "execution_count": 120,
   "metadata": {},
   "outputs": [
    {
     "data": {
      "text/plain": [
       "ID               3\n",
       "Gene           CBL\n",
       "Variation    N454D\n",
       "Class            3\n",
       "Name: 3, dtype: object"
      ]
     },
     "execution_count": 120,
     "metadata": {},
     "output_type": "execute_result"
    }
   ],
   "source": [
    "class_train.iloc[3, :]"
   ]
  },
  {
   "cell_type": "code",
   "execution_count": 5,
   "metadata": {
    "scrolled": true
   },
   "outputs": [
    {
     "data": {
      "text/plain": [
       "'Recent evidence has demonstrated that acquired uniparental disomy (aUPD) is a novel mechanism by which pathogenetic mutations in cancer may be reduced to homozygosity. To help identify novel mutations in myeloproliferative neoplasms (MPNs), we performed a genome-wide single nucleotide polymorphism (SNP) screen to identify aUPD in 58 patients with atypical chronic myeloid leukemia (aCML; n = 30), JAK2 mutation–negative myelofibrosis (MF; n = 18), or JAK2 mutation–negative polycythemia vera (PV; n = 10). Stretches of homozygous, copy neutral SNP calls greater than 20Mb were seen in 10 (33%) aCML and 1 (6%) MF, but were absent in PV. In total, 7 different chromosomes were involved with 7q and 11q each affected in 10% of aCML cases. CBL mutations were identified in all 3 cases with 11q aUPD and analysis of 574 additional MPNs revealed a total of 27 CBL variants in 26 patients with aCML, myelofibrosis or chronic myelomonocytic leukemia. Most variants were missense substitutions in the RING or linker domains that abrogated CBL ubiquitin ligase activity and conferred a proliferative advantage to 32D cells overexpressing FLT3. We conclude that acquired, transforming CBL mutations are a novel and widespread pathogenetic abnormality in morphologically related, clinically aggressive MPNs.  Introduction  Myeloproliferative neoplasms (MPNs) are clonal hematopoietic stem cell disorders characterized by overproliferation of one or more myeloid cell lineages in the bone marrow and increased numbers of mature and immature myeloid cells in the peripheral blood. Excess proliferation is frequently associated with splenomegaly and cardiovascular complications as well as increased risk of transformation to acute leukemia. MPNs are categorized into subtypes based on specific morphologic, hematologic, and laboratory parameters, the best characterized being the 4 so-called classic MPNs: polycythemia vera (PV), essential thrombocythemia (ET), primary myelofibrosis (MF), and chronic myeloid leukemia (CML).1 In addition, several atypical MPNs are recognized, some of which show both dysplastic and proliferative features, such as atypical, BCR-ABL negative CML (aCML).2  MPNs are associated with acquired, activating mutations or gene fusions of tyrosine kinases, abnormalities that are believed to be critical drivers of excess proliferation as a result of deregulated or constitutive signaling.3 The 2 most prominent examples are BCR-ABL in CML4 and the V617F JAK2 mutation in PV, ET, and MF,5⇓⇓–8 but more than 40 variant tyrosine kinase fusions have been identified in MPNs as well as other mutations in JAK2 and FLT3.2 Activating mutations have been described in components that signal upstream (eg, MPL) or downstream (eg, NRAS) of tyrosine kinases9,10; however, the molecular pathogenesis of the majority of atypical MPNs and approximately 50% of ET and MF cases remains obscure.  V617F JAK2 was initially identified by several different routes, one of which was based on the observation that many PV patients show evidence of acquired uniparental disomy (aUPD) at chromosome 9p.11,12 Regions of aUPD exhibit loss of heterozygosity (LOH) compared with constitutional DNA without change of copy number and arise by mitotic recombination followed by selection for one of the products. After the initial observations in PV, it has emerged that aUPD is common in both hematologic and epithelial malignancies, and is associated with known oncogenic changes in a variety of genes within the affected regions.13 In this study we set out to determine whether aUPD characterizes MPNs of unknown molecular etiology and, if so, whether it could be used as a tool to help identify novel driver mutations.  Methods  Patients  Peripheral blood or bone marrow samples were received from patients diagnosed with an MPN or other hematologic malignancy according to standard morphologic, hematologic, and laboratory criteria. Clinical data were available from a subset of these cases. The study was approved by the Internal Review Boards from participating institutions and informed consent was obtained in accordance with the Declaration of Helsinki.  SNP array analysis  DNA labeling and hybridization to Affymetrix 50k XbaI chips was performed at the Deutsches Ressourcenzentrum für Genomforschung (RZPD, Berlin, Germany). Raw data were imported into the Affymetrix GeneChip Operating Software, analyzed using Affymetrix (High Wycombe, United Kingdom) GeneChip Genotyping Analysis Software (GTYPE 4.1) and copy number analysis tool (CNAT). Data were exported to custom-designed spreadsheets that display loss of heterozygosity and copy number changes in ideogram format. Data were also analyzed using Affymetrix Genotyping Console (version 2.1). Overall, a median of 98.2% (range, 91.5%-99.6%) of SNPs gave readable calls.  Mutation analysis  Detection of mutations by high resolution melting (HRM) analysis was performed as described14 using a Rotor-Gene 6000 (Corbett Life Sciences, St Neots, United Kingdom). Direct sequencing of polymerase chain reaction (PCR) products was performed by standard techniques on an ABI 3130 Genetic Analyzer (Applied Biosystems, Warrington, United Kingdom) and analyzed using Mutation Surveyor (SoftGenetics, State College, PA). CBL mutations are numbered relative to the ATG (A = 1) in the Ensembl cDNA sequence ENSG00000110395. A dropping factor (relative intensity drop of the wild-type allele peak relative to that seen in a concurrently run normal sample) of 60% or more was considered indicative of a biallelic mutation whereas a dropping factor of less than 60% was considered as monoallelic. Primer sequences for CBL exon 8 were CBL_i7f (5′-tgtggtttcactttaaaccctgga-3′) and CBL_i8r (5′-gccaggccaccccttgtatc-3′) and for CBL exon 9 were CBL_i8f (5′-ggcctggcttttgggttagg-3′) and CBL_i9r (5′-cacaatggattttgccagtctcc-3′). CBL reverse-transcriptase PCR (RT-PCR) was performed on random hexamer–reverse transcribed RNA using primers CBLe7F: 5′-gaatcctgatctgactggcttatg-3′ and CBLe10R 5′-gctgcggcagaaggtcaagt-3′. Other primer sequences are available on request.  Microsatellite analysis  DNA samples were amplified with a series of fluorescently labeled primer pairs flanking highly polymorphic microsatellite markers on chromosome 11q as described.10 aUPD was scored if 4 or more consecutive markers encompassing CBL were homozygous without change in allelic copy number (P < .05 of this occurring in the absence of aUPD based on published rates of heterozygosity). Copy number at 11q was estimated by multiplex ligation probe amplification (MLPA) using the Marfan probeset 1 (P065; MRC Holland, Amsterdam, The Netherlands), a kit that contains four 11q control probes including one at 11q23.3.  Constructs  pMY-wtCBL and pMY-CBLR420Q express wild-type and R420Q CBL, respectively, along with green fluorescent protein (GFP).15 Other CBL mutant constructs were derived from pMY-wtCBL using the QuikChange Site-Directed Mutagenesis Kit (Stratagene, La Jolla, CA). pAL/FLT3 and pCMV–HA ubiquitin have also been described previously.15  Cell lines  The IL-3–dependent murine myeloid cell 32Dcl3 (32D) was purchased from the Deutsche Sammlung von Mikroorganismen und Zellkulturen (Braunschweig, Germany) and was maintained in 90% RPMI 1640 medium with 10% fetal bovine serum (FBS) and 10% WEHI-3B conditioned medium (WEHI). All cells were maintained in a humidified incubator at 37°C and 5% carbon dioxide. 32D cells were stably transduced by electroporation with wt-FLT3 in a pAL vector as previously described16 and maintained in 15 ng/mL blastocidin (Invitrogen, Paisley United Kingdom). The Platinum-E (Plat-E) retrovirus packaging cell line17 was transfected using the calcium phosphate method with 5 μg CBL construct DNA: 106 32D/wtFLT3 cells were cocultivated with the Plat-E cells for 48 hours in a volume of 2 mL (50% RPMI, 50% DMEM, 10% FBS, 5% WEHI). GFP positive cells were flow sorted to highest possible purity using a BD FACSAria cell sorter (Becton Dickinson, Stanford, CA). If insufficient cells were obtained for experiments after flow sorting, the cells were maintained in culture and resorted to greater than 95% purity.  Growth factor withdrawal assays  Cell growth was compared with wt-FLT3, vector-only transfected cells and the parental 32D line in stably transfected cells. Cells (105/mL) were grown over 3 days in triplicate for each CBL mutant and a wt-CBL control in 96-well plates. Cultures were analyzed daily for proliferation using the Aqueous One Solution Cell Proliferation Assay kit (MTS assay; Promega, Southampton, United Kingdom). All experiments were performed at least 3 times independently and results were analyzed using GraphPad Prism 4 software (GraphPad Software, San Diego, CA).  Ubiquitin ligase activity  The ubiquitin ligase activity of CBL mutants in comparison to wild-type CBL was determined by transiently transfecting 107 32D/wtFLT3 cells expressing wild-type or CBL mutants by electroporation with 20 μg pCMV-HA ubiquitin. Cells were maintained in culture with WEHI for 12 hours after transfection before being washed, serum deprived overnight, exposed to FLT3 ligand for 10 minutes, and lysed in buffer as described.18 Lysates were incubated with a FLT3-specific polyclonal antibody overnight at 4°C. Protein G agarose beads (100 μL) were added and incubated at 4°C for 4 hours. The beads were washed 4 times in ice-cold radioimmunoprecipitation assay (RIPA) lysis buffer. The supernatant was mixed with sodium dodecyl sulphate (SDS) sample loading buffer before immunoblot analyses with antibodies against HA-ubiquitin (sc-805; Santa Cruz Biotechnology, Santa Cruz, CA), CBL (2111C3a; Abcam, Cambridge, United Kingdom), and FLT3 (sc-479; Cell Signaling Technology, Danvers, MA).  Results  SNP array analysis  We performed genome-wide SNP analysis on leukocyte DNA extracted from 58 MPD patients: aCML (n = 30), V617F JAK2 negative MF (n = 18), and JAK2 mutation negative PV/idiopathic erythrocytosis (n = 10). As comparators, we also analyzed cases of CML in transformation to blast crisis (n = 30, of which 20 were myeloid and 10 lymphoid) and chronic lymphocytic leukemia (CLL; n = 20). We conservatively defined likely regions of aUPD as at least 20 Mb of absent or significantly reduced heterozygous SNP calls (ie, < 5% SNPs called as heterozygous) running to a telomere without change in copy number (Figure 1A). Such large regions are uncommon in healthy individuals.19 Strikingly, we found that aUPD was common in aCML with 10 (33%) of cases affected. In contrast, aUPD was only seen in a single case of MF and was not seen in other patient subgroups. In total, 7 different chromosomes were affected, with abnormalities at 7q and 11q each seen recurrently in 10% of aCML cases. The affected regions ranged in size from 29 Mb to a complete copy of chromosome 13 (Table 1).  Figure 1 Download figureOpen in new tabDownload powerpoint Figure 1 Single nucleotide polymorphism array results and initial mutation analysis. (A) Array analysis of 2 control patients showing copy number (CN) and loss of heterozygosity (LOH) outputs. The x-axis for the CN plots show (copy number)−2 as determined by CNAT, with values approaching or exceeding −1 indicating deletions and greater than +1 indicating amplifications. The x-axis for LOH shows log10 P values (ie, 20 indicates 10−20). The 2 panels on the left are from a polycythemia vera (PV) case with a homozygous V617F JAK2 mutation. There is no gross copy number change (individual datapoints spread around the zero line), but a large block of homozygous SNP calls at 9p indicative of aUPD. The 2 panels on the right are from a chronic myeloid leukemia (CML) blast crisis case and show LOH accompanied by a 20q deletion. (B) For case UPN 5, a large block of 11q aUPD is apparent on analysis of granulocytes but almost completely absent from mononuclear cells (MNCs) extracted from the same sample. (C) Chromosome 1p aUPD in case UPN 27 is associated with a biallelic G>T MPL mutation that is predicted to result in a W515L substitution. (D) Whole chromosome 13 isodisomy in case UPN 28 associated with a homozygous FLT3 ITD. Two controls are shown: an acute myeloid leukemia (AML) patient previously known to have a heterozygous FLT3 ITD and a healthy individual. View inlineView popup Table 1 Chromosomal regions and cases affected by aUPD Association between aUPD and known acquired oncogenic mutations  Although we did not have constitutional DNA to formally confirm that the regions of homozygosity were acquired, in 1 individual we found a marked reduction in the proportion of 11q aUPD positive cells on comparison of mononuclear cells and granulocytes, consistent with an acquired abnormality (Figure 1B). Some of the affected regions harbor genes known to be relevant to hematologic malignancies and therefore we assessed their mutational status. Sequencing of the MPL gene in the case UPN 27 with 1p aUPD revealed a homozygous G>T change (Figure 1C) that results in the previously reported W515L substitution.9 Case UPN 28 with whole chromosome 13 UPD had a homozygous FLT3 internal tandem duplication (ITD; Figure 1D). Candidate genes for the abnormalities at 17q and 21q include NF1 and RUNX1, respectively; however, these were not investigated.  11q aUPD is associated with CBL mutations  Next, we focused our analysis on the 2 recurrent regions of aUPD at 7q and 11q. Because of the strong association between MPNs and aberrant tyrosine kinase signaling, we analyzed genes encoding tyrosine kinases and associated signaling components. The minimally affected region at chromosome 7q contains 3 tyrosine kinases: MET, EPHA1, and EPHB6. We fully sequenced the coding exons of these genes in the 3 cases with 7q aUPD and 2 normal controls but found no abnormalities. Similarly, we found no sequence changes in exons 11 through 17 of BRAF, a gene encoding a downstream component of RAS signaling that is mutated in malignant melanoma and other cancers.20 There are no tyrosine kinase genes on chromosome 11q, and although there are several genes encoding signal transduction components, CBL stood out as a known oncogene that negatively regulates tyrosine kinase signaling.21 Sequencing of CBL in the three 11q aUPD cases revealed that UPN 2 and UPN 5 each had a T>C change at nucleotide 1277 in exon 8 that predicts a L380P substitution. Case UPN 3 had a C>G missense change in exon 9 at nucleotide 1387 that predicts a P417A change (Figure 2). Consistent with the array results, the mutations in cases UPN 3 and UPN 5 were predominant with the residual wild-type alleles only weakly visible. For case UPN 2 both the mutation and level of aUPD was less prominent, presumably due to a greater background of normal cells.  Figure 2 Download figureOpen in new tabDownload powerpoint Figure 2 CBL mutations in the 3 cases with 11q aUPD. (A) Genotyping Console output indicating homozygous SNP calls in green, copy number state as estimated by a Hidden Markov Model in blue, and smoothed copy number log(2) ratio values in red. (B) Ideograms showing lack of large copy number changes and blocks of homozygosity at 11q. Abbreviations are as in Figure 1. (C) Sequence changes indicated by ↓ in each case compared with normal controls. UPN 2 and UPN 5 each have the c.1139T>C: L380P mutation whereas UPN 3 has c.1249C>G: P417A. Prevalence and nature of CBL mutations  To determine the prevalence of CBL mutations, we sequenced exons 8 and 9 (that encode amino acids 366 through 409 and 410 through 477, respectively) in an additional 574 MPN cases. A total of 27 sequence variants were identified in 26 patients, of whom 3 had MF, 10 had chronic myelomonocytic leukemia (CMML), 12 had aCML and 1 had hypereosinophilic syndrome/chronic eosinophilic leukemia (HES/CEL; Tables 2 and 3). To ensure that we were not missing mutations elsewhere in the gene we analyzed all coding exons in 70 CBL mutation negative aCML or unclassified, CML-like MPN cases by high resolution melt (HRM) analysis but failed to detect any further sequence changes apart from known polymorphisms. Similarly, no mutations in CBLB exons 9 or 10 or CBLC exons 7 and 8 (the exons that correspond to CBL exons 8 and 9) were identified. The activity of BCR-ABL is known to increase during progression of CML from chronic phase to blast crisis22 and we speculated that abrogation of CBL activity might be at least partially responsible for this increase. HRM analysis of CBL exons 8 and 9 in blast crisis cases (n = 31), however, failed to reveal any mutations.  View inlineView popup Table 2 Cases analyzed for CBL mutations View inlineView popup Table 3 List of CBL sequence variants Of the 27 CBL variants, 21 (78%) were missense substitutions affecting 12 amino acids (15 different substitutions), 5 (19%) were candidate splicing abnormalities, and 1 (3%) produced a stop codon (Table 3). Most of the changes were novel, although 4 cases had R420Q as previously identified in a single case of AML.15 Apart from N454D, all residues affected by missense mutations were completely conserved in CBL orthologues as well as the 2 other human CBL family members (Figure 3). The mutation to a stop codon was found in a patient (UPN 9) who also had the Y371H variant; PCR across the affected regions and sequencing indicated that the 2 changes were on different alleles.  Figure 3 Download figureOpen in new tabDownload powerpoint Figure 3 Location of missense mutations. (Top panel) Schematic representation of the CBL protein showing the tyrosine kinase binding (TKB), linker, RING, proline-rich (P-rich), and ubiquitin-associated/leucine zipper (UBA/LZ) domains. (Bottom panel) ClustalW alignment of the entire linker and RING domains plus part of the distal sequence. The RING domain is shaded in gray with the defining C and H residues shaded pale blue. Residues affected by missense mutations found in this study are indicated by ▼. CBL mutations are acquired and rarely seen in conjunction with other known mutations  For 2 cases (UPN 5 and UPN 14) we were able to compare the mutational status of leukocytes and T cells or buccal epithelia cells. In both cases the L380P mutation was only present in leukocytes and was therefore acquired (Figure 4A). A third case (UPN 15) originally presented with V617F JAK2 negative ET in 1989 but progressed to MF in 2004. Analysis of DNA extracted from sequential bone marrow slides indicated that the R420Q mutation was absent at the ET phase but acquired on transformation (Figure 4B). The 3 CBL-positive MF cases tested negative for MPL 515 mutations and all CBL mutation positive cases were negative for cytogenetic indicators of tyrosine kinase fusions, FLT3 ITD, activating NRAS mutations and V617F JAK2, with the exception of 1 case (UPN 14) with MF who tested positive for both L380P CBL and V617F JAK2. Analysis of retrospective bone marrow slides for this case indicated the presence of V617F JAK2 at low level initially but absence of L380P CBL. The CBL mutation was detectable 7 years later and completely displaced V617F after a further 3 years, corresponding with a significant rise is peripheral leukocyte counts (Figure 4C). A further case (UPN 21) presented with systemic mastocytosis before evolving to CBL mutation-positive CMML but retrospective samples were unavailable.  Figure 4 Download figureOpen in new tabDownload powerpoint Figure 4 Acquisition of CBL mutations. (A) Comparison of granulocytes (gran) with buccal epithelial cells (bucc) or T cells (T) demonstrates that the L380P mutations in cases UPN 5 and 14 are acquired. (B) Sequential leukocyte and platelet counts for case, who presented in 1989 with essential thrombocythemia (ET) but progressed to myelofibrosis (MF) in 2004. Homozygous CBL R420Q, indicated by *, was detected on transformation but was undetectable in previous specimens. (C) Clinical course of case UPN 14, who presented with MF in 1998 but experienced elevated leukocyte counts in 2005, concomitant with the appearance of the CBL L380P mutation. The JAK2 V617F mutation, which had been present at low level since diagnosis, was still detectable when CBL L380P first appeared but was undetectable in the 2008 sample, when the CBL mutated clone predominated (* on sequence trace). (D) RT-PCR analysis. All cases and controls show the expected product from CBL exons 7-10. Cases UPN 18 and UPN 20 show smaller bands that result from complete deletion of exon 8. Splicing abnormalities  RNA was available for 3 of the 5 cases with potential splicing mutations. Patients UPN 18 and UPN 20 both exhibited double bands by RT-PCR, sequencing of which showed one to be the normal product and the smaller band to result from the complete deletion of exon 8 in each case (Figure 4D), similar to that described in the cell line MOLM-13.23 Patient UPN 19 showed a single band by RT-PCR that was entirely normal on sequence analysis indicating that the exon 8+4 C>T change does not alter splicing. It seems likely, therefore, that the variant identified in case UPN 6 is also of no consequence. The pathogenicity of the intronic variant seen in case UPN 13 remains unknown.  The association between CBL mutations and UPD  To examine the association between CBL mutations and aUPD in more detail we performed microsatellite analysis on all mutated cases using 9 polymorphic markers spanning chromosome 11q13-qter. Of the 26 cases, 11 displayed patterns that indicated significant tracts of homozygosity, including all 3 with 11q aUPD detected by SNP arrays. Case UPN 9 with 2 mutations was heterozygous for all markers. Of the 11 cases with biallelic CBL mutations as judged by sequence analysis, 5 showed complete homozygosity at all microsatellite loci tested and 6 had at least 4 consecutive homozygous calls encompassing the location of the CBL gene at 11q23.3 (Figure 5). We performed multiplex ligation probe amplification (MLPA) analysis to determine whether the observed homozygosity was a consequence of a deletion but no copy number changes were detected (data not shown) and therefore it is likely that homozygosity arose by aUPD. The number of mutated alleles estimated by sequencing was concordant with the microsatellite analysis in 20 cases (Figure 5). Of those that were discordant, UPN 6 and UPN 25 had significant tracts of 11q homozygosity but had a monoallelic CBL mutation whereas UPN 10 and UPN 16 did not show 11q homozygosity but had clear biallelic CBL mutations. The reason for these discrepant cases is unclear, but it is possible that the aUPD seen in UPN 6 and UPN 25 targeted another gene at 11q before acquisition of the CBL mutation. Homozygosity for the CBL mutations in the absence of 11q aUPD in UPN 10 and UPN 16 might be explained by a subcytogenetic deletion of 1 allele.  Figure 5 Download figureOpen in new tabDownload powerpoint Figure 5 Microsatellite analysis of CBL mutation positive cases. The number of CBL mutated alleles (1 monoallelic; 2 biallelic) was estimated by sequence analysis as described in “Experimental procedures.” Microsatellites were scored as homozygous (Embedded Image) or heterozygous (□) for each case and their positions on chromosome 11q are indicated. Correlation between CBL mutations and clinical features  We compared clinical and hematologic features in patients with or without CBL mutations, restricting the analysis to cases with aCML, MF and CMML because these were the subgroups in which CBL mutations were most commonly found. Patients with CBL mutations had a shorter overall survival and progression-free survival compared with mutation negative cases (overall survival: 33 months vs 39 months; progression-free survival: 22 months vs 32 months) but the differences were not significant (Figure 6). Similarly there was no significant difference in gender distribution, age and standard hematologic parameters between mutation positive and mutation negative cases and no differences emerged when individual disease entities were considered.  Figure 6 Download figureOpen in new tabDownload powerpoint Figure 6 Clinical significance of CBL mutations. Overall survival (A) and progression-free survival (B) for atypical chronic myeloid leukemia (aCML), chronic myelomonocytic leukemia (CMML), and MF cases with (n = 19) or without (n = 87) CBL mutations. The differences between mutation positive and negative cases was not significant as determined by Kaplan-Meier analysis. Transforming activities of CBL mutants  We determined whether selected CBL variants had oncogenic activity by testing whether they could transform the interleukin-3 (IL-3)–dependent cell line 32D to growth factor independence in conjunction with overexpression of wild-type FLT3, as has been described previously for R420Q.15 We found that S376F, H398Y, P417A, and R420Q alone each conferred a degree of growth factor independence to 32D cells, but this effect was considerably enhanced in 32Ds that overexpressed wild-type FLT3. In contrast, wild-type CBL conferred no growth advantage either with or without FLT3 overexpression. The N454D change was not transforming, indicating that it is probably a rare polymorphism or a pathogenetically unimportant passenger mutation (Figure 7). Reproducible differences in survival between the different mutants were seen, as illustrated in Figure 8A.  Figure 7 Download figureOpen in new tabDownload powerpoint Figure 7 Transforming activity of CBL mutants. 32D cells or 32Ds overexpressing wild-type FLT3 were transfected with wild-type or mutant CBL constructs and assayed for IL-3 independent growth over 3 days. Results shown are the mean of at least 3 independent experiments, each of which were performed in triplicate. The y-axis shows proliferation in arbitrary units as determined by MTS assay (Promega) and the x-axis time in days. Figure 8 Download figureOpen in new tabDownload powerpoint Figure 8 Survival and abrogation of E3 ubiquitin ligase activity. (A) Relative survival/proliferation of 32D cells expressing wild-type or mutant CBL constructs 48 hours after growth factor withdrawal as determined by MTS assay. (B) 32D cells expressing wild-type FLT3 and CBL constructs as indicated were transfected with HA-tagged ubiquitin and stimulated with FLT3 ligand. After lysis, FLT3 was immunoprecipitated, blotted, and probed with anti-HA. Total blots for FLT3 AND CBL are also shown. Abrogation of E3 ubiquitin ligase activity  It has been shown that FLT3 physically associates with CBL and that, upon ligand stimulation, FLT3 is rapidly ubiquitinylated by wild-type but not R420Q CBL.15 We found that transforming activity correlated directly with the ubiquitin ligase activity of the CBL variants, as assayed by their ability to transfer HA-tagged ubiquitin to FLT3 after stimulation with FLT3 ligand. The S376F, H398Y, P417A and R420Q mutants showed loss of ubiquitin ligase activity, whereas N454D was comparable to wild-type CBL (Figure 8B).  Discussion  The initial aim of our study was to identify large regions of aUPD and therefore we undertook a relatively low resolution genome scan using 50k SNP arrays. Because we did not have constitutional DNA available from most of our cases, we were not able to unambiguously determine whether the extended blocks of homozygosity that we observed were a consequence of aUPD, constitutional UPD or autozygosity due to consaguinity, however we used a very conservative definition of candidate aUPD regions (at least 20 Mb homozygous SNPs calls running to a telomere) and therefore expected that most or all would be acquired. We found that aUPD was relatively common in aCML, but was uncommon in other MPNs that were negative for known mutations, plus also CML blast crisis and CLL. Six distinct regions of aUPD were identified in aCML, indicating substantial genetic heterogeneity in the genesis of this disorder. However, we identified 2 recurrent regions of aUPD at 7q and 11q that were each seen in 10% of cases indicating the presence of common molecular abnormalities.  Our mutation screening focused primarily on tyrosine kinases and associated signal transduction components because of the known association between deregulated tyrosine kinase signaling and MPNs.3 Although we failed thus far to identify any abnormality on chromosome 7q, we found missense CBL mutations in all three 11q aUPD cases. Screening of further MPNs revealed a total of 27 CBL variants in 26 patients who had been diagnosed with aCML (n = 12; 8%), MF (n = 3, 6%), CMML (n = 10, 13%), or HES/CEL (n = 1, 1%); that is, morphologically and clinically related diseases that generally exhibit a poor prognosis. We were unable to discern, however, any specific clinical or prognostic features specifically associated with CBL mutated cases.  Casitas B-lineage lymphoma (CBL) is a well characterized protein that plays both positive and negative regulatory roles in tyrosine kinase signaling. In its positive role, CBL binds to activated receptor tyrosine kinases via its N-terminal tyrosine kinase binding (TKB) domain and serves as an adaptor by recruiting downstream signal transduction components such as SHP2 and P13K. However the RING domain of CBL has E3 ligase activity and ubiquitinylates activated receptor tyrosine kinases on lysine residues, a signal that triggers internalization of the receptor/ligand complex and subsequent recycling or degradation.21,24,25 CBL was originally identified after the characterization of v-Cbl, the transforming component of the Cas NS-1 retrovirus, and thus its association with neoplasia is well established26; however, it is only very recently that CBL mutations were first identified in a human malignancy, specifically occasional cases of AML.15,23,27 We have found that CBL mutations are much more common in MPNs, and previous reports of 11q aUPD in MDS28 suggest that CBL mutations will also prove to be common in this disease. Indeed, 7 of 12 MDS cases with aUPD at 11q were recently shown to harbor CBL mutations.29 There are 2 other human CBL family members, CBLB and CBLC, but we did not identify aUPD in the regions containing these genes and did not detect any mutations of the linker/RING domain of CBLB.  We identified a total of 15 different CBL missense mutations affecting 12 residues (Table 2; Figure 3). Mutations of some of these residues (eg, Y371, C381, H398 and W408) have been analyzed previously in a study that concluded that loss of E3 ubiquitin ligase activity and concomitant impairment of EGFR internalization by RING finger mutations was insufficient for oncogenicity, as assayed in NIH3T3 cells. However mutations of key residues within the α-helix of the linker region abolished ubiquitin ligase activity and were transforming.30 Although the precise amino acid substitutions we identified were different from those studied, we found that mutations in both the RING finger and linker regions conferred autonomous growth to 32D/wt-FLT3 cells, consistent with a causal relationship to the MPN phenotype. The fact that one mutation (N454D) was not transforming emphasizes the importance of functional analysis to distinguish driver mutations from irrelevant passengers or infrequent polymorphisms.31 Notably, this mutation was only weakly conserved between species, in contrast to all other missense mutations that affected highly conserved residues and are therefore likely to be functionally significant.  Enhanced autonomous growth in the presence of CBL mutations and overexpression of wild-type FLT3 may simply reflect the paucity of receptor tyrosine kinase gene expression in 32D cells or, alternatively, may indicate that the mutants are only weakly transforming and require the cooperation of other events to give rise to clinically manifest disease. Consistent with the latter hypothesis, we identified 2 cases in which CBL mutations were acquired during progression of a preexisting MPN (Figure 4). In both cases the identity of the cooperating change is unknown: although one presented with a (relatively low level) V617F JAK2 mutation, this disappeared on progression to CBL L380P positive disease, indicating that the 2 mutations must have arisen independently in different clones. This is reminiscent of the observation that the leukemic blasts of approximately half of V617F positive MPNs that evolve to AML are negative for the JAK2 mutation.32,33 It remains to be established, however, if CBL mutations are usually secondary events or whether the 2 cases we identified are exceptional.  Further evidence for the requirement for additional cooperating genetic events comes from published mouse studies in which neither complete CBL knockout nor heterozygous knockin of the RING finger inactivating mutant C379A (mouse C379 is equivalent to human C381) resulted in evidence of an MPN or other malignancy.34,35 However, closer analysis revealed subtle hemopoietic perturbations that clearly relate to the pathogenesis of MPNs. Specifically, hemopoietic stem cells (HSCs) from these animals were increased in number, hyperresponsive to thrombopoietin and more potent than wild-type HSCs in repopulating the hemopoietic system. These effects were associated with increased STAT5 accumulation and phosphorylation.34,35 Hyperresponsiveness to growth factors and stem cell involvement are 2 of the cardinal features of MPNs. Furthermore, the association between STAT5 activation and MPNs is well documented.36,37 While it is possible that overt hematologic disease might have been induced by a homozygous knockin mutant, these findings suggest that CBL mutations may not be solely responsible for a full MPN phenotype.  The nature of any cooperating abnormalities remains largely obscure. Our results show that overexpression of a tyrosine kinase can cooperate with CBL mutants to promote transformation, however we failed to identify any kinase that was consistently overexpressed in mutation positive cases by tyrosine kinase expression profiling (data not shown). One CBL mutation positive case, however, also tested positive for 7q UPD by SNP array, suggesting that these 2 abnormalities may complement each other. A CBL mutation resulting in skipping of exon 8 has also been identified in a murine model of NUP98-HOXD13 on progression from MDS to AML,38 further corroborating the theory that acute leukemia arises from complementary mutations, one of which inhibits differentiation, and a second (in this case CBL) that enhances proliferation or inhibits apoptosis.  The fact that many CBL mutations are associated with aUPD strongly suggests that clones with homozygous mutations have a selective advantage over those that are heterozygous. This contrasts with the prevailing view that transforming CBL RING finger and linker region mutants act in a dominant negative fashion. Although it is conceivable that another, unknown locus on 11q is the target of aUPD, the finding of 1 case with a Y371H mutation and a stop codon on opposite alleles strongly suggests that homozygous CBL mutations do indeed confer a direct selective advantage. Because we did not screen the entire gene for mutations, it is possible that other cases with heterozygous mutations may also be functionally homozygous due to premature stop codons on the other allele. Alternatively, heterozygosity in these cases may only be apparent due to variable proportions of background normal cells that are not part of the malignant clone. Although the nontransforming N454D mutant was heterozygous, 2 cases with heterozygous R420Q were observed and thus absence of homozygosity cannot be used to infer the presence of an irrelevant, nontransforming sequence variant.  In summary, we have found that oncogenic CBL mutations are acquired in a subset of hematologically related, poor prognosis MPNs. Our findings further strengthen the notion that MPNs are primarily “tyrosine kinopathies,” that is, diseases caused by aberrant activation of proliferation and survival pathways as a consequence of mutations that either directly or indirectly promote excess tyrosine kinase signaling. In view of the fact that tyrosine kinases are such good drug targets, the possibility that CBL-mutated cases might be amenable to therapeutic inhibition is clearly attractive.'"
      ]
     },
     "execution_count": 5,
     "metadata": {},
     "output_type": "execute_result"
    }
   ],
   "source": [
    "txt1"
   ]
  },
  {
   "cell_type": "code",
   "execution_count": 39,
   "metadata": {
    "collapsed": true
   },
   "outputs": [],
   "source": [
    "word_tokens = word_tokenize(txt1)\n",
    "word_tokens = np.array(word_tokens)"
   ]
  },
  {
   "cell_type": "code",
   "execution_count": 40,
   "metadata": {},
   "outputs": [
    {
     "name": "stdout",
     "output_type": "stream",
     "text": [
      "initial leng 6396\n"
     ]
    }
   ],
   "source": [
    "print('initial leng %d' % len(word_tokens))"
   ]
  },
  {
   "cell_type": "markdown",
   "metadata": {},
   "source": [
    "<i>The below stemming operation was tried but did not work well for Gene names, so not implemented</i><br>\n",
    "stemmer = PorterStemmer()<br>\n",
    "for i in range(len(word_tokens)):<br>\n",
    "    word_tokens[i] = stemmer.stem(word_tokens[i])"
   ]
  },
  {
   "cell_type": "code",
   "execution_count": 41,
   "metadata": {},
   "outputs": [
    {
     "name": "stdout",
     "output_type": "stream",
     "text": [
      "After removing stop words 4627\n"
     ]
    }
   ],
   "source": [
    "stop_words = set(stopwords.words('english'))\n",
    "txt1_words = filtered_sentence = [w for w in word_tokens if not w in stop_words]\n",
    "print('After removing stop words %d' % len(txt1_words))"
   ]
  },
  {
   "cell_type": "code",
   "execution_count": 107,
   "metadata": {},
   "outputs": [
    {
     "data": {
      "text/html": [
       "<div>\n",
       "<style>\n",
       "    .dataframe thead tr:only-child th {\n",
       "        text-align: right;\n",
       "    }\n",
       "\n",
       "    .dataframe thead th {\n",
       "        text-align: left;\n",
       "    }\n",
       "\n",
       "    .dataframe tbody tr th {\n",
       "        vertical-align: top;\n",
       "    }\n",
       "</style>\n",
       "<table border=\"1\" class=\"dataframe\">\n",
       "  <thead>\n",
       "    <tr style=\"text-align: right;\">\n",
       "      <th></th>\n",
       "      <th>tokens</th>\n",
       "    </tr>\n",
       "  </thead>\n",
       "  <tbody>\n",
       "    <tr>\n",
       "      <th>0</th>\n",
       "      <td>Recent</td>\n",
       "    </tr>\n",
       "    <tr>\n",
       "      <th>1</th>\n",
       "      <td>evidence</td>\n",
       "    </tr>\n",
       "    <tr>\n",
       "      <th>2</th>\n",
       "      <td>demonstrated</td>\n",
       "    </tr>\n",
       "    <tr>\n",
       "      <th>3</th>\n",
       "      <td>acquired</td>\n",
       "    </tr>\n",
       "    <tr>\n",
       "      <th>4</th>\n",
       "      <td>uniparental</td>\n",
       "    </tr>\n",
       "  </tbody>\n",
       "</table>\n",
       "</div>"
      ],
      "text/plain": [
       "         tokens\n",
       "0        Recent\n",
       "1      evidence\n",
       "2  demonstrated\n",
       "3      acquired\n",
       "4   uniparental"
      ]
     },
     "execution_count": 107,
     "metadata": {},
     "output_type": "execute_result"
    }
   ],
   "source": [
    "df1 = pd.DataFrame(txt1_words)\n",
    "df1.columns = ['tokens']\n",
    "df1.head()"
   ]
  },
  {
   "cell_type": "code",
   "execution_count": 108,
   "metadata": {
    "collapsed": true
   },
   "outputs": [],
   "source": [
    "gene_ish_pattern = r\"[A-Z]{2,7}\""
   ]
  },
  {
   "cell_type": "code",
   "execution_count": 109,
   "metadata": {},
   "outputs": [
    {
     "name": "stdout",
     "output_type": "stream",
     "text": [
      "401\n"
     ]
    }
   ],
   "source": [
    "gene_ish_words = df1[df1['tokens'].str.match(gene_ish_pattern)]\n",
    "print(len(gene_ish_words))"
   ]
  },
  {
   "cell_type": "code",
   "execution_count": 114,
   "metadata": {},
   "outputs": [],
   "source": [
    "gene_table = gene_ish_words.groupby('tokens').size().reset_index()\n",
    "gene_table.columns = ['tokens', 'appearances']"
   ]
  },
  {
   "cell_type": "code",
   "execution_count": 124,
   "metadata": {},
   "outputs": [
    {
     "data": {
      "text/html": [
       "<div>\n",
       "<style>\n",
       "    .dataframe thead tr:only-child th {\n",
       "        text-align: right;\n",
       "    }\n",
       "\n",
       "    .dataframe thead th {\n",
       "        text-align: left;\n",
       "    }\n",
       "\n",
       "    .dataframe tbody tr th {\n",
       "        vertical-align: top;\n",
       "    }\n",
       "</style>\n",
       "<table border=\"1\" class=\"dataframe\">\n",
       "  <thead>\n",
       "    <tr style=\"text-align: right;\">\n",
       "      <th></th>\n",
       "      <th>tokens</th>\n",
       "      <th>appearances</th>\n",
       "    </tr>\n",
       "  </thead>\n",
       "  <tbody>\n",
       "    <tr>\n",
       "      <th>11</th>\n",
       "      <td>CBL</td>\n",
       "      <td>99</td>\n",
       "    </tr>\n",
       "    <tr>\n",
       "      <th>95</th>\n",
       "      <td>UPN</td>\n",
       "      <td>38</td>\n",
       "    </tr>\n",
       "    <tr>\n",
       "      <th>66</th>\n",
       "      <td>MPNs</td>\n",
       "      <td>21</td>\n",
       "    </tr>\n",
       "    <tr>\n",
       "      <th>39</th>\n",
       "      <td>FLT3</td>\n",
       "      <td>20</td>\n",
       "    </tr>\n",
       "    <tr>\n",
       "      <th>52</th>\n",
       "      <td>JAK2</td>\n",
       "      <td>15</td>\n",
       "    </tr>\n",
       "    <tr>\n",
       "      <th>58</th>\n",
       "      <td>MF</td>\n",
       "      <td>15</td>\n",
       "    </tr>\n",
       "    <tr>\n",
       "      <th>89</th>\n",
       "      <td>SNP</td>\n",
       "      <td>11</td>\n",
       "    </tr>\n",
       "    <tr>\n",
       "      <th>80</th>\n",
       "      <td>RING</td>\n",
       "      <td>9</td>\n",
       "    </tr>\n",
       "    <tr>\n",
       "      <th>31</th>\n",
       "      <td>DNA</td>\n",
       "      <td>8</td>\n",
       "    </tr>\n",
       "    <tr>\n",
       "      <th>77</th>\n",
       "      <td>PV</td>\n",
       "      <td>7</td>\n",
       "    </tr>\n",
       "    <tr>\n",
       "      <th>65</th>\n",
       "      <td>MPN</td>\n",
       "      <td>7</td>\n",
       "    </tr>\n",
       "    <tr>\n",
       "      <th>24</th>\n",
       "      <td>CML</td>\n",
       "      <td>6</td>\n",
       "    </tr>\n",
       "    <tr>\n",
       "      <th>36</th>\n",
       "      <td>ET</td>\n",
       "      <td>6</td>\n",
       "    </tr>\n",
       "    <tr>\n",
       "      <th>27</th>\n",
       "      <td>CMML</td>\n",
       "      <td>5</td>\n",
       "    </tr>\n",
       "    <tr>\n",
       "      <th>84</th>\n",
       "      <td>RT-PCR</td>\n",
       "      <td>4</td>\n",
       "    </tr>\n",
       "  </tbody>\n",
       "</table>\n",
       "</div>"
      ],
      "text/plain": [
       "    tokens  appearances\n",
       "11     CBL           99\n",
       "95     UPN           38\n",
       "66    MPNs           21\n",
       "39    FLT3           20\n",
       "52    JAK2           15\n",
       "58      MF           15\n",
       "89     SNP           11\n",
       "80    RING            9\n",
       "31     DNA            8\n",
       "77      PV            7\n",
       "65     MPN            7\n",
       "24     CML            6\n",
       "36      ET            6\n",
       "27    CMML            5\n",
       "84  RT-PCR            4"
      ]
     },
     "execution_count": 124,
     "metadata": {},
     "output_type": "execute_result"
    }
   ],
   "source": [
    "gene_table.sort_values('appearances', ascending=False).head(15)"
   ]
  },
  {
   "cell_type": "code",
   "execution_count": 86,
   "metadata": {
    "collapsed": true
   },
   "outputs": [],
   "source": [
    "mutation_patterns = ['Truncation', 'Deletion', 'Promoter','Amplification', 'Epigenetic', 'Frame', 'Overexpression',\n",
    "                     'Duplication', 'Insertion','Subtype', 'Fusion', 'Splice', 'Wildtype']"
   ]
  },
  {
   "cell_type": "code",
   "execution_count": 87,
   "metadata": {},
   "outputs": [],
   "source": [
    "mutation_table = pd.DataFrame(index=[mutation_patterns])\n",
    "mutation_table['appearances'] = 0"
   ]
  },
  {
   "cell_type": "code",
   "execution_count": 88,
   "metadata": {},
   "outputs": [],
   "source": [
    "for pattern in mutation_patterns:\n",
    "    appearance = len(df1[df1[0].str.contains(pattern, case=False)])\n",
    "    mutation_table.loc[pattern, 'appearances'] = appearance"
   ]
  },
  {
   "cell_type": "code",
   "execution_count": 89,
   "metadata": {},
   "outputs": [
    {
     "data": {
      "text/html": [
       "<div>\n",
       "<style>\n",
       "    .dataframe thead tr:only-child th {\n",
       "        text-align: right;\n",
       "    }\n",
       "\n",
       "    .dataframe thead th {\n",
       "        text-align: left;\n",
       "    }\n",
       "\n",
       "    .dataframe tbody tr th {\n",
       "        vertical-align: top;\n",
       "    }\n",
       "</style>\n",
       "<table border=\"1\" class=\"dataframe\">\n",
       "  <thead>\n",
       "    <tr style=\"text-align: right;\">\n",
       "      <th></th>\n",
       "      <th>appearances</th>\n",
       "    </tr>\n",
       "  </thead>\n",
       "  <tbody>\n",
       "    <tr>\n",
       "      <th>Truncation</th>\n",
       "      <td>0</td>\n",
       "    </tr>\n",
       "    <tr>\n",
       "      <th>Deletion</th>\n",
       "      <td>6</td>\n",
       "    </tr>\n",
       "    <tr>\n",
       "      <th>Promoter</th>\n",
       "      <td>0</td>\n",
       "    </tr>\n",
       "    <tr>\n",
       "      <th>Amplification</th>\n",
       "      <td>3</td>\n",
       "    </tr>\n",
       "    <tr>\n",
       "      <th>Epigenetic</th>\n",
       "      <td>0</td>\n",
       "    </tr>\n",
       "    <tr>\n",
       "      <th>Frame</th>\n",
       "      <td>0</td>\n",
       "    </tr>\n",
       "    <tr>\n",
       "      <th>Overexpression</th>\n",
       "      <td>4</td>\n",
       "    </tr>\n",
       "    <tr>\n",
       "      <th>Duplication</th>\n",
       "      <td>1</td>\n",
       "    </tr>\n",
       "    <tr>\n",
       "      <th>Insertion</th>\n",
       "      <td>0</td>\n",
       "    </tr>\n",
       "    <tr>\n",
       "      <th>Subtype</th>\n",
       "      <td>1</td>\n",
       "    </tr>\n",
       "    <tr>\n",
       "      <th>Fusion</th>\n",
       "      <td>3</td>\n",
       "    </tr>\n",
       "    <tr>\n",
       "      <th>Splice</th>\n",
       "      <td>0</td>\n",
       "    </tr>\n",
       "    <tr>\n",
       "      <th>Wildtype</th>\n",
       "      <td>0</td>\n",
       "    </tr>\n",
       "  </tbody>\n",
       "</table>\n",
       "</div>"
      ],
      "text/plain": [
       "                appearances\n",
       "Truncation                0\n",
       "Deletion                  6\n",
       "Promoter                  0\n",
       "Amplification             3\n",
       "Epigenetic                0\n",
       "Frame                     0\n",
       "Overexpression            4\n",
       "Duplication               1\n",
       "Insertion                 0\n",
       "Subtype                   1\n",
       "Fusion                    3\n",
       "Splice                    0\n",
       "Wildtype                  0"
      ]
     },
     "execution_count": 89,
     "metadata": {},
     "output_type": "execute_result"
    }
   ],
   "source": [
    "mutation_table"
   ]
  },
  {
   "cell_type": "code",
   "execution_count": null,
   "metadata": {
    "collapsed": true
   },
   "outputs": [],
   "source": []
  },
  {
   "cell_type": "code",
   "execution_count": null,
   "metadata": {
    "collapsed": true
   },
   "outputs": [],
   "source": []
  }
 ],
 "metadata": {
  "kernelspec": {
   "display_name": "Python 3",
   "language": "python",
   "name": "python3"
  },
  "language_info": {
   "codemirror_mode": {
    "name": "ipython",
    "version": 3
   },
   "file_extension": ".py",
   "mimetype": "text/x-python",
   "name": "python",
   "nbconvert_exporter": "python",
   "pygments_lexer": "ipython3",
   "version": "3.6.2"
  }
 },
 "nbformat": 4,
 "nbformat_minor": 2
}
