{
 "cells": [
  {
   "cell_type": "markdown",
   "metadata": {},
   "source": [
    "<a id='sec0'></a>\n",
    "# Feature Engineering2\n",
    "- Importing Data\n",
    "- <a href='#sec1'>Exemplary Text Analysis</a>\n",
    "  - <a href='#sec1_1'>Old way</a>\n",
    "  - <a href='#sec1_2'>Some useful regex and lists</a>\n",
    "  - <a href='#sec1_3'>Replace periods, commas, hyphens, brackets with a space, and then tokenize</a>\n"
   ]
  },
  {
   "cell_type": "code",
   "execution_count": 1,
   "metadata": {
    "collapsed": true
   },
   "outputs": [],
   "source": [
    "import numpy as np\n",
    "import pandas as pd\n",
    "import matplotlib.pyplot as plt\n",
    "import seaborn as sns\n",
    "import re\n",
    "\n",
    "from nltk import PorterStemmer\n",
    "from nltk.tokenize import word_tokenize\n",
    "from nltk.corpus import stopwords\n",
    "\n",
    "sns.set_context(\"paper\")\n",
    "%matplotlib inline"
   ]
  },
  {
   "cell_type": "markdown",
   "metadata": {},
   "source": [
    "<b>Importing train_text</b>"
   ]
  },
  {
   "cell_type": "code",
   "execution_count": 2,
   "metadata": {
    "collapsed": true
   },
   "outputs": [],
   "source": [
    "class_train = pd.read_csv('train_variants')\n",
    "text_train = pd.read_csv(\"train_text\", sep=\"\\|\\|\", engine='python', header=None, skiprows=1, names=[\"ID\",\"Text\"])"
   ]
  },
  {
   "cell_type": "code",
   "execution_count": 3,
   "metadata": {},
   "outputs": [
    {
     "name": "stdout",
     "output_type": "stream",
     "text": [
      "   ID    Gene             Variation  Class\n",
      "0   0  FAM58A  Truncating Mutations      1\n",
      "1   1     CBL                 W802*      2\n",
      "2   2     CBL                 Q249E      2\n",
      "3   3     CBL                 N454D      3\n",
      "4   4     CBL                 L399V      4\n",
      "   ID                                               Text\n",
      "0   0  Cyclin-dependent kinases (CDKs) regulate a var...\n",
      "1   1   Abstract Background  Non-small cell lung canc...\n",
      "2   2   Abstract Background  Non-small cell lung canc...\n",
      "3   3  Recent evidence has demonstrated that acquired...\n",
      "4   4  Oncogenic mutations in the monomeric Casitas B...\n"
     ]
    }
   ],
   "source": [
    "print(class_train.head())\n",
    "print(text_train.head())"
   ]
  },
  {
   "cell_type": "markdown",
   "metadata": {},
   "source": [
    "<a id='sec1'></a>\n",
    "# More feature extractions  (<a href='#sec0'>Back To Top</a>)"
   ]
  },
  {
   "cell_type": "code",
   "execution_count": 4,
   "metadata": {},
   "outputs": [
    {
     "name": "stdout",
     "output_type": "stream",
     "text": [
      "CPU times: user 2min 2s, sys: 3.4 s, total: 2min 5s\n",
      "Wall time: 2min 5s\n"
     ]
    }
   ],
   "source": [
    "%%time\n",
    "txt = ''\n",
    "for i in range(len(text_train)):\n",
    "    text = text_train.loc[i, 'Text'] + ''\n",
    "    txt += text\n",
    "\n",
    "text_white = txt.encode().decode()  # copy a string?!\n",
    "text_white = text_white.replace('\"', ' ')\n",
    "text_white = text_white.replace('.', ' ')\n",
    "text_white = text_white.replace('/', ' ')\n",
    "text_white = text_white.replace('\\'', ' ')\n",
    "text_white = text_white.replace('_', ' ')    # This should be done after _pos, etc checked\n",
    "text_white = text_white.replace('-', ' ')    # This should be done after -pos, etc checked\n",
    "text_white = text_white.replace('=', ' ')\n",
    "text_white = text_white.replace('\\n', ' ')\n",
    "text_white = text_white.replace('\\\\n', ' ')\n",
    "text_white = text_white.replace('\\'', ' ')\n",
    "text_white = re.sub(' +',' ', text_white) \n",
    "text_white = text_white.replace('\\'', ' ')\n",
    "text_white = text_white.replace('(', ' ')\n",
    "text_white = text_white.replace(')', ' ')\n",
    "text_white = text_white.replace('[', ' ')\n",
    "text_white = text_white.replace(']', ' ')\n",
    "text_white = text_white.replace('{', ' ')\n",
    "text_white = text_white.replace('}', ' ')    \n",
    "\n",
    "word_tokens = word_tokenize(text_white)\n",
    "\n",
    "stop_words = set(stopwords.words('english'))\n",
    "word_tokens = [word for word in word_tokens if word not in stop_words]"
   ]
  },
  {
   "cell_type": "code",
   "execution_count": null,
   "metadata": {
    "collapsed": true
   },
   "outputs": [],
   "source": []
  },
  {
   "cell_type": "markdown",
   "metadata": {},
   "source": [
    "<b>Some useful lists</b>"
   ]
  },
  {
   "cell_type": "code",
   "execution_count": 30,
   "metadata": {
    "collapsed": true
   },
   "outputs": [],
   "source": [
    "races = ['asian', 'hispanic', 'african', 'caucasian', 'native american', 'indian',\n",
    "         'pacific islander', 'black', 'white', 'latino']\n",
    "\n",
    "biowords = ['promoter', 'enhancer', 'neuron', 'marrow',\n",
    "            'loss-of-heterozygosity', 'loss of heterozygosity', 'progenitor', 'pluripotent']\n",
    "\n",
    "organs = ['brain', 'liver','skin', 'stomach', 'gastric', 'intestine', 'intestinal', 'colon', 'rectum', 'rectal',\n",
    "          'prostate', 'breast', 'ovary', 'ovarian', 'kidney', 'renal', 'adrenal', 'gland',\n",
    "          'thyroid', 'esophogus', 'esophogal', 'bone', 'spinal', 'heart', 'cardiac', 'pancreas', 'pancreatic',\n",
    "          'spleen', 'splenic', 'bladder', 'gallbladder', 'lung', 'parathyroid', 'pituitary',\n",
    "          'cervix', 'cervical', 'skeletal']"
   ]
  },
  {
   "cell_type": "code",
   "execution_count": 8,
   "metadata": {
    "collapsed": true
   },
   "outputs": [],
   "source": [
    "commoners = ['RT', 'PCR', 'RT-PCR', 'DNA', 'cDNA', 'RNA', 'mRNA', 'siRNA', 'shRNA', 'protein', 'basis'\n",
    "             'cell', 'cancer', 'CHIP', 'FISH', 'SDS-PAGE', 'UK', 'USA', 'GST', 'GFP', 'SDS', 'PAGE',\n",
    "             'qPCR', 'PBS', 'TBS', 'DTT', 'BSA', 'HSA', 'HCl', 'NCBI', 'PBST', 'ANOVA', 'RIKEN',\n",
    "             'COHORT', 'OUTCOME', 'AIRWAY', 'EMSA', 'analysis', 'electrophoresis', 'hypothesis', 'hypothetical',\n",
    "             'nonparametric', 'Malaysia', 'Asia', 'Indonesia', 'Pan-Asia', 'Russia', 'Romania', 'Media', 'media',\n",
    "             'australasia', 'tunisia']"
   ]
  },
  {
   "cell_type": "markdown",
   "metadata": {},
   "source": [
    "<b>Words for races</b>"
   ]
  },
  {
   "cell_type": "code",
   "execution_count": 31,
   "metadata": {},
   "outputs": [
    {
     "name": "stdout",
     "output_type": "stream",
     "text": [
      "{'black', 'african', 'caucasian', 'white', 'latino', 'indian', 'hispanic', 'asian'}\n",
      "CPU times: user 4.57 s, sys: 0 ns, total: 4.57 s\n",
      "Wall time: 4.57 s\n"
     ]
    }
   ],
   "source": [
    "%%time\n",
    "txt_for_races = [word.lower() for word in word_tokens if word.lower() in races]\n",
    "txt_for_races = [re.sub(r's$', '', word) for word in txt_for_races]\n",
    "print(set(txt_for_races))"
   ]
  },
  {
   "cell_type": "markdown",
   "metadata": {},
   "source": [
    "<b>Words for organs</b>"
   ]
  },
  {
   "cell_type": "code",
   "execution_count": 28,
   "metadata": {},
   "outputs": [
    {
     "name": "stdout",
     "output_type": "stream",
     "text": [
      "{'ovary', 'pancrea', 'intestinal', 'liver', 'adrenal', 'stomach', 'renal', 'spleen', 'skin', 'heart', 'cervix', 'pancreatic', 'gastric', 'intestine', 'rectal', 'lung', 'thyroid', 'splenic', 'bone', 'rectum', 'prostate', 'cervical', 'cardiac', 'skeletal', 'spinal', 'parathyroid', 'ovarian', 'gallbladder', 'colon', 'brain', 'pituitary', 'breast', 'bladder', 'kidney', 'gland'}\n",
      "CPU times: user 11 s, sys: 1 ms, total: 11 s\n",
      "Wall time: 11 s\n"
     ]
    }
   ],
   "source": [
    "%%time\n",
    "txt_for_organs = [word.lower() for word in word_tokens if word.lower() in organs]\n",
    "txt_for_organs = [re.sub(r's$', '', word) for word in txt_for_organs]\n",
    "print(set(txt_for_organs))"
   ]
  },
  {
   "cell_type": "markdown",
   "metadata": {},
   "source": [
    "<b>Words that end with -oma(s)</b>"
   ]
  },
  {
   "cell_type": "code",
   "execution_count": 12,
   "metadata": {},
   "outputs": [
    {
     "name": "stdout",
     "output_type": "stream",
     "text": [
      "{'lymphoma', 'neurofibrosarcoma', 'granuloma', 'tumour–stroma', 'luteoma', 'insulinoma', 'nonmelanoma', 'paraganglioma', 'thoma', 'medullobastoma', 'brosarcoma', 'adenolymphoma', 'acanthoma', 'mixosarcoma', 'emangioendothelioma', 'antimelanoma', 'adenoma', 'osteoblastoma', 'hamartoma', 'mela¬noma', 'glaucoma', 'enchondroma', 'meyloma', 'rhabdomyoma', 'teratocarcinoma', 'glomangiopericytoma', '211aadenocarcinoma', 'microcarcinoma', 'ganglioglioma', 'choriocarcinoma', 'hidradenoma', 'neurilemoma', 'oligodendroglioma', 'melanoma', 'schwannoma', 'epithelioma', 'osteoma', 'neuroblastoma', 'humanpapilloma', 'microadenoma', 'keratocanthoma', 'myofibroma', 'histocytoma', 'cyneuroblastoma', 'histiocytoma', 'ganglioneuroblastoma', 'foimelanoma', 'dermatofibrosarcoma', 'methodsosteosarcoma', 'hygroma', 'fibroblastoma', 'mucosalmelanoma', 'neuroblatoma', 'oklahoma', 'oncocytoma', 'arcinoma', 'keratoadenoma', 'medulloblastoma', 'chondrosarcoma', 'hepatoma', 'anoma', 'imelanoma', 'neuroepithelioma', 'froma', 'syringoma', 'eitherstroma', 'celllinesn161carcinoma', 'adenocarcioma', 'nephroblastoma', 'cholangiocarincoma', 'chroma', 'astrocytoma', 'phaeochomocytoma', 'meningioma', 'fibrolipoma', 'alk+lymphoma', 'gynandoblastoma', 'coma', 'glioblastoma', 'adenocrcinoma', 'fibroxantoma', 'keratoacanthoma', 'stroma', 'hemangioma', 'nulloligodendroglioma', 'xanthoastrocytoma', 'adenocanthoma', 'trypanosoma', 'retinoblastoma', 'rebinoblastoma', 'fibroadenoma', 'plasmacytoma', '1melanoma', 'resultsosteosarcoma', 'adenomyoepithelioma', 'melanocytoma', 'lymphosarcoma', 'ependemoma', 'inmelanoma', 'gastriccarcinoma', 'nephroma', 'pseudopsammoma', 'colagenoma', 'neurblastoma', 'pleuramesothelioma', 'retinoblasoma', 'haemangiopericytoma', 'prolactinoma', 'chromocytoma', 'pilomatricoma', 'pheocromocytoma', 'leiomyomsarcoma', 'medullablastoma', 'adenocarinoma', 'osteosarcoma', 'medulloepitheioma', 'oligoastroctyoma', 'antimyeloma', 'ependymoma', 'myeloma', 'ampullarycarcinoma', 'dysgerminoma', 'adenomyoepithelialoma', 'nonastrocytoma', 'myoepithelioma', '®brosarcoma', 'angioleiomyoma', 'blastoma', 'gliobastoma', 'somatostatinoma', 'adenocarcinoma', 'pericytoma', 'cancer—adenocarcinoma', 'angiomyofibroblastoma', 'autã³noma', 'chorioepithelioma', 'gonadoblastoma', 'mesothelioma', 'astro\\xadcytoma', 'collagenoma', 'hybridoma', 'fibrosarcoma', 'rhabomyosarcoma', 'myopericytoma', 'somatostinoma', 'thecoma', 'angioma', 'hemangioendothelioma', 'cholangiocarcinoma', 'disease–neuroblastoma', '1discussionosteosarcoma', 'dysgermimoma', 'lymphoepitelioma', 'adenoacanthoma', 'rhabdoleiomyoma', 'angiomyolipoma', 'mastocytoma', 'cholangiosarcoma', 'medulloepithelioma', 'lymphoepithelioma', 'adnocarcinoma', 'immunocytoma', 'psammoma', 'adenenocarcinoma', 'astroctyoma', 'metastaticmelanoma', 'neurocytoma', 'leioblastoma', 'pheochomocytoma', 'pineoblastoma', 'ochromocytoma', 'carcinosarcoma', 'osteoscarcoma', 'koma', 'rhabdomyosarcoma', 'oligodendroma', 'noncarcinoma', 'giloblastoma', 'differentiatedadenocarcinoma', 'ganglioma', 'neurofibroma', 'astocytoma', '*melanoma', 'cystadenoma', 'odontoma', 'teratoma', 'cylindroma', 'sporadicmelanoma', 'melonoma', 'perosteosarcoma', 'cholangiocarinoma', 'aroma', 'pancreatoblastoma', 'dictyoma', 'doma', 'leukemialymphoma', 'disgerminoma', 'adenoma–carcinoma', 'cinoma', 'phaeochromocytoma', 'ganglioneuroma', 'craniopharyngioma', 'polyoma', 'adamantinoma', 'pecoma', 'osetosarcoma', 'rofibroma', 'soma', 'cholesteatoma', 'gastrinoma', 'hemangiopericytoma', 'neruroblastoma', 'trichilemmoma', 'aspergilloma', 'hematoma', 'leiomyosarcoma', 'fibroma', 'ghoma', 'roma', 'adeocarcinoma', 'colangiocarcinoma', 'leukemia–lymphoma', 'cysticmesothelioma', 'hepatoblastoma', 'incidentaloma', 'subependymoma', 'neuroma', 'auto`noma', 'leiomyoblastoma', 'casesadenocarcinoma', 'leimyosarcoma', 'meduloblastoma', 'meninigioma', 'cysticleiomyoma', 'oligoastrocytoma', 'myelosarcoma', 'esthesioneuroblastoma', 'sarcoma', 'liposarcoma', 'myxofibrosarcoma', 'glucagonoma', 'stoma', 'autònoma', 'glioblostoma', 'toma', 'glandcarcinoma', 'ovariancarcinoma', 'skincarcinoma', 'pheochromocytoma–paraganglioma', 'lipoblastoma', 'thymoma', 'harmatoma', 'gynandroblastoma', 'mesenchymoma', 'macroadenoma', 'trichoepithelioma', 'alkoma', 'nonadenocarcinoma', 'cystadenocarcinoma', 'neurinoma', 'angiosarcoma', 'acthoma', 'lipoma', 'hemangiosarcoma', 'angiomyxoma', 'xanthogranuloma', 'roussarcoma', 'haematoma', 'chondroma', 'cholangioacrinoma', 'schistosoma', 'ofmelanoma', 'nonseminoma', 'neurilemmoma', 'celllymphoma', 'retinoma', 'heamangioblastoma', 'ccarcinoma', 'emangioma', 'pheochromocytoma', 'haemangioma', 'angiofibroma', 'macroprolactinoma', 'germinoma', 'dermatofibroma', 'anti–glioblastoma', 'haemangiosarcoma', 'lymphangioma', 'papilloma', 'bsarcoma', 'haemangioblastoma', 'scwannoma', 'ectomesenchymoma', 'adenomyoepithioma', 'hepatocarcinoma', 'medulloepthelioma', 'fibroxanthoma', 'coloboma', 'seminoma', 'culturedmelanoma', 'leiomyoma', 'nonlymphoma', 'ependymoblastoma', 'myxoma', 'glioma', 'phakoma', 'myoma', 'agerminoma', 'estroma', 'carcinoma', 'noma', 'chordoma', 'carcinomaadenocarcinomacolonadenocarcinomaadenomaadenoma', 'gliosarcoma', 'tumor–stroma', 'gangliocytoma', 'hemangioblastoma', 'ofrhabdomyosarcoma'}\n",
      "CPU times: user 17.9 s, sys: 3.91 ms, total: 17.9 s\n",
      "Wall time: 17.9 s\n"
     ]
    }
   ],
   "source": [
    "%%time\n",
    "pattern1 = r\"[A-Za-z]+omas?$\"\n",
    "txt_with_omas = [word.lower() for word in word_tokens if re.search(pattern1, word)]\n",
    "txt_with_omas = [re.sub(r's$', '', word) for word in txt_with_omas]\n",
    "print(set(txt_with_omas))"
   ]
  },
  {
   "cell_type": "markdown",
   "metadata": {},
   "source": [
    "<b>Words that end with -ia(s). NEED A GOOD WAY TO REMOVE COUNTRY NAMES!</b>"
   ]
  },
  {
   "cell_type": "code",
   "execution_count": 21,
   "metadata": {},
   "outputs": [
    {
     "name": "stdout",
     "output_type": "stream",
     "text": [
      "{'escherichia', 'albuminuria', 'hyperphoshatemia', 'salgia', 'diphtheria', 'galicia', 'osteochondrodysplasia', 'myelodysplasia', 'dyscrasia', 'kemia', 'paronychia', 'osteopenia', 'anaplasia', 'primaria', 'ommatidia', 'heterotopia', 'chothia', 'teleangiectasia', 'paraganglia', 'dysrhythmia', 'neoplasia', 'fria', 'sharifnia', 'emmetropia', 'sitia', 'dyslipidemia', 'glycosuria', 'hyperplasia', 'myasthenia', 'dysphagia', 'hyperglycemia', 'neutrophilia', 'hyperprolactinemia', 'ectasia', 'solcia', 'polymicrogyria', 'chromobacteria', 'rhizomelia', 'tachycardia', 'bia', 'achrondroplasia', 'fridericia', 'leucopenia', 'telangectasia', 'primordia', 'genecopoeia', 'substantia', 'bacteremia', 'microphtalmia', 'billeria', 'absentia', 'platybasia', 'asphyxia', 'glycemia', 'hemophilia', 'incontinentia', 'hemimelia', 'vaccinia', 'hyperinsulinemia', 'hyposplenia', 'carpenteria', 'hematuria', 'braccia', 'patisia', 'honoraria', 'hypoadiponectinemia', 'aia', 'cumbria', 'eosinophilia', 'assaymitochondria', 'hypofibrinogenemia', 'dysguesia', 'fanconia', 'protoporphyria', 'murcia', 'metaplasia', 'ostrobotnia', 'neutropenia', 'thrombocytopenia', 'focia', 'neisseria', 'leukemia', 'carpentaria', 'dislipidemia', 'hyperphosphatemia', 'macia', 'acidemia', 'handolia', 'preneoplasia', 'thrombopenia', 'hypophosphatemia', 'agendia', 'hypocholesterolemia', 'micrognatia', 'proceduresmedia', 'biologia', 'adamia', 'hypodontia', 'arthalgia', 'theileria', 'listeria', 'ectopia', 'pharmacia', 'mia', 'chondrodysplasia', 'aplasia', 'compendia', 'oligodontia', 'moukeria', 'hypoglycemia', 'bleukemia', 'macroglossia', 'xerostomia', 'bronchomalacia', 'anemia', 'ataxiatelangiectasia', 'hypereosinophilia', 'ematologia', 'inescherichia', 'dia', 'heteroplasia', 'hyperoxia', 'enterobacteria', 'micrognathia', 'menorrhagia', 'maltophilia', 'hyperleptinemia', 'chia', 'progeria', 'leptinemia', 'euglycemia', 'erythrodysesthesia', 'viremia', 'myometria', 'pyelectasia', 'tumordysplasia', 'toxicodermia', 'hypercapnia', 'glossodynia', 'dysplasia', 'facsdivia', 'paraproteinemia', 'torchia', 'pia', 'stetteria', 'ganglia', 'dyspasia', 'tolia', 'serratia', 'asplenia', 'echeverria', 'anesthesia', 'synovia', 'tachyarrhythmia', 'elia', 'mathia', 'iglesia', 'amnesia', 'normoglycemia', 'hypercalcemia', 'themedia', 'tibia', 'ajia', 'thalassemia', 'eurasia', 'achondroplasia', 'polychromasia', 'adventitia', 'anorexia', 'photophobia', 'dyspepsia', 'mutationvalidationcriteria', 'schizophrenia', 'gaussia', 'archebacteria', 'paraplegia', 'lammellipodia', 'giardia', 'grecia', 'chemioterapia', 'microglia', 'cachexia', 'correia', 'franconia', 'eschericcia', 'asplasia', 'pathania', 'calvaria', 'hypoplacia', 'polydipsia', 'ataxia', 'urticaria', 'pseudohypoxia', 'advia', 'ketonuria', 'pancytopenia', 'hypochromia', 'endothelia', 'ammonia', 'hyperaminoaciduria', 'hamartia', 'fscherichia', 'hyperbilirubinemia', 'caria', 'hypochondroplasia', 'hypospadia', 'arthralgia', 'eosinophlia', 'pachygyria', 'pseudopodia', 'chondrohyperplasia', 'hypokalemia', 'spermatogonia', 'preischemia', 'achalasia', 'ischemia', 'astroglia', 'atresia', 'atria', 'biosettia', 'hypoalbuminemia', 'postischemia', 'facsaria', 'bacteria', 'bronchopneumonia', 'murineleukemia', 'babchia', 'hypergastrinemia', 'hyperlipidemia', 'urothelia', 'hyperreflexia', 'hyperuricemia', 'genitalia', 'eubacteria', 'borrelia', 'oogonia', 'basophilia', 'chlamydia', 'ophthalmoplegia', 'lymphocytopenia', 'hyperchromasia', 'epiloia', 'eschirichia', 'lamellipodia', 'fibrodysplasia', 'mitochondria', 'diplopia', 'lymphangiectasia', 'pneumonia', 'dysarthria', 'chrivia', 'tetraplegia', 'euphorbia', 'mitochronia', 'aristolochia', 'faria', 'tumourdysplasia', 'differentia', 'analgesia', 'aniridia', 'macedonia', 'hypolipidemia', 'telangiectasia', 'hyperthermia', 'stria', 'associa', 'aphasia', 'tria', 'antennapedia', 'hyponatremia', 'pyrexia', 'leishmania', 'batavia', 'cleia', 'leukopenia', 'agammaglobulinemia', 'equilibria', 'phenopedia', 'proteinuria', 'glia', 'patologia', 'carpinteria', 'malaria', 'hypoxia', 'dolichostenomelia', 'leukomalacia', 'anophthalmia', 'insulinemia', 'microphthalmia', 'prostatichyperplasia', 'aciduria', 'hygeia', 'exotropia', 'polycythemia', 'gynecomastia', 'macroglia', 'selectivemedia', 'tossicologia', 'yarrowia', 'hematochezia', 'filopodia', 'lymphangectasia', 'alopecia', 'cardia', 'dysgeusia', 'fornia', 'ashkenazia', 'hypothermia', 'myalgia', 'hypotonia', 'sia', 'hypogammaglobulinemia', 'gdynia', 'macrosomia', 'hypoxemia', 'preleukemia', 'yersinia', 'bifidobacteria', 'retrognathia', 'hypergammaglobulinemia', 'leukocytopenia', 'dyspraxia', 'areflexia', 'antileukemia', 'mercodia', 'labia', 'hypercholesterolemia', 'oligodendroglia', 'preeclampsia', 'hypouricemia', 'hypoplasia', 'dystocia', 'tetraurelia', 'epithelia', 'aria', 'imunologia', 'erythrodysplasia', 'leukoplakia', 'granulocytopenia', 'oncologia', 'euthanasia', 'hyporexia', 'p140mdia', 'septicemia', 'dysphasia', 'hemoglobinuria', 'macrostomia', 'hyperimmunoglobulinemia', 'hypobetalipoproteinemia', 'simplicifolia', 'macroglobulinemia', '5ematologia', 'hyptonia', 'eschenchia', 'alia', 'platania', 'dispepsia', 'fascia', 'anoxia', 'atypia', 'propria', 'tobia', 'polyuria', 'dyssomnia', 'asthenia', '7handolia', 'tsihlia', 'ostrobothnia', 'intermedia', 'hyperopia', 'erythroleukemia', 'cytopenia', 'desmoplasia', 'fauceglia', 'dypraxia', 'pedia', 'thrombocythemia', 'campania', 'hypermetropia', 'dysmorphia', 'hemoglobinemia', 'normoxia', 'nonleukemia', 'syringomyelia', 'provia', 'farmacologia', 'matthia', 'hypsarrhythmia', 'cyclopia', 'paresthesia', 'encyclopedia', 'arrhythmia', 'lymphopenia', 'cilia', 'myopia', 'hernia', 'gouveia', 'hypocalcemia', 'apraxia', 'hemihyperplasia', 'dolichocilia', 'tracheomalacia'}\n",
      "CPU times: user 28.4 s, sys: 932 µs, total: 28.4 s\n",
      "Wall time: 28.5 s\n"
     ]
    }
   ],
   "source": [
    "%%time\n",
    "pattern2 = r\"[A-Za-z]+[sm]?ias?$\"\n",
    "txt_with_sias = [word.lower() for word in word_tokens \\\n",
    "                 if re.search(pattern2, word)\\\n",
    "                 if word not in commoners \\\n",
    "                 if word.lower() not in ias_to_remove]\n",
    "txt_with_sias = [re.sub(r's$', '', word) for word in txt_with_sias]\n",
    "txt_with_sias = [re.sub(r'ae', 'e', word) for word in txt_with_sias]\n",
    "txt_with_sias = [re.sub(r'\\W', '', word) for word in txt_with_sias]\n",
    "print(set(txt_with_sias))"
   ]
  },
  {
   "cell_type": "code",
   "execution_count": 11,
   "metadata": {
    "collapsed": true
   },
   "outputs": [],
   "source": [
    "ias_to_remove = {'bolognia', 'lithuania', 'northumbria', 'pan‑asia', 'westphalia', 'yugoslavia', 'mejia', 'damia', 'sylvia', 'bhatia', \n",
    " 'carpintenia', 'sisodia', 'bia', 'arabia', 'catalonia', 'mdia', 'cynthia', 'xia', 'victoria', 'tunisia', 'oceania', \n",
    " 'farugia', 'australasia', 'cassia', 'arteria', 'casaccia', 'youjia', 'walia', 'cornelia', 'sarkaria', 'savoia', 'rsalgia',\n",
    "  'macia', 'algeria', 'rangatia', 'sequoia', 'anodontia', 'bonavia', 'sanitaria', 'center–sophia', 'mangia', 'rozovskaia', \n",
    "  'georgia', 'indústria', 'austria', 'sotoodehnia', '6australia', 'biovia', 'virginia', 'valsesia', 'gallia', 'valencia', 'perugia', \n",
    "  'silvia', 'pennsylvania', 'philadelphia', 'tartaglia', 'behzadnia', 'wikipedia', 'garcia', 'sonia', 'hafsia', 'tolia', 'pavia', \n",
    "  'slovakia', 'elia', 'mathia', 'l6czechosiovakia', 'iglesia', 'giaccia', 'belandia', 'baldia', 'materia', 'tulia', 'eurasia', \n",
    "  'santamaria', 'italia', 'academia', 'sushia', 'soravia', 'gloria', 'bagrodia', 'india', 'caria', 'ethiopia', 'ansonia', 'maria', \n",
    "  'mtartaglia', 'dahia', 'australia', 'eugenia', 'catania', 'luria', 'coria', 'titia', 'mattia', 'consortia', '9philadelphia', \n",
    "  'ghia', 'sardinia', 'gaia', 'capinteria', 'terapia', 'faria', 'colombia', 'farrugia', 'via', 'tria', 'nigeria', '1ia', 'emilia',\n",
    "  'vallania', 'california', 'sophia', 'farma´cia', 'patricia', 'santarpia', 'rumania', 'cristália', 'bosottia', 'mongia', 'gradia', \n",
    "  '177030criteria', 'aria', 'scotia', 'slovenia', 'lucia', 'bavaria', 'griffonia', 'nia', 'alia', 'jia', 'tasmania', 'scalia', 'natalia',\n",
    "  'maia', 'tobia', 'garcdia', 'estonia', 'columbia', 'candia', 'criteria', 'monteia', 'attia', 'provia', 'sanabria', 'matthia', 'sibilia',\n",
    "  'iberia', 'sebia', 'beria', 'ilia', 'tapia'}"
   ]
  },
  {
   "cell_type": "markdown",
   "metadata": {},
   "source": [
    "<b>Words that end with -sis and -tis</b>"
   ]
  },
  {
   "cell_type": "code",
   "execution_count": 18,
   "metadata": {},
   "outputs": [
    {
     "name": "stdout",
     "output_type": "stream",
     "text": [
      "{'epigenesis', 'atrophic', 'kountourakis', 'osteolytic', 'prototypic', 'thrombosis', 'mll–af9–specific', 'ristic', 'radiographic', 'pallis', 'dysgenesis', 'oncologic', 'congenic', 'strouboulis', 'acetylneuraminic', 'noncrystallographic', 'agonistic', 'bourouis', 'psoriasis', 'antagonistic', 'organic', 'idiopathic', 'luikenhuis', 'heteromeric', 'nonpleomorphic', 'callelic', 'toxicogenetic', 'dnaanalysis', 'rac‐specific', 'kottaridis', 'hypophysitis', 'semilogarithmic', 'rhinitis', 'narcotic', 'mediastinic', 'mitotic', 'oligodeoxythymidylic', 'ectropic', 'macrocytic', 'sideroblastic', 'astrogenetic', 'mycophenolic', 'nonisotopic', 'mesoblastic', 'antiepileptic', 'nonhematopoietic', 'antic', 'tetrasomic', 'polyhedrosis', 'stoichiometric', 'histiocytosis', 'anis', 'fishanalysis', 'inotropic', 'asomatic', 'methodsgenomic', 'clinicopathologic', 'prosthetic', 'heterotopic', 'nic', 'epidemic', 'transgenomic', 'astrocytic', 'ysis', 'gametic', 'phase–specific', 'electrophillic', 'atherosclerotic', 'bicinchonic', 'elastosis', 'hypotonic', 'hyperelastic', 'alymphocytic', 'sequencespecific', 'catenin–specific', 'arm−specific', 'kardassis', 'autophagic', 'homoscedastic', 'haematopoietic', 'nonionic', 'andcytoplasmic', 'cancerspecific', 'polycyclic', 'ofthis', 'arg→his', 'boussiotis', 'adrenocorticotrophic', 'myelomagenesis', 'gynecologic', 'lordosis', 'eosinophilopoietic', 'antixenobiotic', 'prostatitis', 'neuroradiologic', 'epigastric', 'courtois', 'extragastric', 'palindromic', 'genotoxic', 'haemopoietic', 'intavis', 'parpis', 'dysontogenetic', 'inducedapoptosis', 'kalaitzidis', 'nosis', 'unsystematic', 'thesplenic', 'necrogenic', 'abasic', 'polyadenylic', 'tris–hydrochloric', 'supraphysiologic', 'lactis', 'megakaryoblastic', 'pothesis', 'nitric', 'methanol–acetic', 'transgenesis', 'deoxyribonucleic', 'isomorphic', 'kyriakis', 'spermatic', 'trophic', 'malic', 'glutamic', 'xerosis', 'ontogenesis', 'micrographic', 'radioisotopic', 'hypoxic', 'anolis', 'lactic', 'hyrdrophobic', 'lchronic', 'kraulis', 'effectorhypothesis', 'carboxylic', 'tumorigenic', 'thrombohemorrhagic', 'gapstimulatedhydrolysis', 'homozygotic', 'uveitis', 'allantoic', 'noncolonic', 'rungis', 'mutimeric', 'radic', 'infralimbic', 'acutepancreatitis', 'catalytic', 'telencephalic', 'proteotoxic', 'tetanic', 'optosis', 'buis', 'aganglionic', 'teratozoospermic', 'nevis', 'willis', 'vis', 'solis', 'kruskal–wallis', 'urinalysis', 'iodoacetic', 'catenincytoplasmic', 'tric', 'nonbasic', 'myositis', 'degradation—analysis', 'netic', 'chondrogenic', 'chromotripsis', 'val774insprohis', 'ambis', 'chronic', 'valvulogenesis', 'lymphogenic', 'thoracic', 'intragastric', 'hydrophopic', 'katalytic', 'endoplasmatic', 'sample–specific', 'softonic', 'metameric', 'cytosis', 'clonic', 'apoptogenic', 'valentinis', 'magnetic', 'multigenetic', 'fibrosis', 'musculoaponeurotic', 'cellintrinsic', 'comapoptosis', 'g004discussionthis', 'karapetis', 'tumorogenesis', 'phthisis', 'gorgoulis', 'cell‐intrinsic', 'incarcinogenesis', 'pestis', 'monophasic', 'fromthis', 'periodic', 'nasogastric', 'pro772inshis', 'antibiotic', 'mutagenic', 'chorioallantoic', 'gland–specific', 'livermetastasis', 'postorthodontic', 'sinensis', 'cistronic', 'adenomatosis', 'ileitis', '1this', 'antioncogenic', 'cholangitis', 'pantropic', 'fidelis', 'megakaryocytic', 'pleiotypic', 'pathomechanistic', 'cases—this', 'hypotrichosis', 'biscistronic', 'myoblastic', 'anisotropic', 'dysostosis', 'type–specific', 'the×axis', 'normoglycemic', 'sitespecific', 'leu12his', 'etiopathogenesis', 'dicistronic', 'nonphathogenic', 'arg2336his', 'stearic', 'pneumonitis', 'elastic', 'iannis', 'tetradis', 'muscarinic', 'aspergillosis', 'amnesic', 'topic', 'derris', 'althoughthis', 'melanotic', 'allotypic', 'macrometastasis', 'cornelis', 'microfluidic', 'enchondromatosis', 'nggenomic', 'centromeric', 'monogenic', 'janinis', 'glycolysis', 'tis', 'chondrogenesis', 'bozulic', 'tumor–specific', 'pj4graphic', 'pelvis', 'vasculogenesis', 'crescentic', 'homeotic', 'intrinsic', 'fluoroorotic', 'haematopoeitic', 'polis', 'glossitis', 'progestagenic', 'diseases—dyskeratosis', 'availableoncogenic', 'myelocytic', 'adrenocorticotropic', 'asn267his', 'leukaemogenic', 'cyclic', 'cholestatic', 'photomorphogenesis', 'dimercaptosuccinic', 'sporadic', 'hematopetic', 'metaanalysis', 'erythrocytosis', 'candidiasis', 'phosphorothioic', 'nonclassic', 'pyloric', 'icelandic', 'endocytosis', 'microcephalic', 'andrulis', 'onycholysis', 'cholecystolithiasis', 'acanthosis', 'asymptomatic', 'anhidrotic', 'homopolymeric', 'vikis', 'athymic', 'normoblastic', 'chitnis', 'silastic', '†this', 'tonsillitis', '6–neurotrophic', 'acoustic', 'parasympathetic', 'duodeno–pancreatic', 'protooncogenic', 'sympathetic', 'lymphopoiesis', 'dthis', 'tumorigenensis', 'cell–specific', 'melanogenesis', 'metastatis', 'endoplasmic', 'toric', 'myofibrillogenesis', 'drophilic', 'iqspccific', 'eccentric', 'pleuritis', 'subcytogenetic', 'tocris', 'proleukemogenic', 'cdnasynthesis', 'peritonitis', 'cdc25graphic', 'etiopathogenic', 'hypergeometric', 'emesis', 'arg718his', 'vysis', 'bronchiolitis', 'tricholoracetic', 'interspecific', 'exogenic', 'panoramic', 'koukourakis', 'lymphangioleiomyomatosis', 'acentric', 'phobic', 'cell–intrinsic', 'erythropoietic', 'pragmatic', 'mutationallyspecific', 'psychotropic', 'procaryotic', 'hypertrichosis', 'multiethnic', 'phosphotyrosinespecific', 'samplesthis', 'premetastatic', 'b220–pacific', 'epigenomic', 'chondrodysplastic', 'histologic', 'mis', 'alkalic', 'viscerotopic', 'neurofibromatosis', 'osteodysplastic', 'sarcomeric', 'ecotrophic', 'numis', 'preganglionic', 'specfic', 'extrinsic', 'paediatric', 'lymphoangiogenesis', 'ontogenetic', 'sialic', 'spermatocytic', 'nephritis', 'maaspecific', 'stereoelectronic', 'hemoptysis', 'liapis', 'thymomathymic', 'rhoaspecific', 'multilocularis', '8this', 'energic', 'metanephric', 'golemis', 'crosis', 'polycystic', 'laparoscopic', 'saintlouis', 'amyotropic', 'b56–specific', 'asp→his', 'nongenotoxic', 'intergenetic', 'retic', 'epileptic', 'trokovic', 'eicosapentaenoic', 'blais', 'neurotropic', 'pancolonic', 'testspecific', 'kambouris', 'regis', 'aetiologic', 'electromagnetic', 'p27kip1cytoplasmic', 'bethanis', 'lazaridis', 'brachycephalic', 'pluronic', '`intrinsic', 'multiallelic', 'gluconeogenesis', 'erytholeukemic', 'spastic', 'choreoathetosis', 'anti‐apoptotic', 'anthracis', 'preleukemic', '29clonogenic', 'realistic', 'radioanalytic', 'agnosis', 'ofnecrosis', 'theprognostic', 'ormechanistic', 'pronephric', 'nondysplastic', 'garnis', 'locusspecific', 'spine—characteristic', 'organogenesis', 'lymphoplasmacytic', 'commentsthis', 'synaptic', 'subtilis', 'dialysis', 'folinic', 'wallis', 'hypermorphic', 'entropic', 'scientfic', 'gemistocytic', 'axometric', 'myofibroblastic', 'thrombolysis', 'interallelic', 'tuberculosis', 'reniformis', 'epileptogenic', 'perisic', 'kitspecific', 'haemodialysis', 'hyperheosinophilic', 'tnfa–pacific', 'tancytic', 'langlois', 'morphogenic', 'aspecific', 'preautonomic', 'acrocentric', 'cylindromatosis', 'symmetric', 'plasmacytosis', 'oncolytic', 'arg1515his', 'argentophilic', 'postchemotherapeutic', 'andprokaryotic', 'restric', 'promoter–specific', 'catecholaminergic', 'leu421his', 'epigenetic', 'steroidogenesis', 'hyperleucocytosis', 'hemizygotic', 'pilocytic', 'lipofuscinosis', 'linolenic', 'bioioinformatic', 'cachectic', 'oogenesis', 'apoptogenesis', '5pediatric', 'pubic', 'diverticulitis', 'morbicentric', 'endonucleolytic', 'lymphanigogenesis', 'oxyntic', 'pharmacokinetic–pharmacodynamic', 'fibrocystic', 'hepatocarcinogenic', 'micrometastatic', 'ditis', 'mitosis', 'polytechnic', 'allogeneic', 'ethyleneglycoltetracetic', 'fic', 'geographic', 'affymetric', 'fibrogenesis', 'anxiolytic', 'pancytopenic', 'acromcentric', 'bothmutagenesis', 'highermetastatic', 'methodologic', 'klaulis', 'extractiongenomic', 'exophytic', 'anoikis—apoptosis', 'occurring—genetic', 'antithetic', 'neutropenic', 'prooncogenic', 'tonic', 'progenesis', 'γ–specific', 'salicylic', '`classic', 'amyotrophic', 'haematochimaeric', 'hodis', 'erytroleukemic', 'perigastric', 'boric', 'bis', 'sequenceanalysis', 'proangiogenic', 'mirabilis', '4–specific', 'genegenomic', 'transmis', 'catalysis', 'lymphangiogensis', 'cibulskis', 'aerophilic', 'mmboric', 'fibromatosis', 'grandis', 'pancentromeric', 'radiologic', 'carcinomagenesis', 'adipogenesis', 'synaptogenesis', 'tyr272his', 'photodermatitis', 'spinotelencephalic', 'cis', 'chromoanagenesis', 'braziliensis', 'nongastric', 'arg321his', 'monocytosis', 'autoantigenic', 'specic', 'proteasomic', 'problematic', 'promitogenic', 'anergic', 'bronchitis', 'spectrographic', 'hyperadrenergic', 'slideschematic', 'guerois', 'graphicpographic', 'thoracoscopic', 'notheis', 'cirrhotic', 'fluidic', 'basophilic', 'gravis', 'borealis', 'systemmutagenesis', 'pericarditis', 'arachidonic', 'angioimmunoblatic', 'synergetic', 'anaerobic', 'emphasis', 'staresincic', 'peristaltic', 'geodetic', 'metastis', 'acromegalic', 'asp493his', 'myelitis', 'chromothripsis', 'arsenic', 'cephalometric', 'elecrophoretic', 'gulbis', 'nontumorigenic', 'cytoplasmatic', 'histoprognostic', 'glomerulonephritis', 'arg24flis', 'pharmacogenomic', 'myeloblastosis', 'hyperosmotic', 'fabris', 'lentitransgenesis', 'dermatologic', 'spinomesencephalic', 'klinakis', 'proteolyisis', 'sic', 'ortetrameric', 'non\\xadspecific', 'caenohabditis', 'illinois', 'gruis', 'centroblastic', 'gln938his', 'adipogenic', 'recombinogenic', 'genonlic', 'centromic', 'carbonic', 'buitenhuis', 'arg38his', 'optionshistologic', 'hematopathologic', 'melnomagenesis', 'asystematic', 'lyssiotis', '6his', 'apeutic', 'leukemiaspecific', 'cytoplasmic', 'steroidogenic', 'phosphotungstic', 'nitrobenzoic', 'furiosis', 'toelectrophoresis', '367this', 'adenomagenesis', '234this', 'sterotactic', 'carcinogenic', 'seborrhoeic', 'myogenic', 'pubis', 'polypeptidic', 'characteristic', 'monomorphic', 'anaplerotic', 'establishedprognostic', 'phlebitis', 'arthrogryposis', 'autolysis', 'azoospermic', 'autoradiographic', 'statistic', 'lysgraphic', 'polymorphic', 'lipolysis', 'parapsilosis', 'arteritis', 'metabolic', 'chromatic', 'nucleophilic', 'premitotic', 'normolipidemic', 'egfrsomatic', 'gabaergic', 'dyenamic', 'epigenic', 'asn771insasnprohis', 'papillomatosis', 'plasmoblastic', 'biosynthetic', 'hepatolithiasis', 'allogenic', 'arg206his', 'antilipidemic', 'dimeric', 'crisis', 'extrapancreatic', 'chemotherapeutic', 'nonenzymatic', 'transsynaptic', 'biosynthesis', 'pleomorphic', 'carcinoembryonic', 'neurocytic', 'mammoplastic', 'adynamic', 'hypogonadotropic', 'ichtyosis', 'receptor−specific', 'hyperleukocytosis', '2icelandic', 'conjunctivitis', 'ancreatic', 'argyrophilic', 'nonangiogenic', 'hemogenic', 'neomorphic', 'interphasic', 'oxydrilic', 'isotropic', 'interethnic', 'subdiaphragmatic', 'bioenergetic', 'immmnophenotypic', 'hyalinosis', 'hematologic', 'extrascheletric', 'toxicologic', 'diapedesis', 'photometric', 'hematopoiesis', 'brotic', 'precatalytic', 'jaksic', 'nucleoplasmic–cytoplasmic', 'kataegis', 'organotopic', 'epistaxis', 'astrinidis', 'myelotoxic', 'pro‐oncogenic', 'suprapharmacologic', 'postembryonic', 'subtelomeric', 'psychiatric', 'estrogenic', 'theranostic', 'betamatic', 'sonic', 'carcinomatosis', 'kellis', 'atelectasis', 'postganglionic', 'serologic', 'clinicogenomic', 'cariogenic', 'monoblastic', 'dermatopathic', 'episodic', 'bilis', 'metastasic', 'multimetameric', 'steric', 'lymphangiomyomatosis', 'erythroblastic', 'lipoproteinosis', 'leucosis', 'agarose–morpholinepropanesulfonic', 'tserpelis', 'densitomctric', 'pargellis', 'harmonic', 'antileukemic', 'synthetic', 'antigenic', 'lienalis', 'centralis', 'epidermis', 'extracytoplasmic', 'pyknotic', 'lymphangiogenic', 'methylotrophic', 'peptidomimetic', 'enthalpic', 'succinic', 'scaphocephalic', 'anaphylactic', 'myeloblastic', 'lymphangitis', 'thiobarbituric', 'kriaucionis', 'somitic', 'rheumatic', 'plasmablastic', 'cholangiocarcinogenesis', 'metã¡stasis', 'quadratic', 'vitromutagenesis', 'nonsymptomatic', 'andanalysis', 'ermis', 'aris', 'oitalic', 'gomis', 'ethylenebis', 'cancergastric', 'retropubic', 'melastasis', 'diagnosis', 'oncogenomic', 'juxtacentromeric', 'nonpathogenic', 'tubulogenesis', 'aliphatic', 'nonpolyposis', 'site–specific', 'bacteriolysis', 'scientific', 'acanthocytosis', 'pertussis', 'intris', 'caudothalamic', 'nonsyntenic', 'interatomic', 'photolysis', 'humangastric', 'hemosiderotic', 'halazonetis', 'arg326his', 'posttraumatic', 'chemical–genetic', 'morphometric', 'blotanalysis', 'noncholinergic', 'misdiagnosis', 'bronchopneumonitis', 'krais', 'osteoblastogenesis', 'hypochromic', 'syndromechronic', 'magic', 'hypothalamic', 'spectrometric', 'gln564his', 'lh−hypogonadotropic', 'darkbluecytoplasmic', 'promyelocytic', 'myelocytomatosis', 'odontogenic', 'plasmacytic', 'apoptotic', 'prometastatic', 'oncogonic', 'cedric', 'multicentric', 'zoledronic', 'girgis', 'molecule–specific', 'allelic', 'monomeric', 'phakomatosis', 'gastroenteritis', 'cytotoxic', 'daskalakis', 'epitasis', 'lipomatosis', 'geriatric', 'logarithmic', 'hepatotoxic', 'lukeis', 'monobasic', 'asp126his', 'bronchoscopic', 'commisuralis', 'enigmatic', 'regionsis', 'myelodysplastic', 'aromatic−aliphatic', 'noncanonic', 'autoproteolysis', 'chromoanasynthesis', 'dysplasic', 'geneis', 'andthis', 'aseptic', 'macrocyclic', 'coelectrophoresis', 'esophagomanometric', 'xenopusis', 'chromoendoscopic', 'wasspecific', 'polypsosis', 'karyokinesis', 'resultsclinicopathologic', 'yunis', 'orotic', 'arg24his', 'phosphoproteomic', 'hyperoxic', 'anastomotic', 'val774insasnprohis', 'hypoxemic', 'gilhuis', 'pharmacokinetic', 'lymphogenesis', '4analysis', 'dennis', 'lymphoblastic', 'metachondromatosis', 'egtazic', 'fl–specific', 'biobasic', 'leiomyomagenesis', 'polycythemic', 'mandelic', 'spherocytic', 'kilic', 'authorschematic', 'oasis', 'heteomeric', 'laevis', 'epileptogenesis', 'all–specific', 'agraphic', 'embryogenesis', 'heteroallelic', 'ziekenhuis', 'challengethis', 'pathohistologic', 'dikic', 'thecytotoxic', 'lymphocyte–specific', 'endris', 'diabetic', 'electrokinetic', 'griffis', 'taconic', 'kastritis', 'melanocytic', 'cytomegalic', 'anastomosis', 'anemic', 'mesenteric', 'nongenetic', 'exocyclic', 'obesogenic', 'tumornecrosis', 'asp820his', 'monotransgenic', 'mcginnis', 'français', 'dic', 'entopic', 'brzovic', 'bioinformatic', 'euchromatic', 'multicystic', '27–specific', 'anionic', 'simplerhypothesis', 'dimorphic', 'diagrammatic', 'ataliotis', 'atretic', 'lysis', 'a—schematic', 'osteoradionecrosis', 'metabotropic', 'keratotic', 'omic', '+his', 'presomitic', 'american–specific', 'nonleukemic', 'pathophysiologic', 'paracentesis', 'vulvitis', 'osteoclastogenesis', 'chondrocytic', 'mardis', 'flowcytometric', 'xenotropic', 'partic', 'phoresis', 'lepidic', 'panendoscopic', 'cytopathologic', 'excitotoxic', 'genotype–therapeutic', 'intrasplenic', 'anecdotic', 'niflumic', 'osteoporosis', 'nonglycolytic', 'mircovic', 'sepsis', 'arthritogenic', 'gliosis', 'lymphadenitis', 'denis', 'anlysis', 'linoleic', 'drosophilavirilis', 'hyperbolic', 'aromatic−aromatic', 'anticariogenic', 'oligomelanotic', 'sulis', 'polybasic', 'fragmentographic', 'sulfuric', 'structuralanalysis', 'allergic', 'bourgeois', 'intragenic', 'docosapentenoic', 'low–metastatic', 'subcentimetric', 'bicinchroninic', 'thermodynamic', 'allele–specific', 'microcystic', 'monosomic', 'hdacis', 'tubulocystic', 'schwannosis', 'enuresis', 'monozygotic', 'ogenic', 'ribonucleic', 'pinocytosis', 'extraembryonic', 'thermophoresis', 'favelyukis', 'elston–ellis', 'ulis', 'popmusic', 'iis', 'calorimetric', 'hypermetabolic', 'proteostatic', 'mucopolysaccharidosis', 'lois', 'microbiologic', 'uremic', 'proapototic', 'intraprostatic', 'epididymis', 'generic', 'somatic', 'rac1‐specific', 'leukemogenesis', 'cellulitis', 'intestinalis', 'phosphomimetic', 'echogenic', 'esis', 'speciesspecific', 'fatatis', 'myogenesis', 'eml4–anaplastic', 'myristic', 'plasmatic', 'blepharophimosis', 'hemaotpoietic', 'heterotypic', 'normoplastic', 'instrinsic', 'pericentromeric', 'analysiscytogenetic', 'predis', 'telangiectatic', 'merotelic', 'catastrophic', 'mercaptoethanesulfonic', 'nospecific', 'eleis', 'ascorbic', 'debris', 'pseudosymmetric', 'isotonic', 'extrapelvic', 'kessis', 'vaginalis', 'biphenotypic', 'osteoarthritis', 'spongiotic', 'neuroaxis', 'piezoelectric', 'hydroxymyristic', 'polyposis', 'spherocytosis', 'alleleic', 'nonhaematopoietic', 'oxyphilic', 'simetric', 'fis', 'apoptosis', 'bois', 'nitrilotriacetic', 'paraneoplastic', 'resorcylic', 'historic', 'lymphoplastic', 'amyloidogenic', 'mammographic', 'neuroectodermic', 'hypothesis', 'apcδ716cis', 'nickelnitrilotriacetic', 'erkis', 'stereotactic', 'tumor–node–metastasis', 'mucositis', 'polycytidilic', 'bapoptosis', 'arrest–specific', 'heterophilic', 'symptomatic', 'prophylaxis', 'prezygotic', 'amphotrophic', 'myoclonic', 'enterocolitis', 'polyclinic', 'preoplastic', 'pentameric', 'antimitotic', 'dioleoylphosphatidic', '12prognosis', 'actinic', 'tothis', 'monocentric', 'osteopetrosis', 'dyserythropoiesis', 'athermic', 'stankovic', 'extrasomatic', 'bioanalytic', 'cytokinesis', 'lazaris', 'adenomic', 'melanogenic', 'thanatophoric', 'dacic', 'thantaophoric', 'deoxycytidylic', 'polycistronic', 'restenosis', 'xlis', 'arg112his', 'contumorigenesis', 'ketogenesis', 'prokaryotic', 'laryngitis', 'epidermolysis', 'numeric', 'aminoacidic', 'norris', 'thrombocytic', 'sulfenic', '1×antibiotic', 'isogenic', 'glutamicoxaloacetic', 'oncogeneic', '1–specific', 'ovis', 'proteolysis', 'profibrotic', 'glycolytic', 'fuschimeric', 'intercistronic', 'dysgranulopoiesis', 'bydensitometric', 'drophobic', 'prostatic', 'gliomatosis', 'steatosis', 'praxis', 'seborrhaeic', 'thecarcinogenesis', 'farnesylthiosalicylic', 'arrayanalysis', 'chromothriptic', 'doris', 'heteozygotic', 'nucleolytic', 'pacific', 'heptafluorobutyric', 'bariatric', 'nalysis', 'kapitanovic', 'cholestasis', 'plasmidic', 'electronmicroscopic', 'paramagnetic', 'emblematic', 'hemolysis', 'largesystematic', 'monosynaptic', 'neurofibrornatosis', 'plcitalic', 'pediculosis', 'protein–nucleic', 'myelopoietic', 'cytomic', 'hemochromatosis', 'scleritis', 'anti–promyelocytic', 'neutrophilic', 'analytic', 'butanolic', 'clínic', 'makrythanasis', 'arg373his', 'pannoramic', 'nongenotropic', 'thyroiditis', 'tartaric', 'amis', 'tris', '10mmtris', 'ptis', 'hypoechoic', 'caris', 'syntelic', 'diserythropoietic', 'tetraacetic', 'cytolytic', 'etv1–specific', 'nostic', 'fractionationcytoplasmic', 'blepharoptosis', 'scoliotic', 'hematogenic', 'arg1095his', 'cellextrinsic', 'meleagris', 'supraglottis', 'glycosidic', 'carney–stratakis', 'hydroxypicoloinic', '—this', 'gln660his', 'ganglioneuromatosis', 'iris', 'isothermalisobaric', 'thephenotypic', 'teratogenic', 'kulis', 'pleiomorphic', 'anaesthetic', 'hyperbaric', 'pyralis', 'systemic', 'arthritis', 'mekis', 'phagocytosis', 'lymphomagenic', 'electroporesis', 'terminal–specific', 'genetic', 'neurotrotrophic', 'meiotic', 'landis', 'cytostatic', 'endocytotic', 'fibrotic', 'osteoblastic', 'premeiotic', 'reactionis', 'angiomatosis', 'unusualbiphasic', 'meiosis', 'margolis', 'chemotactic', 'deberardinis', '2oncogenic', 'inapoptosis', 'endolymphatic', 'grosbois', 'myelogenic', 'haemopoiesis', 'myc–specific', 'antitumorigenesis', 'diallelic', 'supraoptic', '–tris', 'apotosis', 'normocytic', 'pseudocatalytic', 'arvanitis', 'ioannidis', 'leucocytosis', 'mouseembryonic', 'polakis', 'clinicogenetic', 'non–chronic', 'periaortic', 'hydronephrosis', 'ethyleneglycoltetraacetic', 'craniosynostosis', 'kasarskis', 'lipolytic', 'demichelis', 'aponeurotic', 'oris', 'ruis', 'angiolymphatic', 'atic', 'val765inshishis', 'carcinoembryogenic', 'oleic', 'pgl3basic', 'allele−specific', 'symphysis', 'val774inshis', 'photographic', 'hyaluronic', 'cosmic', 'maleic', 'clinic', 'lymphocytic', 'homeostatic', 'hypocalciuric', 'morphologic', 'paragangliomatosis', 'nonpolymorphic', 'diethylenetriaminepentaacetic', 'encephalomyocarditis', 'stage–specific', 'microanatomic', 'vermis', 'fiberoptic', 'homophylic', 'kinematic', 'mtor–eukaryotic', 'osteomyelitis', 'caloric', 'aesthetic', 'acidic', 'ethylenedimainetetraacetic', 'tamaskovic', 'myotis', 'tomographic', 'heterozygotic', 'postzygotic', 'catarrhalis', 'betulinic', 'intracytoplasmic', 'synergistic', 'comcytotoxic', 'orthotropic', 'ethanesulfonic', 'lymphatic', 'proptosis', 'acidophilic', 'heterochromatic', 'lympholastic', 'angiosarcomagenesis', 'ordiagnosis', 'paris', 'hydroxycinnamic', 'metastagenic', 'muleris', 'panspecific', 'keratinocyte‐specific', 'bioptic', 'sulfonic', 'meningitis', 'nigroviridis', 'extrahepatic', 'eucaryotic', '1interspecific', 'enteropancreatic', 'corticogenesis', 'electrophoretic', 'iroquois', 'myocarditis', 'amphotropic', 'skordis', 'ischemic', 'monoallellic', 'antonarakis', 'semigenetic', 'astrocytosis', 'anhidrosis', 'erlic', 'arg188his', 'informatic', 'heterotrimeric', 'cystogenesis', 'melanomaspecific', 'hydrophilic', 'lipoblastic', 'physiologic', 'eosinophilic', 'myopericytic', 'chemohaptotactic', 'hionic', 'genesis', 'microscopic', 'cleophilic', 'demenais', 'cific', 'nonimmunogenic', 'anisopoikilocytic', 'socioeconomic', 'noradrenergic', 'vehic', 'keratitis', 'exocytosis', 'tenis', 'ciliogenesis', 'mimic', 'embryonic', 'tissue‐specific', 'myc–transgenic', 'fibrillogenesis', 'apyrimidinic', 'rasopatheis', 'pandis', 'suberoylanilidehydroxamic', 'macrocystic', 'eukaryocytic', 'σgenetic', 'hypoketotic', 'davis', 'agnostic', 'p110αcatalytic', 'ptrchis', 'electromyographic', 'septic', 'adipocytic', 'amphiphatic', 'trichloroacetic', 'oligomeric', 'indexnextanalysis', 'macrocephalic', 'autocatalytic', 'antibodyspecific', 'myelomonoblastic', 'achondroplastic', 'flu–specific', 'ethic', 'hispanic', 'parasitic', 'antimetastatic', 'histogenic', 'arg303his', 'commentssomatic', 'nonmetastatic', 'eachanalysis', 'jarvis', 'acid–glutamic', 'gln1747his', 'ankylosis', 'psuedosymmetric', 'dyskeratosis', 'cardiotoxic', 'pediatric', 'aprognostic', 'tumorignesis', 'decameric', 'cvitkovic', 'subtype–specific', 'maltais', 'phenotypic', 'tetracyclic', 'canadensis', 'republic', 'baris', 'dyskaratosis', 'aminobutyric', 'hyperplastic', 'cardiomyogenesis', 'mastocytosis', 'spinohypothalamic', 'ras–specific', 'epidemiologic', 'reticulocytosis', 'dyspeptic', 'bicistronic', 'synergic', '7–specific', 'ataris', 'hepatic', 'clonotypic', 'symptomtatic', 'vignais', 'causespecific', 'byelectrophoresis', 'non‐polyposis', 'myopathic', 'antiapoptosis', 'enkephalinergic', 'nondiabetic', 'sciatic', '—allelic', 'preapoptotic', 'hypertrophic', 'neuropsychiatric', 'brachiocephalic', 'system–specific', 'kontaridis', 'cirrhosis', 'typic', 'empiric', 'oxytocinergic', 'otic', 'intergenic', 'maniatis', 'allelespecific', 'melanomageneic', 'anisocytosis', 'hyperhidrosis', 'myelofibrosis', 'specificmutagenic', 'beatmusic', 'linitis', 'diathesis', 'dichroic', 'pericolic', 'parametric', 'densitometric', 'homodimeric', 'oligospecific', 'fluorogenic', 'thermophilic', 'infectednecrosis', 'rhizomelic', 'pectoris', 'chemotaxis', 'osteosclerosis', 'melanocytosis', 'multimeric', 'prognostic', 'hyperkeratosis', 'homeostasis', 'nonsyndromic', 'ferric', 'sulphonic', 'homoeostasis', 'oligodendrocytic', 'anoxic', 'stojic', 'xenogeneic', 'neurohypophysis', 'dyspneic', 'context–specific', 'pseudoarthrosis', 'orthokeratotic', 'kgraphic', 'meningiomatosis', 'endemic', 'oncocytic', 'hypogastric', 'drastic', 'nonmeiotic', 'ecchymosis', '39bthis', 'pleotropic', 'lographic', 'carcinogenesis', 'tropicalis', 'tunis', 'c–specific', 'prototrophic', 'lomonocytic', 'hepatitis', 'agenesis', 'mutagnesis', 'gliomagenesis', 'hemolytic', 'prechondrogenic', 'inlysis', 'osteoporotic', 'tasic', 'survivalcharacteristic', 'caleninis', 'gelelectrophoresis', 'synapsis', 'iminodiacetic', 'embryologic', 'rnais', 'cardioplegic', 'proapopotic', 'bicinchoninic', 'trophoresis', 'psychosis', 'both—catalytic', 'itis', 'cardiomyopathic', 'syngeneic', 'allis', 'dithiobis', 'diencephalic', 'urologic', 'antiangiogenesis', 'otactic', 'crystalographic', 'mourikis', 'trichloracetic', 'gelatinolytic', 'análisis', 'logic', 'public', 'nonexonic', 'anisopoikilocytosis', 'histopathologic', 'pseudomyogenic', 'nosologic', 'allosteric', 'cédric', 'his', 'atypic', 'algorithmic', 'biogenic', 'proapoptic', 'proteinuric', 'erythropoiesis', 'probiotic', 'phosphoric', 'pathogenetic', 'cubic', 'craniosynostotic', 'inelastic', 'hemiparesis', 'peripancreatic', 'cytometolic', 'tryptic', 'immunogenic', 'thoracentesis', 'necrotic', 'glycine–arginine–glycine–aspartic', 'allelelic', 'colonoscopic', 'memphis', 'monochromatic', 'photomicrographic', 'presynaptic', 'marais', 'synostosis', 'decapentaplegic', 'necroptosis', 'endomitosis', 'immunomagnetic', 'keratosis', 'mediastinitis', 'sekulic', 'cic', 'proteolytic', 'benzoic', 'artavanis', 'megencephalic', 'mitogenic', 'arg224his', 'lysophosphatidic', 'prolineglutamic', 'chemotoxic', 'hemorrahgic', 'gastritis', 'radiotherapeutic', 'moderatelowbiallelic', 'pathologic', 'tthis', 'blepharitis', 'dysmorphic', 'karabinis', 'tricarboxylic', 'bistris', 'metastastic', 'erythocytosis', 'sarcevic', 'leiomyomatosis', 'gln→his', 'prolific', 'his773insaspprohis', 'dystrophic', 'tolerogenic', 'pathogenic', 'ophthalmologic', 'alcianophilic', 'chaotropic', 'nonorthodontic', 'diastolic', 'valproic', 'centimetric', 'histogenetic', 'bindsis', 'audiologic', 'biallelic', 'metric', 'leukemic', 'marchis', 'enteric', 'anulvsis', 'p110α–specific', 'inorganic', 'vaudois', 'tumourigenic', 'biologic', 'bialleic', 'autistic', 'orthophosphoric', 'hemangiopericytic', 'clonogenic', 'cardiophrenic', 'pharmacophoric', 'neurolysis', 'synopsis', 'antimesenteric', 'pentaacetic', 'hypomelanotic', 'nononcogenic', 'osis', 'thantophoric', 'mydriasis', 'hydroxamic', 'histotypic', 'poietic', 'croquelois', 'clodronic', 'nonhemopoietic', 'orthochromatic', 'delellis', 'avis', 'motogenic', 'transgastric', 'proadipogenic', 'ceramic', 'dizygotic', 'taconicartemis', 'cytomeric', 'dyspraxic', 'aspgraphic', 'anamnesis', 'angiogenesis', 'cytometric', 'wis', 'phenolic', 'apurinic', 'isocratic', 'biochemic', 'carcinogencsis', 'schultheis', 'anubis', 'ethyltoxic', 'seborrheic', 'stereotypic', 'orsomatic', 'polyphenolic', 'subanalysis', 'nonphosphospecific', 'metallophilic', 'catabolic', 'subcarcinogenic', 'pyelonephritis', 'nephrogenic', 'cryogenic', 'neuraxis', 'intrasteric', 'monogenetic', 'nucleic', 'phologic', 'resultsproteomic', 'achromic', 'her2–specific', 'caprylic', 'lymphotrophic', 'thepathogenesis', 'allele‐specific', 'metopic', 'static', 'arithmetic', 'biphasic', 'exonucleolytic', 'nontoxic', 'colitis', 'phylogenic', 'exonic', 'glycogenosis', 'erythremic', 'metatasis', 'dubois', 'conspic', 'microphysiometric', 'eris', 'mediacybernetic', '6xhis', 'tosis', 'arg272his', 'lymphomagenesis', 'transaminitis', 'encephalomyelitis', 'vic', 'bispecific', 'thalamic', 'deterministic', 'atopic', 'toxic', 'familiaris', 'desmoplastic', 'sis', 'nonalcoholic', 'democratic', 'fetalis', 'hemorrhagic', 'pedis', 'pancreatric', 'cytomorphologic', 'bchronic', 'oestrogenic', 'fibrogenic', 'autoproteolytic', 'leukemogeneic', 'eicosapentenoic', 'procarcinogenic', 'pharyngitis', 'mirkovic', 'dysembryoplastic', 'leukoerythroblastic', 'covaris', 'micrometastasis', 'lossallelic', 'ellis', 'hypomorphic', 'glycoltetraacetic', 'abscisic', 'etiologic', 'scoliosis', 'neuropathic', 'cogenic', 'analaysis', 'dysmegakaryopoiesis', 'sephardic', 'homomeric', 'portis', 'antiadipogenic', 'synchronic', 'diaminobenzidine–specific', 'domestic', 'otitis', 'fasciitis', 'dicarboxylic', 'aventis', 'neoplastic', 'olympic', 'pharmacodynamic', 'hyperchromatic', 'ingastric', 'cellsis', 'oligometastatic', 'reis', 'nonhematologic', 'sarcomagenesis', 'diaphragmatic', 'trisomic', 'angiographic', 'therapeutic', 'transproteomic', 'martis', 'hydroxyglutaric', 'tumongenic', 'nonlymphocytic', 'ichthyosis', 'physiatric', 'angelis', 'pro379his', 'rdelellis', 'pneumocystis', 'harris', 'ethicsthis', 'comoncogenic', 'tracheostenosis', 'goris', 'fundic', 'atomic', 'mgclgraphic', 'nrasg12v–transgenic', 'muscularis', 'polymenis', 'kaldis', 'isomeric', 'françois', 'lymphblastic', 'delic', 'his68his', 'follic', 'ectopic', 'group‐specific', 'hydrolytic', 'arg267his', 'lymphangiogenesis', 'splenectasis', 'cytogenetic', 'noncatalytic', 'cholinergic', '2this', 'academic', 'ilic', 'jovanovic', 'mosaic', 'cys3his', 'kis', 'anticatalytic', 'pancreatic', 'gliogenic', 'bronchiectasis', 'atdiagnosis', 'genealogic', 'nonisogenic', 'transferred‐specific', 'cervicitis', 'normochromic', 'andgenotoxic', 'cytologic', 'semisynthetic', 'pcranalysis', 'hypoplastic', 'stambolic', 'haramis', 'prediabetic', 'hydrophyllic', 'mdm4genomic', 'onychomycosis', 'ureteric', 'nonmosaic', 'hepatotumorigenesis', 'developmentspecific', 'schwannomatosis', 'adrenergic', 'chiosis', 'genetronic', 'transcriptspecific', 'phototropic', 'asp351his', 'valine599glutamic', 'centric', 'endolytic', 'leukaemogenesis', 'preleukaemic', 'histocytic', 'frederic', 'indianopolis', 'neuroblastic', 'collagenolytic', 'hypodermic', 'phagocytotic', 'tropicallis', 'eukaroytic', 'multiparametric', 'bigenic', 'pandemic', 'sonographic', 'papagerakis', 'karyotypic', 'granulocytic', 'marinkovic', 'ampullarycarcinogenesis', 'cardiologic', 'rhabdomyoblastic', 'bellais', 'stereospecific', 'metaphasic', 'italic', 'keratinocytic', 'discussiongenomic', 'masculoaponeurotic', 'arg420his', 'ascitic', 'arrhythmogenic', 'trifluoroacetic', 'intronic', 'cryptogenic', 'pneumocystosis', '7–denis', 'optic', 'ubiquitinspecific', 'microcytosis', 'sekikaic', 'leukemogenic', '~embryonic', 'gluconeogenic', 'thecharacteristic', 'pseudohypoxic', 'radiometric', 'electrophilic', 'androgenic', 'pleuritic', 'parthenogenetic', 'multigenic', 'acetic', 'nonparametric', 'genotypic–phenotypic', 'dysgenetic', 'genespecific', 'gastroparesis', 'aftersomatic', 'bibliographic', 'vukosavljevic', 'glossoptosis', 'transthoracic', 'vacic', 'lipogenic', 'noncraniosynostosis', 'nomic', 'burris', 'hematopietic', 'metastasis', 'grigoriadis', 'kais', 'thalassemic', 'stomatitis', 'antimitogenic', 'anaplastic', 'hypertonic', 'homoestatic', 'immunologic', 'clinicopathogic', 'cellsdiagnostic', 'cancerogenesis', 'erythroleukemic', 'anabolic', 'asynapsis', 'granulopoietic', 'nonallelic', 'locus–specific', 'cyanosis', 'powis', 'thrombocytopenic', 'pneumocytic', 'classic', 'categoric', 'microcytic', 'tautomeric', 'inthis', 'electroretinographic', '2neurofibromatosis', 'pakt–specific', 'cytosolic', 'diagnostic', 'endocrinologic', 'humeris', 'glycine–arginine–glycine–glutamic', 'hybridizationanalysis', 'macroscopic', 'tetraparesis', 'mutationsgenomic', 'epicanthic', 'aganglionosis', 'leucoerythroblastic', 'pro445his', 'transcriptomic', 'hellenic', 'fluorimetric', 'citric', 'hepatogenesis', 'insporadic', 'immunohistologic', 'enterohepatic', 'haemorrhagic', '365this', 'amphophilic', 'immunotherapeutic', 'mutatgenesis', 'intermitotic', 'bais', 'osteogenic', 'slavic', 'neuritogenesis', '4–anaplastic', 'haptotaxis', 'intraerythrocytic', 'cysteine–aspartic', 'lentis', 'postendocytic', 'aristolochic', 'symansis', 'argis', 'basic', 'hgraphic', 'leukemia–retinoic', 'artemis', 'stochastic', 'oxaloacetic', 'perinephric', '*his', 'tetrameric', 'pelvic', 'rodenhuis', 'orthorhombic', 'loupakis', 'aquatic', 'endoscopic', 'garlic', 'limbic', 'splenic', 'neoangiogenesis', 'egfris', 'travis', 'cytolysis', 'distalis', 'endocarditis', 'adhesiolysis', 'amitotic', 'topographic', 'lilischkis', 'heterozygosis', 'hierarchic', 'diatomic', 'optogenetic', 'colic', 'proptotic', 'pageanalysis', 'substoichiometric', 'postlysis', 'myelomagenic', 'prohypertrophic', 'processsomatic', 'chimeric', 'systematic', 'bioanalysis', 'ketotic', 'bthis', 'dyspoiesis', 'polymeric', 'anxiogenic', 'leukoerythroblastosis', 'exomic', 'felis', 'myelomonocytic', 'chromophilic', 'oncogenic', 'stenosis', 'homospecific', 'cytomorphogenesis', 'kyritsis', 'debiais', 'haemogenic', 'distributionis', 'normocalcemic', 'chaotic', 'ii–his', 'naphthalenesulfonic', 'uncharacteristic', 'manic', 'angiogenic', 'pruritis', 'd1–specific', 'peptic', 'dramatic', 'pseudoschisis', 'seanalysis', 'transgenosis', 'musclespecific', 'postmitotic', 'arg132his', 'piperazineethanesulfonic', 'phagocytic', 'immunoblastic', 'bolhuis', 'bellis', 'preoptic', 'postmeiotic', 'cosmetic', 'isosteric', 'polytherapeutic', 'antitumorigenic', 'aromatic', 'cycstic', 'chris', 'nonaliphatic', 'asp835his', 'chorangiomatosis', 'piknotic', 'ophlois', 'breaksgenomic', 'dyshomeostasis', 'pelengaris', 'rubric', 'prognosis', 'clinocopathologic', 'patternslepidic', 'hepatocarcinogenesis', 'intrathoracic', 'itris', 'metastatic', 'kuwaitis', 'paracentric', 'henis', 'xenobiotic', 'noprognostic', 'spectroscopic', 'spermiogenesis', 'p53–175his', 'concentric', 'carcinogenetic', 'paradigmatic', 'macrocytosis', 'cerebellohypothalamic', 'lineage–specific', 'polychromatophilic', 'hyperplasic', 'tyr3o98his', 'terminalis', 'vignjevic', 'myelosis', 'paretic', 'hyperkeratotic', 'climatic', 'polyinosinic', 'leukaemic', 'mastoiditis', 'pakistanis', 'endometriosis', 'hemophilic', 'anysocytosis', 'acinic', 'glutamatergic', 'therapeuticsmastocytosis', 'stamenkovic', 'halilovic', 'trrific', 'catholic', 'form–specific', 'dyskaryotic', 'robotic', 'docosahexahenoic', '2echocardiographic', 'targets—elastic', 'leukosis', 'mutationalanalysis', 'monoclinic', 'energetic', 'dulic', 'myelocytosis', 'sergentanis', 'juranic', 'spondylodiscitis', 'tumorgenic', 'trophoblastic', 'dolichocephalic', 'paraparasis', 'β1–specific', 'neurotrophic', 'dualistic', 'philic', 'normocephalic', 'electrophysiologic', 'arg49his', 'neurometabolic', 'dermatitis', 'otorhinolaryngologic', 'phegraphic', 'alfantis', 'hypoinsulinemic', 'manometric', 'sarcomagenic', 'pyodermatitis', 'ophthalmic', 'retinoic', 'corticotropinergic', 'antigen–specific', 'subtherapeutic', 'themechanistic', 'electrostatic', 'myotonic', 'apatitic', 'radiomimetic', 'lis', 'pseudarthrosis', 'monoisotopic', 'clonespecific', 'hydroxypicolinic', 'emetic', 'minneapolis', 'homotypic', 'synchondrosis', 'ethnic', 'automatic', '382genetic', '20−specific', 'electrophoresis', 'immunohistochemicalanalysis', 'hydroxyindolacetic', 'val774insglyhis', 'polypsis', 'follis', 'necrosis', 'biogenesis', 'crystallographic', 'bic', 'apoptotis', 'hemodynamic', 'coelomic', 'bronchogenic', 'amniocentesis', 'propanesulfonic', 'angiogensesis', 'thematic', 'torkis', 'glycemic', 'gliomagenic', 'eric', 'pyogenic', 'gliogenesis', 'pharmacogenetic', 'prentis', 'amegakaryocytic', 'pyrosis', 'therapuetic', 'oesophagogastric', 'blastogenesis', 'densitometricanalysis', 'picolinic', 'multiclinic', 'radiometabolic', 'oligonucleotidesynthesis', 'thalassemiamyelodysplastic', 'canonic', 'prophylactic', 'synthesis', 'antimycotic', 'okadaic', 'curis', 'hgf–heterotypic', 'auxotrophic', 'micropenis', 'kyphosis', 'lipogenesis', 'mesocolic', 'tumorigenesis', 'hyperglycemic', 'cytostasis', 'haptotactic', 'nonchimeric', 'conthis', 'granulomatosis', 'domain–specific', 'tyr98his', 'gerondakis', 'ivanovic', 'postischemic', 'preadipocytic', 'blastosis', 'preneoplastic', 'prosthesis', 'cellytic', 'ar–specific', 'sclerosis', 'a–specific', 'fascicularis', 'arabidopsis', 'nuclear–cytoplasmic', 'chymotryptic', 'electronic', 'hydrophobic', 'dyserythropoietic', 'matic', 'gyromagnetic', 'investigatedthis', 'biomimetic', 'nonneoplastic', 'forensic', 'unrealistic', 'antiestrogenic', 'optimistic', 'folliculogenesis', 'cystic', 'multisystemic', 'proarrhythmic', 'polyanionic', 'opportunistic', 'chimaeric', 'nonhyperplastic', 'hyluronic', 'alcoholic', 'temgésic', 'amidic', 'smatic', 'spondylolisthesis', 'exotic', 'quasimonomorphic', 'formic', 'asymmetric', 'nordic', 'acidssynthetic', 'monodelphis', 'paralysis', 'demographic', 'megakaryopoiesis', 'gapis', 'microanalysis', 'lactogenic', 'thymic', 'isobaric', 'nongenomic', 'isogeneic', 'imaris', 'campomelic', 'thescientific', 'antineoplastic', 'echocardiographic', 'electophoresis', 'monallelic', 'pulmonic', 'donis', 'subpolymorphic', 'atherogenesis', 'aplastic', 'lonic', 'giannakis', 'his773insthrprohis', 'crystallograpic', 'dysplastic', 'meric', 'mychis', 'monotypic', 'neurologic', 'sclerotic', 'heteroscedastic', 'osmic', 'enteritis', 'withinthis', 'intragenetic', 'amelanotic', 'analysisgenomic', 'dynamic', 'vasculitis', 'peiris', 'embolic', 'asn822his', 'envelope–specific', 'gigantic', 'polycationic', 'rhoa‐specific', 'alexis', 'complic', 'lymphocytosis', 'myelodysplatic', 'nephronophthisis', 'dermis', 'mammospheric', 'asn382his', 'intraexonic', 'acidosis', 'anthropometric', 'proteostasis', 'thermolytic', 'biometric', 'kinetic', 'nonhydrophobic', 'mycologic', 'antiapoptotic', 'tsichlis', 'ionotropic', 'orogastric', 'tumor‐specific', 'splanchnic', 'showpic', 'leukocytosis', 'oncogenetic', 'phosphatidic', 'white–hispanic', 'themis', 'hematopoetic', 'spermatogenesis', 'myenteric', 'thymocytic', 'louis', 'homotrimeric', 'metaplastic', 'pathetic', 'esophagitis', 'homophilic', 'arg172his', 'chromogenic', 'inmetastatic', 'phic', 'mice—this', 'exelixis', 'mimetic', 'toleragenic', 'iiic', 'traffic', 'hypogenesis', 'piriformis', 'caenorhabditis', 'civic', 'monoallelic', 'ciliopathic', 'psychotic', 'amphipathic', 'heterodimeric', 'thymopoiesis', 'pylocytic', 'betis', 'nonmutagenesis', 'protoplasmic', 'blenis', 'poeis', 'nucleocytoplasmic', 'distichiasis', 'pathomorphologic', 'tyr112his', 'hydrolysis', 'phasic', 'erythrophagocytosis', '6mechanistic', 'triclinic', 'mesonephric', 'discussionsomatic', 'hepatocytespecific', 'osteitis', '2–specific', 'morpholineethanesulfonic', 'authentic', 'tumorgenesis', 'furunculosis', 'mycosis', 'ecotropic', '*this', 'colocolic', 'ischaemic', 'allellic', 'heterospecific', 'trostatic', 'trimeric', 'ratiometric', 'phosphospecific', 'triphasic', 'nonpilocytic', 'osteogenesis', 'pilaris', 'oligoastrocytic', 'genomic', 'fotsis', 'ionic', 'hyperinsulinemic', 'proteomic', 'fluorometric', 'submicroscopic', 'monomyelocytic', 'genotypic', 'fluorosis', 'monopoiesis', 'line–specific', 'cys–cys–his–his', 'acidemic', 'indianapolis', 'nonleukemogenic', 'nicotinic', 'colonic', 'michaelis', 'lewis', 'acid781aspartic', 'marquis', 'skeletogenic', 'sc–his', 'containingtris', 'salicyclic', 'karyorrhexis', 'orthotopic', 'hematopoeisis', 'dinucleotidic', 'natriuretic', 'osteotropic', 'isotopic', 'osteloysis', 'endocytic', 'tactic', 'haematopoiesis', 'docosahexanoic', 'novartis', 'multicatalytic', 'paresis', 'paradoxic', 'hematopoietic', 'syntenic', 'eukaryotic', 'spermatogenic', 'chappuis', 'orthodontic', 'resynthesis', 'presymptomatic', 'prognathic', 'postdiagnosis', 'arg203his', 'nemesis', 'steatohepatitis', 'tumorigenesisis', 'phosphomimic', 'antiamnesic', 'pregenomic', 'bric', 'lipodystrophic', 'andhomeostasis', 'bracanalysis', 'polysomic', 'thepolymorphic', 'kris', 'mitogenesis', 'melanotrophic', 'directedmutagenesis', 'anintronic', 'erspecific', 'sequencinganalysis', 'whosis', 'illiakis', 'cephalic', 'ectoplasmic', 'genotypeethnic', 'arthntis', 'isoelectric', 'amphoteric', 'epistatic', 'hydrodynamic', 'zygotic', '30gastric', 'amplificationis', 'stratakis', 'urosepsis', 'brosis', 'neurogenic', 'pathognomonic', 'kokontis', 'organometallic', 'retinitis', 'cotransgenic', 'systolic', 'genic', 'hyperkinetic', 'cytoplamsic', 'neurogenomic', 'bd–specific', 'antiangiogenetic', 'morphogic', 'intrahepatic', 'lymphangitic', 'eucalcemic', '—analysis', 'proapoptosis', 'luis', 'sinusitis', 'thrombopoietic', 'ganglionic', 'holoendemic', 'blastic', 'carryingthis', 'gln479his', 'rhombic', 'tyr472his', 'dimitrijevic', 'arg784his', 'endogenic', 'economic', 'dis', 'lexicographic', 'dopaminergic', 'thrombocytosis', 'neurogenesis', 'aerobic', 'bethnic', 'nb—pelvic', 'pericentric', 'anisotropynucleoplasmiccytoplasmic', 'haemostasis', 'embronic', 'kyphoscoliosis', '–specific', 'peptidic', 'amniotic', 'osteolysis', 'monochorionic', 'dibasic', 'deoxycholic', 'stenotic', 'eachis', 'hepatocytic', 'stattic', 'octameric', 'palmitic', 'metanalysis', 'loop—genetic', 'reanalysis', 'macrometastatic', 'hemopoietic', 'nonsclerotic', 'cytapheresis', 'hepatosplenic', 'hepatosteatosis', 'embryogeneis', 'immunohistopathologic', 'bitransgenic', 'isis', 'kinase–specific', '\\\\uis', 'keratocystic', 'spectrophotometric', 'atherosclerosis', 'racemic', 'underdiagnosis', 'docosahexaenoic', 'aminosalicylic', 'arabic', 'gene–specific', 'protumorigenic', 'policlinic', 'pro314his', 'aifantis', 'myelopoiesis', 'melanomagenesis', 'cycle–specific', 'telomeric', 'sicryptic', 'hypovolemic', 'obstetric', 'nevic', 'tumourigenesis', 'normospermic', 'prelimbic', 'andjelkovic', 'hepaticcarcinogenesis', 'hexameric', 'nucleoplasmic', 'glomerulosclerosis', 'nephrotic', 'tumourigeneis', 'extragenic', 'prolymphocytic', 'bozic', 'ketoacidosis', 'morphic', 'type—specific', 'gametogenesis', 'tumorspecific', 'vhlis', 'vulgaris', '20mmtris', 'autonomic', 'syngenic', 'atomistic', 'ecotopic', 'chromothrypsis', 'parodontitis', 'metronomic', 'chemotherapy—toxic', 'idiosyncratic', 'heuristic', 'endometriotic', 'hemispheric', 'maydis', 'immunonologic', 'pathogenesis', 'maris', 'nonclonogenic', 'granulopoiesis', 'notchic', 'hematiopoietic', 'anoikis', 'craniosynotosis', 'luminometric', 'erythrocytic', 'ultrasonic', 'performic', 'myelodysplasic', 'csic', '~hydrolysis', 'femoris', 'dicentric', 'dermatoglyphic', 'osteoclastic', 'mavrakis', 'subaortic', 'histiocytic', 'lipophilic', 'mmtris', 'baybis', 'prefibrotic', 'hafdis', 'tanis', 'lymphotropic', 'polyglutamic', 'protyrhis', 'bialleleic', 'myofibromatosis', 'forthis', '−his', 'alveologenic', 'unspecific', 'subgenomic', 'antiarrhythmic', 'cryptic', 'pericytic', 'aortic', 'aconthosis', 'mutagenesis', 'dendritogenesis', 'dupuis', 'antibiotic–antimycotic', 'introductionspecific', 'tumeric', 'tissuespecific', 'naphthoic', '—genetic', 'anorexigenic', 'transgenic', 'hyperthermic', 'extrathymic', 'endothermic', 'phylogenetic', 'toplasmic', 'chromatographic', 'aml–specific', 'dielectric', 'presynostosis', 'hypohidrosis', 'argiris', 'profilingmechanistic', 'fibroblastic', 'pechlivanis', 'arg9his', 'coffin–siris', 'dodecameric', 'adenosis', 'geometric', 'postsynaptic', 'scurrentaddressis', 'anaphylaxis', 'mitochondriogenesis', 'aminohexanoic', 'neuritic', 'metamorphosis', 'aspartic', 'syndromic', 'holistic', 'trypsinautolysis', 'technologic', 'nonpathologic', 'autosomic', 'mastocytotic', 'cationic', '6×his', 'brcanalysis', 'her2axis', 'hypereosinophilic', 'tocolytic', 'baltic', 'disomic', 'tumorigensis', 'gastro–entero–pancreatic', 'antiangiogenic', 'chemokinesis', 'epistasis', 'weis', 'hexanoic', 'pylaris', 'indicatethis', 'proapoptotic', 'tonic–clonic', 'leu21his', '5â€•exonnucleotidecodondomatinaablleter2atisoonmbpatic', 'isoform–specific', 'immunophenotypic', 'facsanalysis', 'melanomais', 'dendritic', 'arg263his', 'mediatedlysis', 'onthis', 'val774insglyasnprohis', 'pancreatitis', 'synostosic', 'simonis', 'non–parametric', 'antihis', 'innovatis', 'chromoplectic', 'melanomagenic', 'densiometric', 'enzymatic', 'lipidic', 'chorionic', 'cystoscopic', 'nontransgenic', 'lafyatis', 'tricyclic', '*nonspecific', 'demischelis', 'electroencephalographic', 'normoxic', 'morphogenesis', 'curtis', 'ptosis', 'bis–tris', 'subglottic', 'transformationis', 'cardiogenesis', 'gastric', 'condeelis', 'zolendonric', 'embolitic', 'duodenitis', 'andleukemic', 'pustulosis', 'lymphopenic', 'nonerythrocytic', 'heterotetrameric', 'extracolonic', 'thrombopoiesis', 'strategic', 'orthopedic', 'nonhypoxic', 'morphogenetic', 'proteolitic', 'strandspecific', 'perinecrotic', 'parenthesis', 'syngcneic', 'polycytidylic', 'thyrotoxicosis', 'nucleosolic', 'folliculitis', 'cutis', 'spasmolytic', 'lumphatic', 'francois', 'angioimmunoblastic', 'criptic', 'histogenesis', 'schematic', 'compartmentspecific', 'metabolomic', 'atphydrolysis', 'pleiotropic', 'his773dupasnprohis', 'pretherapeutic', 'lymphohistiocytic', 'haematologic', 'genotropic', 'cheilitis', 'lyonnais', 'hemopoiesis', 'glisovic', 'hypercalcemic', 'lineagespecific', 'edgetic', 'plastic', 'morpholinepropanesulfonic', 'monocytic', 'asymptotic', 'miyakis', 'mtor‐specific', 'heterocyclic', 'immunospecific', 'lytic', 'canis', 'axis', 'probabilistic', 'thermoscientific', 'kalitsis', 'hyperganglionosis', 'hyris', 'scintific', 'overdiagnosis', 'francis', 'antigen‐specific', 'penis', 'snplistanalysis', 'panasonic', 'cytometryapoptosis', 'abdominopelvic', 'pleiotrophic', 'forsomatic', 'poikilocytosis', 'electrocardiographic', 'carolinensis', '30mmtris', 'morris', 'hypoglycemic', 'simplistic', 'strategyis', 'isotypic', 'mutantsis', 'monospecific', 'gynaecologic', 'ofhydrolysis', 'ha‐specific', 'thrombotic', 'cytopenic', 'alveogenesis', '2genetic', 'emperipolesis', 'tube–specific', 'isogenomic', 'kyphoplastic', 'tumorigenisis', 'nonhematopoeitic', 'anatomic', 'endophytic', 'grbovic', 'aminocaproic', 'neck–specific', 'bitopic', 'proangiogenesis', 'ethylenediaminetetraacetic', 'colorimetric', 'fibronecrotic', 'hematepoietic', 'erythroblastosis', 'peristalsis', 'melanosis', 'megakaryocytopoiesis', 'epic', 'histomorphologic', 'brafis', 'meis', 'osmotic', 'polysomnographic', 'oic', 'leukapheresis', 'mris', 'granulocytosis', 'kinasespecific', 'polygenic', 'esophagogastric', 'papulosis', 'cascadic', 'cellspecific', 'stromogenesis', 'pathobiologic', 'stoichiometeric', 'nonapoptotic', 'endocyclic', 'altmetric', 'anesthetic', 'mavrothalassitis', 'optionsdiscussioncystic', 'sarcoma–specific', 'hydrochloric', 'oncogenesis', 'psoriasic', 'aspartatic', 'contextspecific', 'polyaromatic', 'stasis', 'logistic', 'deoxyinosinic', 'molecular–vysis', 'heptameric', 'testis', 'creatic', 'episcleritis', 'pharmacologic', 'hypereosinophillic', 'subcutis', 'exothermic', 'path—therapeutic', 'fluororotic', '26metastasis', 'haigis', 'isodicentric', 'traumatic', 'inhibitorscharacteristic', '„omic', 'proteic', 'mauvais', 'siris'}\n",
      "CPU times: user 18.9 s, sys: 9.97 ms, total: 18.9 s\n",
      "Wall time: 19 s\n"
     ]
    }
   ],
   "source": [
    "%%time\n",
    "pattern3 = r\"[A-Za-z]+i[sc]$\"\n",
    "txt_with_sis_tis = [word.lower() for word in word_tokens \\\n",
    "                    if re.search(pattern3, word) \\\n",
    "                    if word not in commoners \\\n",
    "                    if word.lower() not in ics_to_remove]\n",
    "print(set(txt_with_sis_tis))"
   ]
  },
  {
   "cell_type": "code",
   "execution_count": 16,
   "metadata": {
    "collapsed": true
   },
   "outputs": [],
   "source": [
    "ics_to_remove = {'antarctic', 'electric', 'specific', 'nonspecific', 'this', 'volumetric', 'thesis', 'terrific', 'horrific', 'graphic',\n",
    "                 'mechanic', 'mechanistic', 'basis', 'analysis'}"
   ]
  },
  {
   "cell_type": "markdown",
   "metadata": {},
   "source": [
    "<b>Words that end with -cyte(s)</b>"
   ]
  },
  {
   "cell_type": "code",
   "execution_count": 25,
   "metadata": {},
   "outputs": [
    {
     "name": "stdout",
     "output_type": "stream",
     "text": [
      "{'promonocyte', 'epitheliocyte', 'oligodrendrocyte', 'kocyte', 'nonkeratinocyte', 'thyrocyte', 'centrocyte', 'oncocyte', 'innocyte', 'poikilocyte', 'nevocyte', 'siderocyte', 'histiocyte', 'myelocyte', 'promyelocyte', 'adipocyte', 'plasmocyte', 'leucocyte', 'pneumocyte', 'nonlymphocyte', 'minigemistocyte', 'enterocyte', 'reticulocyte', 'podocyte', 'neurocyte', 'oocyte', 'osteocyte', 'cardiomiocyte', 'chondrocyte', 'granulocyte–monocyte', 'spleenocyte', 'erythromegakaryocyte', 'astrocyte', 'gonocyte', 'phocyte', 'incucyte', 'hepatocyte', 'pericyte', 'preadipocyte', 'splenocyte', 'leukocyte', 'cardiomyocyte', 'erythrocyte', 'monocyte', 'prolymphocyte', 'micromegakaryocyte', 'cholangiocyte', 'keratinocyte', 'synoviocyte', 'andlymphocyte', 'hemocyte', 'pneumonocyte', 'sebocyte', 'phagocyte', 'immunocyte', 'thrombocyte', 'metamyelocyte', 'colonocyte', 'anti–hepatocyte', 'myocyte', 'oligodendrocyte', 'incyte', 'megakarocyte', 'melanocyte', 'unit–granulocyte', 'granulocyte', 'megakaryocyte', 'thymocyte', 'spermatocyte', 'nevomelanocyte', 'depocyte', 'kerationcyte', 'lymphocyte'}\n",
      "CPU times: user 17.5 s, sys: 0 ns, total: 17.5 s\n",
      "Wall time: 17.5 s\n"
     ]
    }
   ],
   "source": [
    "%%time\n",
    "pattern4 = r\"[A-Za-z]+cytes?$\"\n",
    "txt_with_cytes = [word.lower() for word in word_tokens if re.search(pattern4, word)]\n",
    "txt_with_cytes = [re.sub(r's$', '', word) for word in txt_with_cytes]\n",
    "print(set(txt_with_cytes))"
   ]
  },
  {
   "cell_type": "markdown",
   "metadata": {},
   "source": [
    "<b>Words that end with -nib or -mab</b>"
   ]
  },
  {
   "cell_type": "code",
   "execution_count": 99,
   "metadata": {},
   "outputs": [
    {
     "name": "stdout",
     "output_type": "stream",
     "text": [
      "{'brentuximab', 'cellswasimatinib', 'dasitinib', 'preimatinib', 'gentuzumab', 'suntinib', '2—entrectinib', 'fostamatinib', 'tinib', '—gefitinib', 'crizotiinib', 'sulfatinib', 'lenvatinib', 'canertinib', 'post–erlotinib', '1—entrectinib', 'lucitanib', '+pertuzumab', 'motesanib', '+cobimetinib', 'geftinib', 'merestinib', 'trametinib', 'entrecitnib', 'imitinib', 'altiratinib', 'tremelimumab', '+imatinib', 'nintedanib', 'tipifarnib', 'neratinib+trastuzumab', 'egfr–afatinib', 'selumetinib', 'tivantinib', 'ceritinib', 'sorafenib+sunitinib', '+erlotinib', 'lumretuzumab', 'fedratinib', 'cobimetinib', 'tivatinib', 'tasocitinib', 'crenolanib', 'vatalanib', 'duligotuzumab', 'lestaurtinib', 'withimatinib', 'arms—erlotinib', 'dovitinib', 'toimatinib', 'trastuzumab+neratinib', 'postimatinib', 'desminib', 'imatinib', 'mgimatinib', 'rutuximab', 'dabrafenib–trametinib', 'pertuzumab', 'dacomitnib', 'alemtuzumab', 'crioztinib', 'erlotinib', 'g1202rcrizotinib', 'seluteminib', 'withdasatinib', 'tmab', 'entrectinib', 'gewtinib', 'gist–regorafenib', 'ramicirumab', 'fenib', 'ponatinib', 'resultedinmoderateimatinib', '—cetuximab', 'gefitnib', 'critoztinib', 'methodsreagentscrizotinib', 'mepolizumab', 'brivanib', 'vandetanib', 'ofimatinib', 'nilotinib', '2,4,19imatinib', 'saracatinib', 'sitravatinib', 'ipilimumab', 'capmatinib', 'rituximab', 'rilotumumab', 'crizotonib', 'cerdulatinib', 'sorafanib', 'nimotuzumab', 'figitumumab', 'afatanib', '3—entrectinib', 'cediranib', 'ros1–crizotinib', '5imatinib', 'non–panitumumab', 'afatinib', 'tkis—nilotinib', 'administrationcrizotinib', 'melanomaimatinib', 'zumab', 'vemurafenib', 'linsitinib', 'elotinib', 'crizotinib', 'precrizotinib', 'trastuzumab+lapatinib', 'lexatumumab', 'vemurafinib', 'refametinib', 'her2–afatinib', 'seribantumab', 'mutantcabozantinib', 'cabozantinib', 'nentedanib', 'pembrolizumab', 'creonolanib', 'neratinib', 'pre–bevacizumab', 'lonafarnib', '−imatinib', 'gemtuzumab', 'inhibition—sorafenib', 'reslizumab', 'laptinib', 'levantinib', 'masitinib', 'gefinib', 'tandutinib', 'loopweremutatedinimatinib', 'masatinib', 'quizartinib', 'sunitinib', 'lapatinib', 'alectinib', 'trastuzumab', 'dabrafenib', 'melanoma—ipilimumab', 'foretinib', 'gefitanib', 'gefitinib', 'pharmacokineticsimatinib', 'vemuraftenib', 'sorafinib', 'bevacizumab', 'panitumumab', 'certinib', 'egfr—cetuximab', 'ruxotilinib', 'osimertinib', 'abagovomab', 'kitimatinib', 'vemurfenib', 'axitinib', 'trastuzamab', 'lorlatinib', 'dacomitinib', 'pmab', 'patritumab', 'sorafenib', 'glesatinib', 'kit–imatinib', 'ibrutinib', 'orantinib', 'cabozatinib', 'erolotinib', 'cetuximab', 'ruxolitinib', 'pazopanib', 'dasatinib', 'regorafenib', 'tepotinib', 'ramucirumab', 'pelitinib', 'post–crizotinib', 'margetuximab', 'ertumaxomab', 'underimatinib', 'amuvatinib', 'dasatanib', 'tofacitinib', 'brigatinib', '+cetuximab', 'bosutinib', 'vantetanib', 'nonerlotinib', 'pre–crizotinib', 'onartuzumab', 'c491dupnilotinib', '+trastuzumab', 'siltuximab', 'transtuzumab', 'ficlatuzumab'}\n",
      "CPU times: user 24.2 s, sys: 8 µs, total: 24.2 s\n",
      "Wall time: 24.2 s\n"
     ]
    }
   ],
   "source": [
    "%%time\n",
    "pattern5 = r\"\\w+nib$|\\w+mab$\"\n",
    "txt_with_nib = [word.lower() for word in word_tokens if re.search(pattern5, word)]\n",
    "print(set(txt_with_nib))"
   ]
  },
  {
   "cell_type": "markdown",
   "metadata": {},
   "source": [
    "<b>Words that end with -ase(s)</b>"
   ]
  },
  {
   "cell_type": "code",
   "execution_count": 26,
   "metadata": {},
   "outputs": [
    {
     "name": "stdout",
     "output_type": "stream",
     "text": [
      "{'γ‐secretase', 'glycosyltransferase', 'telophase', 'acetylglucosaminetransferase', 'asparaginase', 'integrase', 'sds–proteinase', '25–base', 'tryptase', 'lyase', 'acetylglucosaminidase', 'sialyltransferase', 'reductase', 'cyclooxygenase', 'single–base', 'optimase', '370base', '9–base', 'rho‐gtpase', 'hydroxlase', 'g1phase', 'retrotranscriptase', 'topoisomerase', 'aphase', 'fumarase', 'pseudouridylase', '1case', 'endoribonuclease', 'cyclase', 'mataphase', 'encase', 'mesophase', 'aconitase', 'ikinase', 'multikinase', 'taqpolymerase', 'ar–luciferase', 'yanase', 'translocase', 'anincrease', 'geranylgeranylprenyltransferase', 'ferrochelatase', 'transcarbamoylase', 'transketolase', 'endoglycosidase', 'phosphoglycerolkinase', 'antiperoxidase', '5′phosphatase', 'glycolsylase', 'amylase', 'bensonase', 'mutationspolymerase', 'brother—case', 'phosphokinase', 'allcase', 'hydroxlylase', 'transciptase', 'vbase', 'tease', 'database', 'thedatabase', 'anhydrase', 'desaturase', 'myeloperoxidase', 'exonuclease', 'hexosaminidase', 'orotase', 'herculase', 'biase', 'polymerase', 'catalase', 'prostase', 'dna–database', 'phosphodiesterase', 'time–polymerase', 'haase', 'thelactoperoxidase', 'ferase', 'release', 'sulfurylase', 'gabactosidase', 'glucokinase', '12caspase', 'kilobase', 'amidotransferase', 'showingincrease', 'mutase', 'drug–kinase', 'metalloprotease', 'liberase', 'glucosidase', '3–base', 'β‐galactosidase', 'aliase', 'oase', 'glycogensynthase', 'endonulcease', 'glcnacase', 'apyrase', 'oxygenase', 'reversetranscription–polymerase', 'peptidase', 'deoxynucleotidyltransferase', 'phase', 'carboxylase', 'livermetastase', 'tyrosinekinase', 'micrometastase', 'avidin–biotin–peroxidase', '4–kilobase', 'dememethylase', 'base', 'glycosidase', 'glycosylase', 'iikinase', 'dibiase', '59–base', 'mbase', 'clease', 'phatase', 'endonuclease', 'predisease', 'anydecrease', 'bylowercase', 'phosphase', 'liposarcomascase', 'paracaspase', 'glutamyltransferase', 'in~rease', 'trimethyltransferase', 'stransferase', 'complex—decrease', '–polymerase', 'her2kinase', 'sulfatase', 'reducedatpase', 'endogenousperoxidase', 'formyltransferase', 'recognizesbase', 'clonase', 'glucuronosyltransferase', 'mtase', 'deactylase', 'geranylgeranyltransferase', 'reversetranscriptase', 'pseudokinase', 'phosphastase', 'hre–luciferase', 'a\\ue002tbase', 'disaccharidase', 'hypbase', 'taqipolymerase', 'pgalactosidase', 'anaphase', 'three–base', 'deacytylase', 'prometaphase', 'theatpase', 'uppercase', 'carboxylmethyltransferase', 'isopeptidase', 'ltr–caspase', 'aldolase', 'β–galactosidase', 'siayltransferase', 'biphase', 'elastase', 'tase', 'aceyltransferase', 'rnaase', 'convertase', 'aminotransferase', 'kinbase', 'benzonase', 'phrase', 'phosphaterelease', 'pan‐kinase', 'disesase', 'transhydrogenase', 'oncokinase', 'nonkinase', 'submegabase', 'pulse–chase', 'acetyltranferase', 'metastastase', 'inculactosidase', 'farnesyltransferase', 'telomerase', 'dimethyltransferase', 'donuclease', 'phosphotransferase', 'tp53database', 'superscriptase', 'ntpase', 'thase', 'tkluciferase', 'monoubiquitylase', 'glucuronidase', 'deacetylatase', 'myristoyltransferase', 'flybase', 'racemase', 'deubiquitinase', 'retrotransposase', 'tyrosinase', 'ligase', 'antiphase', 'methyltrasferase', 'helicase', 'abase', 'thermonuclease', 'recombinase', 'nondisease', 'repbase', 'firstcase', 'cd8–caspase', 'rtase', 'sdisease', '636–base', 'synthase', 'polyerase', 'shluciferase', 'deacylase', 'ribosyltransferase', 'galactosyltransferase', 'modbase', 'restrictionendonuclease', 'thisdatabase', 'decease', 'monomethylase', 'please', '3ecrease', 'deoxyribonuclease', 'spholipase', 'ribonuclease', 'endopeptidase', 'secretase', 'terabase', 'showcase', 'intrinsicgtpase', 'aromatase', 'dehyrogenase', 'metastatase', 'sequenase', 'dihydroorotase', 'oxidoreductase', 'methodsdatabase', 'adenylpyrophosphatase', 'sialidase', 'chitinase', 'disease', 'stimulatedgtpase', 'metaphase', 'gtpase', 'phosphoesterase', 'rnase', 'pease', 'rhogtpase', 'rho–kinase', 'muramidase', 'incase', 'chitotriosidase', 'photolyase', 'base–base', 'pngase', 'erase', 'resolvase', 'diastase', 'gst–caspase', 'alsodecrease', 'lase', 'xtpase', 'phosphofructokinase', 'cease', 'receptor–luciferase', 'abd–kinase', 'increase', 'p70s6kinase', 'megabase', 'phosphomannomutase', 'urokinase', 'transcription–polymerase', 'pronase', 'pyrophosphorylase', 'sykkinase', 'mutation–disease', 'protease', 'endoprotease', 'mnase', 'prephase', 'dnaase', 'chase', 'transacetylase', 'amplirase', 'endoproteinase', 'mutatedcase', 'deubiquitylase', 'crease', 'rq1dnase', '100–protease', 'promoter–luciferase', 'ribosylpolymerase', 'tastase', 'purchase', 'kinsase', 'demathylase', 'dnase', 'agarase', 'lucifcrase', 'thermosequenase', 'hatpase', 'qpolymerase', 'methytransferase', 'acyltransferase', '57case', 'n‑methyltransferase', 'gamma‐secretase', 'pancaspase', 'tobase', 'arginase', 'hyaluronidase', 'gistcase', 'immunoperoxidase', 'actosidase', 'deacetylase', 'galactosidase', 'glutaminase', 'neurofibromase', 'andkinase', '3case', 'deacetyltransferase', 'ends–polymerase', 'gigabase', 'deubiquitanase', 'prokinase', 'aspartase', 'demethyase', '286–base', 'enterokinase', 'negativecase', 's‐transferase', 'dramaticallydecrease', 'interkinase', 'reducedgtpase', 'pemxidase', 'ftase', '*metastase', 'knowledgebase', 'msh6patpase', 'optiphase', 's6kinase', 'transposase', 'thatincrease', 'hydratase', 'acetylcholinesterase', 'fukase', 'othercase', 'immunokinase', 'collagenase', 'metallopeptidase', 'carboxypeptidase', 'carboxylesterase', 'buffer+protease', 'transcriptase–polymerase', 'one−base', 'metastase', 'oligosaccharyltransferase', '2,3‐dioxygenase', 'glucosyltransferase', 'barnase', 'pbase', 'paraphrase', 'hydrogenase', 'methodscase', 'sheddase', '26please', 'acetylglucosaminyltransferase', 'decarboxylase', 'demethylase', 'methyltransfersase', 'proteinase', 'transaminase', 'synthetase', 'ptpase', 'metatase', 'acetyltransferase', 'enolase', 'exonulease', 'asnase', 'nucleobase', 'six–base', 'methyltransferase', 'pyrophosphatase', 'macrometastase', 'blmhelicase', 'rnapolymerase', 'ease', 'kinmutbase', 'hydroxylase', 'phosphatase', 'blockedgtpase', 'interphase', 'sphase', 'rangtpase', 'fucosyltransferase', 'trimethylase', 'metalloproteinase', 'ppiase', '1base', 'andrelease', 'pancrease', 'kinase–kinase', 'thioesterase', 'embase', '2case', 'genenase', 'biobase', '3‐kinase', 'zymolase', 'nickase', 'alucifcrase', 'αp70s6kinase', 'nuclease', 'thekinase', 'phosphorylase', 'transglutaminase', 'demethyltransferase', 'acetylhexosaminidase', 'ofcase', 'mã©tastase', 'indatabase', 'chymase', 'luciferase', 'lipase', 'galactosdiase', 'acetylase', 'ppase', 'alphaease', 'hydrolase', 'sixbase', 'case', 'ductase', 'aase', 'transferase', 'hcollagenase', 'domain–kinase', 'dioxygenase', 'atpase', '9case', 'his–caspase', 'glutathione–s–transferase', 'hivdisease', 'immolase', 'glycosilase', 'decrease', 'peroxidase', 'meganuclease', 'transcriptase', 'peroxydase', 'g003metastase', 'esterase', 'phosphoribosyltransferase', 'primase', 'flippase', 'nase', '18case', 'amperase', 'procaspase', 'streptavidin–biotin–peroxidase', 'gyrase', 'phophatase', 'gliluciferase', 'carboxlyase', 'kinase', 'taspase', 'triphosphatase', 'sh2–kinase', 'anticaspase', 'dehydrogenase', 'mismatchrelease', 'oxidase', 'assays—atpase', 'thebase', 'methylase', 'ggtase', 'autopsycase', 'transaldolase', 'pholipase', 'gelatinase', 'capase', 'autokinase', '15–base', 'foldincrease', 'dualluciferase', 'multibase', 'metaloproteinase', 'accutase', 'flapase', 'thyroperoxidase', 'phospholipase', 'mirbase', 'methyltranserase', 'epimerase', 'prophase', 'dismutase', 'dependentkinase', 'deaminase', 'dispase', 'mannosidase', 'monooxygenase', 'lactamase', 'hmtase', 'hexokinase', 'sulfotransferase', 'arraycghbase', 'progressivedisease', 'lyticase', 'glphase', '13case', 'isomerase', 'caspase', '**protease', 'heparinase', 'monomethyltransferase', 'transcarbamylase', 'andluciferase', 'nagase', 'tankyrase', 'anti–caspase', 'vitrokinase', 'lowercase', 'pi3kinase'}\n",
      "CPU times: user 18.6 s, sys: 1.97 ms, total: 18.6 s\n",
      "Wall time: 18.6 s\n"
     ]
    }
   ],
   "source": [
    "%%time\n",
    "pattern8= r\"\\w+ases?$\"\n",
    "txt_with_ases = [word.lower() for word in word_tokens if re.search(pattern8, word)]\n",
    "txt_with_ases = [re.sub(r's$', '', word) for word in txt_with_ases]\n",
    "print(set(txt_with_ases))"
   ]
  },
  {
   "cell_type": "markdown",
   "metadata": {},
   "source": [
    "<b>Words that end with -blast(s)</b>"
   ]
  },
  {
   "cell_type": "code",
   "execution_count": 27,
   "metadata": {},
   "outputs": [
    {
     "name": "stdout",
     "output_type": "stream",
     "text": [
      "{'enteroblast', 'erythroblast', 'preosteoblast', 'neuroblast', 'myeloblast', 'spongiotrophoblast', 'megablast', 'p53y220sfibroblast', 'mutantfibroblast', 'monoblast', 'sideroblast', 'conditionsfibroblast', 'myoblast', 'retinoblast', 'fractionsfibroblast', 'melanoblast', 'rhabdomyoblast', 'thesefibroblast', 'igblast', 'epiblast', 'hepatoblast', 'odontoblast', 'fibroblastmyofibroblast', 'myelomonoblast', 'osteoblast', 'lymphoblast', 'murinefibroblast', 'chondroblast', 'lipoblast', 'haemangioblast', 'myofibroblast', 'immunoblast', 'ﬁbroblast', 'broblast', 'fibroblast', 'centroblast', 'plasmablast', 'proerythroblast', 'trophoblast', 'differentfibroblast', 'cytotrophoblast'}\n",
      "CPU times: user 16.3 s, sys: 977 µs, total: 16.3 s\n",
      "Wall time: 16.3 s\n"
     ]
    }
   ],
   "source": [
    "%%time\n",
    "pattern9= r\"\\w+blasts?$\"\n",
    "txt_with_blasts = [word.lower() for word in word_tokens if re.search(pattern9, word)]\n",
    "txt_with_blasts = [re.sub(r'\\W', '', word) for word in txt_with_blasts]\n",
    "txt_with_blasts = [re.sub(r's$', '', word) for word in txt_with_blasts]\n",
    "print(set(txt_with_blasts))"
   ]
  },
  {
   "cell_type": "markdown",
   "metadata": {},
   "source": [
    "<b>Words that stats with epiderm-, endothel-, onco-, hepato-, h(a)emato-</b>"
   ]
  },
  {
   "cell_type": "code",
   "execution_count": 23,
   "metadata": {
    "scrolled": true
   },
   "outputs": [
    {
     "name": "stdout",
     "output_type": "stream",
     "text": [
      "{'onco', 'oncogenek', 'haematology', 'oncogeneic', 'osteolytic', 'oncogene', 'oncogenefor', 'oncomutants', 'osteodysplastic', 'osteoid', 'hepatocellular24', 'endothelial', 'hepatocarcinogenesis—ex', 'osteochondrodysplasia', 'osteopaths', 'oncogenesis,34,40,43,46,47', 'oncologic', 'endothelia', 'osteoradionecrosis', 'oncoantigens149', 'oncocytic', 'osteosarcoma134', 'osteoblastoma', 'osteopontin', 'osteopenia', 'hepatosplenomegaly', 'hepatoslenomegaly', 'epidermis', 'oncologist', 'hepato', 'oncologically', 'oncogenes2', 'osteoprogenitors', 'hepatocyte', 'oncosuppressor', 'hepatoblast', 'hematopoietic24', 'oncogenic', 'hepatomegaly', 'osteoblast', 'osteoclastogenesis', 'hematocytometer', 'oncosystem', 'oncosnp', 'oncomine', 'osteonectin', 'osteotomy', 'oncofetal', 'oncogene29,30', 'hematoxilyn', 'oncocytoma', 'oncosuppressive', 'hepatoma', 'osteogenesis', 'osteocytes', 'oncogens', 'oncogeni', 'osteoporotic', 'osteomas', 'oncogenethe', 'osteoporosis', 'hepatocellular', 'osteoclasts', 'oncogenecity', 'oncokinase', 'oncogenomic', 'oncogene41', 'oncogenesis216', 'osteosarcoma–derived', 'hepatomas6', 'hematological', 'hepatoblastomas', 'oncochip', 'oncogenes34', 'oncogenic10', 'hepatomas', 'osteoblasts64', 'hepatoprotective', 'oncogene35', 'oncogene72', 'hematopoeisis', 'oncogenepreceded', 'epidermis10', 'osteosarcoma', 'osteotropic', 'hematogenic', 'osteoclastic', 'hematopoiesis33', 'oncogenewith', 'oncometabolite', 'oncogenesis64–66', 'haematologic', 'oncodriver', 'haematopoiesis', 'hepatocytes', 'oncocytoma57', 'oncogenecontains', 'hematopoiesis,24,25', 'osteo', 'oncotator', 'oncoprotein26', 'hematopoietic', 'hepatocyte–endothelial', 'hematoxylyn', 'epidermal', 'oncogene24', 'osteolineage', 'osteosarcomas', 'hepatocarcinogenesis', 'oncogene14,16', 'oncogenome', 'oncogeniccapability', 'osteoblastogenesis', 'oncoproteins,34', 'osteocalcin+', 'oncovirus', 'oncogene14', 'hematogeneous', 'hematologically', 'osteoblasts18', 'osteocalcin', 'oncosuppressors', 'hematopathologic', 'oncogenicactivation', 'oncogene22,23', 'oncocytes', 'haematocrit', 'osteolyses', 'epidermoid', 'haematopoietic', 'hematopietic', 'oncogonic', 'hematogenously', 'osteoblastic', 'hepatospenomegaly', 'osteosarcoma65,144', 'osteodystrophy', 'oncogenesis7,9,33,34,49', 'hepatoblasts', 'osteodystrophy20', 'osteoarticular', 'oncogenes47', 'oncopanel', 'hematoxylin–eosin', 'osteocalcin−ocdfl', 'hematopathologist', 'hematology', 'hematoxylin–eosinstained', 'osteoscarcoma', 'osteosarcomatous', 'oncolytic', 'hematopoietic—perturbations', 'oncogeneslower', 'osteopenia,29', 'hematopoiesis,6', 'hepatotoxic', 'haematopoeitic', 'haematological', 'oncogenessuch', 'oncoproteins', 'hematopathologists', 'hepatocytes38,39', 'oncogene,2', 'oncoproteins41', 'oncological', 'oncogenesis19', 'osteoprogenitor', 'haematopoiesis47', 'oncogen', 'oncoproteins127', 'hematoxylineosin', 'oncogenes4', 'oncogenity', 'oncogeneakt2', 'hematopetic', 'oncogenes7', 'oncocytomas', 'hepatocarcinomas', 'oncogene3', 'hepatomas15', 'hematolymphoid', 'osteoarthritis', 'hepatoxicity', 'oncologique', 'osteoarthropathy', 'osteoporosis—two', 'oncogenesis11', 'haematopoiesis4,10,11', 'oncologists', 'hematoma', 'oncogenesis178', 'endothelin', 'osteoclastogenesis12', 'oncogene–induced', 'hepatogenesis', 'hematopoiesis,19', 'hepatolithiasis', 'hematomata', 'hepatoblastoma', 'hepatobiliary', 'oncocytoma9–11', 'hepatobilliary', 'oncogenes—using', 'hepatotoxicity', 'oncoscan', 'osteolineagecells', 'oncomudulin', 'oncogene8', 'haematologica', 'oncogenomics', 'oncogenesare', 'oncogenes', 'hepatocarcinogenic', 'oncogeneinduced', 'oncoprotein29', 'oncogene15', 'osteogenic', 'osteoblasts11', 'oncogene–α', 'hematoloxilin', 'osteoclast', 'osteolysis', 'oncogenically', 'oncogenes15', 'oncogenetic', 'oncometabolite8–10', 'haematoma', 'hematopatholigists', 'oncogene46', 'hematopoetic', 'haematoxylin–eosin', 'osteosarcomas64', 'haematoxylin', 'oncoretrovirus', 'haemato', 'osteomyelitis', 'haematological*', 'oncogenes—affecting', 'oncogenesis', 'oncovav1', 'hematologic', 'hepatocytic', 'hematocrit', 'oncogene59', 'hepatocytes205', 'endothelium', 'hematopoiesis', 'oncoprotein17,18', 'oncogenein', 'oncogenes,1–4', 'haematopoiesis22', 'osteopetrosis', 'osteoclastogenesis10,11', 'osteoblasts', 'hematopoietically', 'oncogenes4,5', 'oncogenea', 'hepatosplenic', 'hepatosteatosis', 'osteochondroid', 'oncogenicity', 'osteoblasts102', 'hematoxylin', 'hepatocarcinoma', 'oncogenes—mdm4', 'haematochimaeric', 'oncology', 'osteosclerosis', 'oncostatin', 'haematologist', 'oncogenesis35', 'hematomalignant', 'hepatotumorigenesis', 'epidermolysis', 'oncoretroviral', 'hematomas', 'oncogenesbut', 'hematoxyline', 'hematogenous', 'oncoprotein', 'oncogenic33–37', 'haematopoietics', 'hematochezia'}\n",
      "CPU times: user 15.7 s, sys: 988 µs, total: 15.7 s\n",
      "Wall time: 15.7 s\n"
     ]
    }
   ],
   "source": [
    "%%time\n",
    "prefix_pattern1= r\"^epiderm|^endothel|^onco|^hepato|^ha?emato|^osteo\"\n",
    "txt_with_prefixes1 = [word.lower() for word in word_tokens if re.search(prefix_pattern1, word)]\n",
    "print(set(txt_with_prefixes1))"
   ]
  },
  {
   "cell_type": "code",
   "execution_count": 103,
   "metadata": {
    "scrolled": true
   },
   "outputs": [
    {
     "name": "stdout",
     "output_type": "stream",
     "text": [
      "{'phosphoEGFR', 'hypomineralization', 'phosphorylate', 'methylsulfonylethylamino', 'phosphorylation4', 'hyporexia', 'hypophysial', 'hypochromic', 'hypochondrium', 'phosphoFLT3', 'phosphoin', 'hypomethylator', 'phosphoepitopes', 'hypodiploid', 'phosphorylation23', 'phospholipid', 'hypocholesterolemia', 'phosphomimicry', 'hypothyroidism,19', 'glycosyl', 'methylazoxymethanol', 'phospholipase', 'glycoslylated', 'methylhisFIGURE', 'phosphotidlyserine', 'hypokalemia', 'phosphoresidue', 'phospho–ERK1', 'acetylases', 'phosphothioate', 'hypopigmentation', 'methylating', 'phospho‐', 'methyldeoxycytidine', 'methylationsensitive', 'methylphenyl', 'methylum', 'phosphory\\xad', 'hyposecretory', 'phosphoThr', 'phosphorylation8', 'methyltransferases', 'ubiquitylate', 'phosphorylation86', 'hypothalamic', 'methylphenazinium', 'methylation', 'phosphonacetyl', 'phosphotyrosinespecific', 'phosphorelated', 'methylation35', 'acetylation17', 'phosphopeptides', 'phosphoinoistides', 'phosphor', 'ubiquitylation15', 'phosphoAKT', 'glycopolymers', 'phosphoinositide3', 'hypoglycosylated', 'methylgreen', 'hypocalcaemia', 'methylthioadenosine', 'hypoventilation', 'ubiquitylating', 'acetylcholinesterase', 'phospho–C', 'hypomelanotic', 'methyltransferases—dSet1', 'phosphoglycerides', 'phosphoERK1', 'acetyl–p53', 'phosphotyro\\xad', 'acetylase', 'acetylgalactosaminide', 'deaminations', 'phosphorimages', 'hypoechoic', 'glycoforms', 'phosphoERBB3', 'phosphotungstic', 'phosphoTABLE', 'methylation92', 'hypopharyngeal', 'phosphoniositides', 'phosphoinositidedependent', 'acetyltransferase23–25', 'methyliodobenzylguanidine', 'hypotension', 'phosphoMAPK', 'methylthymine', 'hypotonic', 'phosphomutants', 'ubiquitination—constitute', 'methylurea', 'acetylations', 'phosphoribosyl', 'phosphocholine', 'phosphorylation15', 'phosphoprotein', 'phosphoinosi\\xad', 'glycoprotein', 'phospholipases', 'methylcytosine→thymine', 'phosphorylaMOL', 'methylumbelliferyl', 'hypoxia170', 'ubiquitination35', 'methyl', 'phosphoserine', 'phosphomannomutase', 'phosphotase–conjugated', 'phosphoramidate', 'hypoalbuminemia', 'glycosuria', 'hypoperfusion', 'phosphoamino', 'methylanthranyl', 'phosphorvlation', 'hypocellular', 'phosphosulfate', 'phosphorylation54', 'hypophysitis', 'phosphophorylation', 'acetylaminofluorene', 'ubiquitylation52', 'phospho–NF', 'acetylatable', 'phospholigand', 'phosphoinositide', 'hypoglycemia', 'hypoxia', 'hypoketotic', 'phosphoRSKS380', 'methylguanosine', 'methylation12,14', 'glycoconjugate', 'methylation,20', 'methyladenosine', 'phosphorylase–based', 'phosphokinase', 'phosphoSTAT5B', 'phosphoERK1T202', 'phosphotyrosinebinding', 'deaminate', 'glycoform', 'hypointense', 'phosphorylation88', 'phospho–ERK', 'methyltransfersases', 'glycosylation', 'phosphotyrosyl', 'phosphohistone', 'phosphostaining', 'phosphorylating', 'glycosilated', 'hypoxia38,39', 'hypocalciuric', 'hypotrichosis', 'glycosidase', 'phosphorylation—and', 'ubiquitinates', 'phosphop44', 'hypothalamus', 'phosphoP44', 'glycosylphosphatidylinositol', 'hypothesise', 'hypoplacia', 'phosphoribosylaminoimidazole', 'phospho–STAT', 'methylation19', 'hypothe', 'hypophosphatemia', 'phosphotransferases', 'deaminases', 'hypothermia', 'phosphomimetic', 'glycogen51', 'hypoxia22', 'hypochondroplasia', 'phosphoAkt', 'phosphoantibody', 'phosphodiesterase', 'methylglutaryl', 'hypoacetylation', 'glycogen', 'glycolysis13', 'ubiquitylated', 'phosphoramadite', 'phosphokinases', 'phosphorothioates', 'phosphoinositol', 'glycosylated', 'glycosaminoglycan', 'methylxanthine', 'hypopharynx', 'hypofibrinogenemia', 'phosphorylation16', 'phosphoacceptor', 'phospho905', 'hypoenhanced', 'methylationa', 'hypomorphisms', 'methylsulphonal', 'phosphorylation—', 'phosphorylase', 'hypomorphism', 'hypophosphorylation', 'hypoxemic', 'hypomyelination', 'glycopolypeptide', 'acetylH3K9', 'phosphopeptidemapping', 'hypoxic', 'hypophorylated', 'methylamine', 'phosphoERK', 'glycoproteins', 'glycosaminoglycans', 'phosphoimage', 'glycosides', 'methylpyrimidin', 'phospho–MEK1', 'glycosylase', 'phosphosignaling', 'hypoattenuating', 'hypobetalipoproteinemia', 'phosphoprotein65', 'phosphorylationFACS', 'phosphorylated', 'phosphoribosylglycinamide', 'methylenesulphonate', 'glycosylasesensitive', 'acetylcholine', 'methylguanine', 'phosphotyrosine–4G10', 'glyco', 'glycosilase', 'acetylglucosaminetransferase', 'hypotriploid', 'methylase', 'phosphoproteome', 'phosphoflow', 'hypo\\xadmethylation', 'acetylglucosamine', 'phosphoThr309', 'hyposplenism', 'phosphoimagery', 'hypoproliferation', 'phosphopeptidebinding', 'phosphorylatable', 'phosphotyrosines', 'phosphoKIT', 'methylcarbamoyl', 'methylcytosines', 'phosphoryation', 'ubiquitination15', 'methylation47', 'phosphoesterase', 'methylases', 'acetylene', 'hypoxemia', 'phosphoS338', 'deaminase', 'methylnitrosourea', 'hypolobated', 'phosphoPDGFRA', 'phosphorimager', 'hypomethylated', 'phosphorylethanolamine', 'phosphomannose', 'phosphodegron', 'phosphorylation53', 'hypofertility', 'hypohidrosis', 'methylsulfate', 'phosphorylations', 'methylation30', 'phosphoryla', 'glycolytic', 'hypospadias', 'methylcholanthrene', 'phosphoadenosine', 'phosphoric', 'phosphorylation', 'hypoglycemias', 'phosphoRTK', 'hypothyroidism', 'methylcoumarin', 'acetylation', 'phosphopeptide', 'hypothesizing', 'methylanthraniloyl', 'phosphosites', 'hyposplenia', 'methylation—levels', 'phosphorated', 'hypothesis,49', 'methylator', 'hypoplastic', 'phosphoALK', 'methylate', 'phosphorylable', 'hypofertile', 'hyporesponsiveness', 'methylation4,12', 'hypothesis26', 'glycome', 'hypocelullar', 'acetylglucosaminidase', 'acetylation28', 'hypochromia', 'hypodontia', 'phosphoproteomic', 'phospho–', 'methylation177', 'hypo‐methylation', 'hypomorph', 'phosphoMek1', 'hypodiploidy', 'hypopigmented', 'phosphoErk', 'glycosylase9', 'phospho1062', 'phosphorothioate', 'glycophorin', 'phospho–c', 'hypogastric', 'phosphoAMPK', 'hypocalcemia', 'hypothesising', 'methylene', 'methyltransferases—that', 'methylpyrazole', 'hypotonia', 'hypoadiponectinemia', 'hypoglycemic', 'phosphoproteins', 'phosphoFOXO', 'ubiquitination–proteasome', 'phospho\\xad', 'phosphorus', 'methylprednisolone', 'methylsulfoxide', 'hypothemycin', 'phosphoreceptor', 'phosphorylation80–87', 'phosphorylates', 'hypoplasia', 'methylome', 'phospho–receptor', 'phosphorylation‐defective', 'glycolysis107', 'phospho‐Stat3', 'phosphoryl', 'glycosylases', 'deaminates', 'acetyllactosamine', 'phosphorylation,24', 'hypo', 'phospholipids', 'phosphorylation1', 'glycosaminglycan', 'methylacyl', 'phosphorylation36', 'phosphoSQ', 'methylation24', 'phosphoarrays', 'ubiquitylation', 'phosphotidylinisitol', 'phosphodegrons', 'methylmethanesulfonate', 'acetylmannosamine', 'glycogenosis', 'methylation17', 'hypothesize', 'phosphoepitope', 'hypospadiac', 'deamination', 'phosphorlation', 'acetylglucosaminyltransferaseV', 'acetyltransferase', 'hypouricemia', 'glycosyltransferase', 'phosphoproteomics', 'hypotrophy', 'phosphoribosyltransferase', 'ubiquitinate', 'methyltransferases25', 'methylester', 'hypoglycaemia', 'phosphorylation—RICTOR', 'glycogensynthase', 'hypothesizedthat', 'phosphorylation172', 'glycoltetraacetic', 'phosphorylation219', 'deaminating', 'phosphocreatine', 'phospho', 'hyposegmented', 'phosphochromatography', 'phosphosilicate', 'phosphorylation41', 'methylketone', 'hypodermal', 'acetylate', 'methylaminoisobutyrate', 'hypodense', 'methylotrophic', 'phosphoS473', 'phosphoethanolamine', 'hypomethylating', 'hypogammaglobulinemia', 'phosphocellulose', 'deaminated', 'glycol', 'methylcytosine', 'phosphofructokinase', 'phosphorylationThe', 'ubiquitylates', 'ubiquitinated', 'phosphotidylinositol', 'phosphorylation33', 'hypogonadotropic', 'hypogranulated', 'methyltransferases,10,11', 'hypoxically', 'phosphorylation25', 'phosphosite', 'phosphoglycerate', 'phosphoserines', 'phosphorylation—was', 'phosphoMEK', 'phosphorodiamidate', 'acetyltranferases', 'phosphorimaging', 'phosphoino\\xad', 'phosphomimic', 'acetylH3K27', 'hypoacetylated', 'hypoxanthine', 'phosphorylation,25', 'hypoinsulinemic', 'acetylated', 'phosphoJAK2', 'methyltrasferase', 'phosphoSer795Rb', 'phosphoselectivity', 'ubiquitinating', 'phosphorylationmediated', 'phosphorylation–dephosphorylation', 'phosphop70', 'phosphorylation18', 'methylimidazo', 'phosphothreonine', 'hypoxiainducible', 'methylation98', 'methylthiotetrazole', 'phosphoylated', 'hypomorphs', 'hypovolemic', 'hypodermic', 'methylations', 'hypomorphic', 'phosphodiester', 'phosphoglycolate', 'hypomethylation', 'hypothetically', 'methylated', 'phosphoimager', 'methylphenidate', 'phosphoinositides3', 'glycolsylase', 'phosphoroamidate', 'acetyl', 'phosphoSer19', 'phosphogluconate', 'methylenetetrahydrofolate', 'phosphoY1062', 'hypotheses', 'acetylneuraminic', 'hypocellularity', 'methyladenine', 'hypocotyl', 'hypoactive', 'phosphotransferase', 'ubiquitination', 'phosphoS6', 'hypoglycemina', 'hypothesized', 'acetyltransferases', 'phosphoryaltion', 'methylenesulfonate', 'phosphonet', 'glycolipids', 'phosphorothioic', 'acetylgalactosamine', 'hypoharynx', 'acetylhexosaminidase', 'acetylates', 'phosphoSTAT3', 'ubiquitination30', 'methylhistamine', 'phosphotransfer', 'hypothesised', 'phosphospecific', 'hypothesizes', 'phosphorylation74', 'phospho–histone', 'phosphoantibodies', 'glycolysis', 'phosphonate', 'phosphodiesterases', 'hypocenter', 'methylenphosphonate', 'phosphoELK', 'methylation112', 'methyltrienolone', 'hypopituitarism', 'acetylatedforms', 'acetylglucosaminyltransferase', 'hypolipidemia', 'phosphorylation69', 'methylates', 'hypogranular', 'phosphotyrosine', 'phosphoenolpyruvate', 'hypophosphorylated', 'hypo–fatty', 'phosphoY15cdc2', 'glycocalyx', 'glycosidic', 'methylationresults', 'methylomes', 'hypogonadism', 'phosphoinositides', 'methylation,15', 'methylmethacralate', 'methylenebisacrylamide', 'phosphospecificity', 'hyponatremia', 'deamination18', 'phosphorylated,162', 'phosphorylationn', 'phosphoimaging', 'hypoparathyroidism', 'methylcellulose', 'phosphoglycerolkinase', 'acetylglucosaminyltransferases', 'phosphoMek', 'acetylating', 'phosphoylation', 'methylation140', 'phosphorous', 'methyltransferases20', 'hypopit', 'methylguanylate', 'hypolobulated', 'hyposegmentation', 'methyltransferase', 'phosphoSTAT5', 'hypovascular', 'methyltranserase', 'phosphorylation—as', 'methylpiperazin', 'deamination10', 'phosphorlyated', 'hypogenesis'}\n",
      "CPU times: user 15.5 s, sys: 16 µs, total: 15.5 s\n",
      "Wall time: 15.6 s\n"
     ]
    }
   ],
   "source": [
    "%%time\n",
    "prefix_pattern2 = r\"^glyco|^phospho|^ubiquityl|^ubiquitinat|^acetyl|^methyl|^deamin|^oxydat|^hyper|^hypo\"\n",
    "txt_with_prefixes2 = [word for word in word_tokens \\\n",
    "                      if re.search(prefix_pattern2, word) \\\n",
    "                      if word not in commoners]\n",
    "print(set(txt_with_prefixes2))"
   ]
  },
  {
   "cell_type": "code",
   "execution_count": null,
   "metadata": {
    "collapsed": true
   },
   "outputs": [],
   "source": []
  }
 ],
 "metadata": {
  "kernelspec": {
   "display_name": "Python 3",
   "language": "python",
   "name": "python3"
  },
  "language_info": {
   "codemirror_mode": {
    "name": "ipython",
    "version": 3
   },
   "file_extension": ".py",
   "mimetype": "text/x-python",
   "name": "python",
   "nbconvert_exporter": "python",
   "pygments_lexer": "ipython3",
   "version": "3.6.2"
  }
 },
 "nbformat": 4,
 "nbformat_minor": 2
}
