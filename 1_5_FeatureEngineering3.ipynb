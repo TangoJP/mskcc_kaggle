{
 "cells": [
  {
   "cell_type": "markdown",
   "metadata": {},
   "source": [
    "<b>List of feature sets</b>\n",
    "1. '-positive' and '-negative'\n",
    "2. 'gene(like)-gene(like)' fusion like words\n",
    "3. mutation types (same as ones in variants file)\n",
    "4. gene_like names\n",
    "  - sub extraction with re.sub(r'-[A-Za-z]\\*[0-9]\\*\\$')\n",
    "5. races\n",
    "6. bio-related words (very small as of now)\n",
    "7. organs\n",
    "8. tumor types : suffix '-oma(s)'\n",
    "9. cell type : suffix '-cyte(s)', '-blast(s)', '-cyst(s)'\n",
    "10. drugs : suffix '-nib' and '-mab'\n",
    "11. enzymes : suffix '-ase(s)'\n",
    "12. PTModifications: prefix \"^glyco|^phospho|^ubiquityl|^ubiquitinat|^acetyl|^methyl|^deamin|^oxydat\"\n",
    "13. biomedical conditions & adjectives 1 : suffix '-ia(s)', '-is' and '-ic: \n",
    "14. biomedical conditions & adjectives 2 : prefix \"^epiderm|^endothel|^onco|^hepato|^haemato|^osteo\n",
    "     |^neuro|^cholecyst|^cyst|^encephal|^erythr|^gastr\n",
    "     |^hist|^karyo|^kerat|^lymph|myel|^necr|^nephr|^sarco\n",
    "     |^terato|^thorac|^trache|^vasculo|^hyoer|^hypo\""
   ]
  },
  {
   "cell_type": "markdown",
   "metadata": {},
   "source": [
    "<b> Approach 1: Extract all the feature words first, make a unique set, count frequencies</b>\n",
    "- Combine all text from each entry to make a whole_text\n",
    "- Create a set of words with hyphens\n",
    "  - Tokenize the whole_text\n",
    "  - Use functions to get '-positive/negative' and fusion-like words\n",
    "- Create sets of other words\n",
    "  - Replace non-relevant characters (inclduing hyphens) in the whole_text with white space\n",
    "  - Tokenize the whole_text_white\n",
    "  - Get race words\n",
    "  - Get drug words\n",
    "  - Get gene-like words, enzymes, and PTM words\n",
    "  - Get organ, tumor type, and cell type, combine them\n",
    "  - Get biomedical conditions words, \n",
    "- Combine all the sets, remove redundancies\n",
    "- Iterate through each entry to count number of appearances for each feature (i.e. unique word in the non-redundant list)"
   ]
  },
  {
   "cell_type": "code",
   "execution_count": null,
   "metadata": {
    "collapsed": true
   },
   "outputs": [],
   "source": []
  },
  {
   "cell_type": "code",
   "execution_count": null,
   "metadata": {
    "collapsed": true
   },
   "outputs": [],
   "source": []
  },
  {
   "cell_type": "code",
   "execution_count": null,
   "metadata": {
    "collapsed": true
   },
   "outputs": [],
   "source": []
  },
  {
   "cell_type": "code",
   "execution_count": null,
   "metadata": {
    "collapsed": true
   },
   "outputs": [],
   "source": []
  }
 ],
 "metadata": {
  "kernelspec": {
   "display_name": "Python 3",
   "language": "python",
   "name": "python3"
  },
  "language_info": {
   "codemirror_mode": {
    "name": "ipython",
    "version": 3
   },
   "file_extension": ".py",
   "mimetype": "text/x-python",
   "name": "python",
   "nbconvert_exporter": "python",
   "pygments_lexer": "ipython3",
   "version": "3.6.2"
  }
 },
 "nbformat": 4,
 "nbformat_minor": 2
}
