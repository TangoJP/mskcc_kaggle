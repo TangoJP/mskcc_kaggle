{
 "cells": [
  {
   "cell_type": "markdown",
   "metadata": {},
   "source": [
    "<a id='sec0'></a>\n",
    "# Text Analysis\n",
    "- Importing Data\n",
    "- <a href='#sec1'>Exemplary Text Analysis for Row3</a>\n",
    "- <a href='#sec2'>Write function to get gene-ish words list and mutation type table</a>\n",
    "- <a href='#sec3'>Compiling the entire text-ome - testing</a>\n",
    "- <a href='#sec4'>Compiling the entire text-ome - full mutation table</a>\n",
    "- <a href='#sec5'>Compiling the entire text-ome - full gene-like words table</a>\n",
    "- <a href='#sec6'>Compiling the entire gene-ome - full gene table (not genome)</a>\n",
    "- <a href='#sec7'>Convert Mutation_Types in Class file</a>\n",
    "- <a href='#sec8'>Combined All!</a>\n",
    "- <a href='#sec9'>Test with Random Forest</a>"
   ]
  },
  {
   "cell_type": "code",
   "execution_count": 1,
   "metadata": {
    "collapsed": true
   },
   "outputs": [],
   "source": [
    "import numpy as np\n",
    "import pandas as pd\n",
    "import matplotlib.pyplot as plt\n",
    "import seaborn as sns\n",
    "import re\n",
    "\n",
    "from nltk import PorterStemmer\n",
    "from nltk.tokenize import word_tokenize\n",
    "from nltk.corpus import stopwords\n",
    "\n",
    "sns.set_context(\"paper\")\n",
    "%matplotlib inline"
   ]
  },
  {
   "cell_type": "markdown",
   "metadata": {},
   "source": [
    "<b>Importing train_text</b>"
   ]
  },
  {
   "cell_type": "code",
   "execution_count": 2,
   "metadata": {
    "collapsed": true
   },
   "outputs": [],
   "source": [
    "class_train = pd.read_csv('train_variants')\n",
    "text_train = pd.read_csv(\"train_text\", sep=\"\\|\\|\", engine='python', header=None, skiprows=1, names=[\"ID\",\"Text\"])"
   ]
  },
  {
   "cell_type": "code",
   "execution_count": 3,
   "metadata": {},
   "outputs": [
    {
     "data": {
      "text/html": [
       "<div>\n",
       "<style>\n",
       "    .dataframe thead tr:only-child th {\n",
       "        text-align: right;\n",
       "    }\n",
       "\n",
       "    .dataframe thead th {\n",
       "        text-align: left;\n",
       "    }\n",
       "\n",
       "    .dataframe tbody tr th {\n",
       "        vertical-align: top;\n",
       "    }\n",
       "</style>\n",
       "<table border=\"1\" class=\"dataframe\">\n",
       "  <thead>\n",
       "    <tr style=\"text-align: right;\">\n",
       "      <th></th>\n",
       "      <th>ID</th>\n",
       "      <th>Gene</th>\n",
       "      <th>Variation</th>\n",
       "      <th>Class</th>\n",
       "    </tr>\n",
       "  </thead>\n",
       "  <tbody>\n",
       "    <tr>\n",
       "      <th>0</th>\n",
       "      <td>0</td>\n",
       "      <td>FAM58A</td>\n",
       "      <td>Truncating Mutations</td>\n",
       "      <td>1</td>\n",
       "    </tr>\n",
       "    <tr>\n",
       "      <th>1</th>\n",
       "      <td>1</td>\n",
       "      <td>CBL</td>\n",
       "      <td>W802*</td>\n",
       "      <td>2</td>\n",
       "    </tr>\n",
       "    <tr>\n",
       "      <th>2</th>\n",
       "      <td>2</td>\n",
       "      <td>CBL</td>\n",
       "      <td>Q249E</td>\n",
       "      <td>2</td>\n",
       "    </tr>\n",
       "    <tr>\n",
       "      <th>3</th>\n",
       "      <td>3</td>\n",
       "      <td>CBL</td>\n",
       "      <td>N454D</td>\n",
       "      <td>3</td>\n",
       "    </tr>\n",
       "    <tr>\n",
       "      <th>4</th>\n",
       "      <td>4</td>\n",
       "      <td>CBL</td>\n",
       "      <td>L399V</td>\n",
       "      <td>4</td>\n",
       "    </tr>\n",
       "  </tbody>\n",
       "</table>\n",
       "</div>"
      ],
      "text/plain": [
       "   ID    Gene             Variation  Class\n",
       "0   0  FAM58A  Truncating Mutations      1\n",
       "1   1     CBL                 W802*      2\n",
       "2   2     CBL                 Q249E      2\n",
       "3   3     CBL                 N454D      3\n",
       "4   4     CBL                 L399V      4"
      ]
     },
     "execution_count": 3,
     "metadata": {},
     "output_type": "execute_result"
    }
   ],
   "source": [
    "class_train.head()"
   ]
  },
  {
   "cell_type": "code",
   "execution_count": 4,
   "metadata": {},
   "outputs": [
    {
     "data": {
      "text/html": [
       "<div>\n",
       "<style>\n",
       "    .dataframe thead tr:only-child th {\n",
       "        text-align: right;\n",
       "    }\n",
       "\n",
       "    .dataframe thead th {\n",
       "        text-align: left;\n",
       "    }\n",
       "\n",
       "    .dataframe tbody tr th {\n",
       "        vertical-align: top;\n",
       "    }\n",
       "</style>\n",
       "<table border=\"1\" class=\"dataframe\">\n",
       "  <thead>\n",
       "    <tr style=\"text-align: right;\">\n",
       "      <th></th>\n",
       "      <th>ID</th>\n",
       "      <th>Text</th>\n",
       "    </tr>\n",
       "  </thead>\n",
       "  <tbody>\n",
       "    <tr>\n",
       "      <th>0</th>\n",
       "      <td>0</td>\n",
       "      <td>Cyclin-dependent kinases (CDKs) regulate a var...</td>\n",
       "    </tr>\n",
       "    <tr>\n",
       "      <th>1</th>\n",
       "      <td>1</td>\n",
       "      <td>Abstract Background  Non-small cell lung canc...</td>\n",
       "    </tr>\n",
       "    <tr>\n",
       "      <th>2</th>\n",
       "      <td>2</td>\n",
       "      <td>Abstract Background  Non-small cell lung canc...</td>\n",
       "    </tr>\n",
       "    <tr>\n",
       "      <th>3</th>\n",
       "      <td>3</td>\n",
       "      <td>Recent evidence has demonstrated that acquired...</td>\n",
       "    </tr>\n",
       "    <tr>\n",
       "      <th>4</th>\n",
       "      <td>4</td>\n",
       "      <td>Oncogenic mutations in the monomeric Casitas B...</td>\n",
       "    </tr>\n",
       "  </tbody>\n",
       "</table>\n",
       "</div>"
      ],
      "text/plain": [
       "   ID                                               Text\n",
       "0   0  Cyclin-dependent kinases (CDKs) regulate a var...\n",
       "1   1   Abstract Background  Non-small cell lung canc...\n",
       "2   2   Abstract Background  Non-small cell lung canc...\n",
       "3   3  Recent evidence has demonstrated that acquired...\n",
       "4   4  Oncogenic mutations in the monomeric Casitas B..."
      ]
     },
     "execution_count": 4,
     "metadata": {},
     "output_type": "execute_result"
    }
   ],
   "source": [
    "text_train.head()"
   ]
  },
  {
   "cell_type": "markdown",
   "metadata": {},
   "source": [
    "<a id='sec1'></a>\n",
    "# Exemplary Text Analysis for Row903 (<a href='#sec0'>Back To Top</a>)"
   ]
  },
  {
   "cell_type": "code",
   "execution_count": 9,
   "metadata": {
    "collapsed": true
   },
   "outputs": [],
   "source": [
    "txt1 = text_train.iloc[903, 1]"
   ]
  },
  {
   "cell_type": "code",
   "execution_count": 10,
   "metadata": {},
   "outputs": [
    {
     "data": {
      "text/plain": [
       "ID                           903\n",
       "Gene                      PDGFRA\n",
       "Variation    KIF5B-PDGFRA Fusion\n",
       "Class                          7\n",
       "Name: 903, dtype: object"
      ]
     },
     "execution_count": 10,
     "metadata": {},
     "output_type": "execute_result"
    }
   ],
   "source": [
    "class_train.iloc[903, :]"
   ]
  },
  {
   "cell_type": "code",
   "execution_count": 11,
   "metadata": {},
   "outputs": [],
   "source": [
    "word_tokens = word_tokenize(txt1)\n",
    "word_tokens = np.array(word_tokens)"
   ]
  },
  {
   "cell_type": "code",
   "execution_count": 12,
   "metadata": {},
   "outputs": [
    {
     "name": "stdout",
     "output_type": "stream",
     "text": [
      "initial leng 6402\n"
     ]
    }
   ],
   "source": [
    "print('initial leng %d' % len(word_tokens))"
   ]
  },
  {
   "cell_type": "code",
   "execution_count": 13,
   "metadata": {},
   "outputs": [
    {
     "name": "stdout",
     "output_type": "stream",
     "text": [
      "After removing stop words 4632\n"
     ]
    }
   ],
   "source": [
    "stop_words = set(stopwords.words('english'))\n",
    "txt1_words = [w for w in word_tokens if not w in stop_words]\n",
    "print('After removing stop words %d' % len(txt1_words))"
   ]
  },
  {
   "cell_type": "code",
   "execution_count": 14,
   "metadata": {},
   "outputs": [
    {
     "data": {
      "text/html": [
       "<div>\n",
       "<style>\n",
       "    .dataframe thead tr:only-child th {\n",
       "        text-align: right;\n",
       "    }\n",
       "\n",
       "    .dataframe thead th {\n",
       "        text-align: left;\n",
       "    }\n",
       "\n",
       "    .dataframe tbody tr th {\n",
       "        vertical-align: top;\n",
       "    }\n",
       "</style>\n",
       "<table border=\"1\" class=\"dataframe\">\n",
       "  <thead>\n",
       "    <tr style=\"text-align: right;\">\n",
       "      <th></th>\n",
       "      <th>tokens</th>\n",
       "    </tr>\n",
       "  </thead>\n",
       "  <tbody>\n",
       "    <tr>\n",
       "      <th>0</th>\n",
       "      <td>We</td>\n",
       "    </tr>\n",
       "    <tr>\n",
       "      <th>1</th>\n",
       "      <td>identified</td>\n",
       "    </tr>\n",
       "    <tr>\n",
       "      <th>2</th>\n",
       "      <td>two</td>\n",
       "    </tr>\n",
       "    <tr>\n",
       "      <th>3</th>\n",
       "      <td>patients</td>\n",
       "    </tr>\n",
       "    <tr>\n",
       "      <th>4</th>\n",
       "      <td>(</td>\n",
       "    </tr>\n",
       "  </tbody>\n",
       "</table>\n",
       "</div>"
      ],
      "text/plain": [
       "       tokens\n",
       "0          We\n",
       "1  identified\n",
       "2         two\n",
       "3    patients\n",
       "4           ("
      ]
     },
     "execution_count": 14,
     "metadata": {},
     "output_type": "execute_result"
    }
   ],
   "source": [
    "df1 = pd.DataFrame(txt1_words)\n",
    "df1.columns = ['tokens']\n",
    "df1.head()"
   ]
  },
  {
   "cell_type": "code",
   "execution_count": 15,
   "metadata": {
    "collapsed": true
   },
   "outputs": [],
   "source": [
    "gene_ish_pattern = r\"[A-Z]{2,7}\""
   ]
  },
  {
   "cell_type": "code",
   "execution_count": 16,
   "metadata": {
    "collapsed": true
   },
   "outputs": [],
   "source": [
    "# get gene-ish words in a simple list\n",
    "gene_ish_words1 = [word for word in txt1_words if re.match(gene_ish_pattern, word)]"
   ]
  },
  {
   "cell_type": "code",
   "execution_count": 17,
   "metadata": {},
   "outputs": [
    {
     "data": {
      "text/plain": [
       "445"
      ]
     },
     "execution_count": 17,
     "metadata": {},
     "output_type": "execute_result"
    }
   ],
   "source": [
    "len(gene_ish_words1)"
   ]
  },
  {
   "cell_type": "code",
   "execution_count": 18,
   "metadata": {},
   "outputs": [
    {
     "data": {
      "text/plain": [
       "['BCR-ABL',\n",
       " 'FIP1L1-PDGFRA',\n",
       " 'STRN-PDGFRA',\n",
       " 'ETV6-PDGFRA',\n",
       " 'PDGFRA',\n",
       " 'FIP1L1-PDGFRA',\n",
       " 'CEL',\n",
       " 'CEL',\n",
       " 'PDGFRA',\n",
       " 'PDGFRB',\n",
       " 'FGFR1',\n",
       " 'JAK2',\n",
       " 'PDGFRA',\n",
       " 'PDGFRB',\n",
       " 'PDGFRA',\n",
       " 'BCR',\n",
       " 'FIP1L1',\n",
       " 'KIF5B',\n",
       " 'CDK5RAP2',\n",
       " 'CEL',\n",
       " 'CEL',\n",
       " 'MPD',\n",
       " 'MPD',\n",
       " 'XY',\n",
       " 'XY',\n",
       " 'PCR',\n",
       " 'RT-PCR',\n",
       " 'PDGFRA',\n",
       " 'PCR',\n",
       " 'STRN-PDGFRA',\n",
       " 'DNA',\n",
       " 'STRN.Fusion.Ex6.1F',\n",
       " 'PDGFRA.Fusion.Ex12.2R',\n",
       " 'ETV6-PDGFRA',\n",
       " 'ETV6.Fusion.Ex6.1F',\n",
       " 'PDGFRA.Fusion.Ex12.2R',\n",
       " 'MRD',\n",
       " 'FISH',\n",
       " 'FISH',\n",
       " 'BAC',\n",
       " 'PDGFRA',\n",
       " 'ETV6',\n",
       " 'BAC',\n",
       " 'DNA',\n",
       " 'UK',\n",
       " 'BACs',\n",
       " 'RP11-24O10',\n",
       " 'PDGFRA',\n",
       " 'RP11-434C1',\n",
       " 'ETV6',\n",
       " 'PCR',\n",
       " 'PDGFRA',\n",
       " 'BCR-ABL',\n",
       " 'FIP1L1-PDGFRA',\n",
       " 'RT-PCR',\n",
       " 'FISH',\n",
       " 'PDGFRA',\n",
       " 'PDGFRA',\n",
       " 'PDGFRA',\n",
       " 'PCR',\n",
       " 'STRN-PDGFRA',\n",
       " 'PCR',\n",
       " 'PCR',\n",
       " 'PCR',\n",
       " 'PDAI12-R4',\n",
       " 'DNA',\n",
       " 'PCR',\n",
       " 'STRN-PDGFRA',\n",
       " 'STRN-PDGFRA',\n",
       " 'DNA',\n",
       " 'WW-like',\n",
       " 'WW',\n",
       " 'WD40',\n",
       " 'WW',\n",
       " 'STRN-PDGFRA',\n",
       " 'STRN',\n",
       " 'STRN',\n",
       " 'NM_003162',\n",
       " 'PDGFRA',\n",
       " 'DNA',\n",
       " 'DNA',\n",
       " 'PDGFRA-STRN',\n",
       " 'PCR',\n",
       " 'PDGFRA',\n",
       " 'FIP1L1-PDGFRA',\n",
       " 'PDGFRA',\n",
       " 'AG',\n",
       " 'STRN',\n",
       " 'ETV6-PDGFRA',\n",
       " 'PCR',\n",
       " 'ETV6',\n",
       " 'NM_001987',\n",
       " 'PDGFRA',\n",
       " 'DNA',\n",
       " 'DNA',\n",
       " 'PDGFRA-ETV6',\n",
       " 'PCR',\n",
       " 'ETV6-PDGFRA',\n",
       " 'PCR',\n",
       " 'ETV6',\n",
       " 'PDGFRA',\n",
       " 'ETV6-PDGFRA',\n",
       " 'FISH',\n",
       " 'BACs',\n",
       " 'RP11-24O10',\n",
       " 'RP11-434C1',\n",
       " 'ETV6',\n",
       " 'PDGFRA',\n",
       " 'ETV6-PDGFRA',\n",
       " 'DNA',\n",
       " 'PCR',\n",
       " 'ETV6',\n",
       " 'PDGFRA',\n",
       " 'RT-PCR',\n",
       " 'ETV6-PDGFRA',\n",
       " 'DNA',\n",
       " 'FISH',\n",
       " 'ETS',\n",
       " 'MRD',\n",
       " 'DNA',\n",
       " 'DNA',\n",
       " 'CEL',\n",
       " 'STRN',\n",
       " 'ETV6',\n",
       " 'PDGFRA',\n",
       " 'PDGFRA',\n",
       " 'PDGFRA',\n",
       " 'ETV6',\n",
       " 'CEL',\n",
       " 'STRN',\n",
       " 'WD',\n",
       " 'WD',\n",
       " 'DNA',\n",
       " 'STRN',\n",
       " 'PDGFRA',\n",
       " 'WD',\n",
       " 'WW-like',\n",
       " 'ETV6',\n",
       " 'CHIC2/BTL',\n",
       " 'AML',\n",
       " 'PGFRA',\n",
       " 'CHIC2/BTL',\n",
       " 'ETV6-PDGFRA',\n",
       " 'ETV6-CHIC2',\n",
       " 'PDGFRA',\n",
       " 'STRN',\n",
       " 'WW-like',\n",
       " 'ETV6-PDGFRA',\n",
       " 'WW-like',\n",
       " 'WW-like',\n",
       " 'ETV6-PDGFRA',\n",
       " 'WW-like',\n",
       " 'WW-like',\n",
       " 'WW-like',\n",
       " 'WW-like',\n",
       " 'IHES',\n",
       " 'FIP1-Like-1',\n",
       " 'FIP1L1',\n",
       " 'PDGFRA',\n",
       " 'IHES',\n",
       " 'PDGFRA',\n",
       " 'PDGFRA',\n",
       " 'FIP1L1-PDGFRA-positive',\n",
       " 'FIP1L1-PDGFRA',\n",
       " 'PCR',\n",
       " 'KIF5B',\n",
       " 'PDGFRA',\n",
       " 'PDGFRalpha',\n",
       " 'KIF5B-PDGFRA',\n",
       " 'PCR',\n",
       " 'DNA',\n",
       " 'PDGFRA',\n",
       " 'IHES',\n",
       " 'PDGFRA',\n",
       " 'PDGFRA',\n",
       " 'KIF5B',\n",
       " 'HES',\n",
       " 'HES',\n",
       " 'IHES',\n",
       " 'CEL',\n",
       " 'CEL',\n",
       " 'FIP1-Like-1',\n",
       " 'FIP1L1',\n",
       " 'PDGFRA',\n",
       " 'PDGFRalpha',\n",
       " 'FIP1L1-PDGFRA-positive',\n",
       " 'CEL',\n",
       " 'PDGFRB',\n",
       " 'PDGFR',\n",
       " 'IHES',\n",
       " 'PDGFRB',\n",
       " 'FIP1L1-PDGFRA',\n",
       " 'FISH',\n",
       " 'FIP1L1',\n",
       " 'FIP1L1-PDGFRA',\n",
       " 'PDGFRA',\n",
       " 'RT-PCR',\n",
       " 'PDGFRA',\n",
       " 'KIF5B-PDGFRA',\n",
       " 'FIP1L1-PDGFRA',\n",
       " 'IHES',\n",
       " 'FIP1L1-PDGFRA',\n",
       " 'RT-PCR',\n",
       " 'BCR-ABL',\n",
       " 'FIP1L1-PDGFRA-positive',\n",
       " 'FIP1L1-PDGFRA-negative',\n",
       " 'PCR',\n",
       " 'RNA',\n",
       " 'RNeasy',\n",
       " 'RNA',\n",
       " 'BCR-ABL',\n",
       " 'FIP1L1-PDGFRA',\n",
       " 'RT-PCR',\n",
       " 'FIP1E6-F1',\n",
       " 'PDA-R1',\n",
       " 'FIP1E6-F2',\n",
       " 'PDA-R2',\n",
       " 'KIF5B-PDGFRA',\n",
       " 'KIF5B-exon19F1',\n",
       " 'PDA-exon14R1',\n",
       " 'DNA',\n",
       " 'KIF5B-exon22-F1',\n",
       " 'PDAI12-R3',\n",
       " 'KIF5B-exon19F1',\n",
       " 'PDGFRA-exon14R1',\n",
       " 'KIF5B-exon19F2',\n",
       " 'PDGFRA-exon13/14R2',\n",
       " 'PCR',\n",
       " 'DNA',\n",
       " 'KIF5B-exon22-F1',\n",
       " 'PDAI12-R3',\n",
       " 'KIF5B',\n",
       " 'PDAI12-R4',\n",
       " 'PCR',\n",
       " 'PDGFRA',\n",
       " 'PDGFRA',\n",
       " 'RT-PCR',\n",
       " 'PDGFRA',\n",
       " 'PDGFRA',\n",
       " 'PDA-exon15R',\n",
       " 'PDGFRA',\n",
       " 'PDA-exon10F',\n",
       " 'PDA-exon13F',\n",
       " 'UK',\n",
       " 'PDA-exon10F',\n",
       " 'PDA-exon13F',\n",
       " 'PDA-exon15R',\n",
       " 'FIP1L1-PDGFRA',\n",
       " 'PDGFRA',\n",
       " 'MG63',\n",
       " 'PCR',\n",
       " 'PCR',\n",
       " 'PCR',\n",
       " 'BCR-ABL',\n",
       " 'DNA',\n",
       " 'DNA',\n",
       " 'PCR',\n",
       " 'UK',\n",
       " 'PDGFRA',\n",
       " 'PDAI12-R3',\n",
       " 'DNA',\n",
       " 'UK',\n",
       " 'PCR',\n",
       " 'PDGFRA',\n",
       " 'NVAMP-1',\n",
       " 'TGCTCGTAGTAATCGTTCGCAC-3',\n",
       " 'PDAI12-R4',\n",
       " 'NVAMP-2',\n",
       " 'UK',\n",
       " 'TOPO',\n",
       " 'PCR4',\n",
       " 'UK',\n",
       " 'BAC',\n",
       " 'PDGFRA',\n",
       " 'KIF5B',\n",
       " 'DNA',\n",
       " 'HIV',\n",
       " 'TPHA',\n",
       " 'BCR-ABL',\n",
       " 'FIP1L1-PDGFRA',\n",
       " 'RT-PCR',\n",
       " 'PDGFRA',\n",
       " 'PDGFRA',\n",
       " 'FIP1L1-PDGFRA',\n",
       " 'BCR-PDGFRA',\n",
       " 'PDGFRA',\n",
       " 'PDGFRA',\n",
       " 'RT-PCR',\n",
       " 'PDGFRA',\n",
       " 'RT-PCR',\n",
       " 'PDGFRA',\n",
       " 'PDGFRA',\n",
       " 'PDGFRA',\n",
       " 'PDA-exon10F',\n",
       " 'PDA-exon15R',\n",
       " 'PDGFRA',\n",
       " 'PDA-exon13F',\n",
       " 'PDA-exon15R',\n",
       " 'PDGFRA',\n",
       " 'MG-63',\n",
       " 'PDGFRA',\n",
       " 'FIP1-Like-1',\n",
       " 'FIP1L1',\n",
       " 'PDGFRA',\n",
       " 'PDGFRA',\n",
       " 'DNA',\n",
       " 'PDGFRA',\n",
       " 'MG-63',\n",
       " 'PDGFRA',\n",
       " 'FIP1L1-PDGFRA',\n",
       " 'PDGFRA',\n",
       " 'DNA',\n",
       " 'PDGFRA',\n",
       " 'IHES',\n",
       " 'PDGFRA',\n",
       " 'FIP1L1-PDGFRA',\n",
       " 'RT-PCR',\n",
       " 'PDGFRA',\n",
       " 'FIP1L1-PDGFRA-negative',\n",
       " 'PDGFRA',\n",
       " 'PDGFRA',\n",
       " 'PDGFRA',\n",
       " 'PDGFRA',\n",
       " 'PCR',\n",
       " 'DNA',\n",
       " 'BCR-ABL',\n",
       " 'FIP1L1-PDGFRA',\n",
       " 'NCP',\n",
       " 'PDAI12-R4',\n",
       " 'PDGFRA',\n",
       " 'PCR',\n",
       " 'PDGFRA',\n",
       " 'PCR',\n",
       " 'PDGFRA',\n",
       " 'PDGFRA',\n",
       " 'PCR',\n",
       " 'DNA',\n",
       " 'PDAI12-R4',\n",
       " 'FIP1L1-PDGFRA',\n",
       " 'PDGFRA',\n",
       " 'FIP1L1',\n",
       " 'FIP1L1-PDGFRA',\n",
       " 'RT-PCR',\n",
       " 'KIF5B-PDGFRA',\n",
       " 'KIF5B',\n",
       " 'NM_004521',\n",
       " 'PDGFRA',\n",
       " 'DNA',\n",
       " 'DNA',\n",
       " 'KIF5B-exon22-F1',\n",
       " 'PDAI12-R3',\n",
       " 'PDGFRA-KIF5B',\n",
       " 'KIF5B-PDGFRA',\n",
       " 'DNA',\n",
       " 'KIF5B-PDGFRA',\n",
       " 'DNA',\n",
       " 'PB',\n",
       " 'BM',\n",
       " 'KIF5B-PDGFRA',\n",
       " 'KIF5B-exon19F1',\n",
       " 'PDA-exon14R1',\n",
       " 'RT-PCR',\n",
       " 'DNA',\n",
       " 'KIF5B',\n",
       " 'PDGFRA',\n",
       " 'KIF5B-PDGFRA',\n",
       " 'KIF5B-PDGFRA',\n",
       " 'FISH',\n",
       " 'RP11-460H18',\n",
       " 'RP11-167O6',\n",
       " 'KIF5B',\n",
       " 'KIF5B',\n",
       " 'RP11-460H18',\n",
       " 'BAC',\n",
       " 'RP11-24O10',\n",
       " 'PDGFRA',\n",
       " 'KIF5B',\n",
       " 'PDGFRA',\n",
       " 'BACs',\n",
       " 'PDGFRA',\n",
       " 'RP11-571I18',\n",
       " 'RP11-24O10',\n",
       " 'KIF5B',\n",
       " 'PDGFRA',\n",
       " 'FISH',\n",
       " 'KIF5B-PDGFRA',\n",
       " 'PDGFRA',\n",
       " 'KIF5B',\n",
       " 'FISH',\n",
       " 'KIF5B',\n",
       " 'KIF5B',\n",
       " 'KIF5B',\n",
       " 'PDGFRA',\n",
       " 'KIF5B-PDGFRA',\n",
       " 'KIF5B-PDGFRA',\n",
       " 'RT-PCR',\n",
       " 'DNA',\n",
       " 'PCR',\n",
       " 'IHES/CEL,2',\n",
       " 'FIP1L1-PDGFRA',\n",
       " 'IHES',\n",
       " 'USA',\n",
       " 'IHES',\n",
       " 'FIP1L1-PDGFRA',\n",
       " 'PDGFRA',\n",
       " 'IHES',\n",
       " 'RT-PCR',\n",
       " 'PDGFRA',\n",
       " 'PDGFRA',\n",
       " 'PDGFRA',\n",
       " 'IHES',\n",
       " 'PCR',\n",
       " 'PDGFRA',\n",
       " 'FIP1L1-PDGFRA',\n",
       " 'FIP1L1-PDGFRA',\n",
       " 'RT-PCR',\n",
       " 'CHIC2',\n",
       " 'FIP1L1-PDGFRA-positive',\n",
       " 'PDGFRA',\n",
       " 'IHES',\n",
       " 'RT-PCR',\n",
       " 'FIP1L1-PDGFRA',\n",
       " 'PCR',\n",
       " 'PCR',\n",
       " 'FIP1L1-PDGFRA-positive',\n",
       " 'PDGFRA',\n",
       " 'PDGFRA',\n",
       " 'KIF5B-PDGFRA',\n",
       " 'KIF5B',\n",
       " 'PDGFRA',\n",
       " 'BCR',\n",
       " 'FIP1L1',\n",
       " 'KIF5B',\n",
       " 'ATP',\n",
       " 'KIF5B-PDGFRalpha',\n",
       " 'KIF5B',\n",
       " 'PDGFRalpha',\n",
       " 'KIF5B-PDGFRA',\n",
       " 'PDGFRalpha',\n",
       " 'KIF5B',\n",
       " 'KIF5B-PDGFRalpha',\n",
       " 'PDGFRA',\n",
       " 'IHES',\n",
       " 'PDGFRA',\n",
       " 'FIP1L1-PDGFRA']"
      ]
     },
     "execution_count": 18,
     "metadata": {},
     "output_type": "execute_result"
    }
   ],
   "source": [
    "gene_ish_words1"
   ]
  },
  {
   "cell_type": "markdown",
   "metadata": {},
   "source": [
    "# Some useful regex and lists"
   ]
  },
  {
   "cell_type": "markdown",
   "metadata": {},
   "source": [
    "<b>Keep on adding words that are too common in 'commoners' list!</b>"
   ]
  },
  {
   "cell_type": "code",
   "execution_count": 82,
   "metadata": {
    "collapsed": true
   },
   "outputs": [],
   "source": [
    "commoners = ['RT', 'PCR', 'RT-PCR', 'DNA', 'cDNA', 'RNA', 'mRNA', 'protein', 'cell', 'cancer', 'CHIP', 'FISH']"
   ]
  },
  {
   "cell_type": "markdown",
   "metadata": {},
   "source": [
    "<b>Keep words with '-positive' and '-negative'</b>"
   ]
  },
  {
   "cell_type": "code",
   "execution_count": 60,
   "metadata": {},
   "outputs": [
    {
     "data": {
      "text/plain": [
       "['FIP1L1-PDGFRA-positive',\n",
       " 'FIP1L1-PDGFRA-positive',\n",
       " 'FIP1L1-PDGFRA-positive',\n",
       " 'FIP1L1-PDGFRA-positive',\n",
       " 'FIP1L1-PDGFRA-positive']"
      ]
     },
     "execution_count": 60,
     "metadata": {},
     "output_type": "execute_result"
    }
   ],
   "source": [
    "[word for word in txt1_words if '-positive' in word.lower()]"
   ]
  },
  {
   "cell_type": "code",
   "execution_count": 61,
   "metadata": {},
   "outputs": [
    {
     "data": {
      "text/plain": [
       "['FIP1L1-PDGFRA-negative', 'FIP1L1-PDGFRA-negative']"
      ]
     },
     "execution_count": 61,
     "metadata": {},
     "output_type": "execute_result"
    }
   ],
   "source": [
    "[word for word in txt1_words if '-negative' in word.lower()]"
   ]
  },
  {
   "cell_type": "markdown",
   "metadata": {},
   "source": [
    "<b>Detect gene fusions</b>"
   ]
  },
  {
   "cell_type": "code",
   "execution_count": 84,
   "metadata": {},
   "outputs": [
    {
     "data": {
      "text/plain": [
       "['BCR-ABL',\n",
       " 'STRN-PDGFRA',\n",
       " 'STRN-PDGFRA',\n",
       " 'BCR-ABL',\n",
       " 'STRN-PDGFRA',\n",
       " 'STRN-PDGFRA',\n",
       " 'STRN-PDGFRA',\n",
       " 'STRN-PDGFRA',\n",
       " 'PDGFRA-STRN',\n",
       " 'PDGFRA-ETV6',\n",
       " 'BCR-ABL',\n",
       " 'BCR-ABL',\n",
       " 'BCR-ABL',\n",
       " 'BCR-ABL',\n",
       " 'BCR-PDGFRA',\n",
       " 'BCR-ABL',\n",
       " 'PDGFRA-KIF5B']"
      ]
     },
     "execution_count": 84,
     "metadata": {},
     "output_type": "execute_result"
    }
   ],
   "source": [
    "fuse_pattern = r\"[A-Z]{2,7}-[A-Z]{2,7}\"\n",
    "[word for word in txt1_words \\\n",
    " if word not in commoners \\\n",
    " if re.search(fuse_pattern, word)]"
   ]
  },
  {
   "cell_type": "code",
   "execution_count": null,
   "metadata": {
    "collapsed": true
   },
   "outputs": [],
   "source": []
  },
  {
   "cell_type": "markdown",
   "metadata": {},
   "source": [
    "# Method 1: Replace periods, commas, hyphens, brackets with a space, and then tokenize"
   ]
  },
  {
   "cell_type": "code",
   "execution_count": 71,
   "metadata": {},
   "outputs": [
    {
     "name": "stdout",
     "output_type": "stream",
     "text": [
      "initial length 6402\n"
     ]
    }
   ],
   "source": [
    "tokens = word_tokenize(txt1)\n",
    "tokens = np.array(tokens)\n",
    "print('initial length %d' % len(tokens))"
   ]
  },
  {
   "cell_type": "code",
   "execution_count": 72,
   "metadata": {},
   "outputs": [],
   "source": [
    "txt1_white = txt1.encode().decode()  # copy a string?!\n",
    "txt1_white = txt1_white.replace('\"', ' ')\n",
    "txt1_white = txt1_white.replace('.', ' ')\n",
    "txt1_white = txt1_white.replace('\\'', ' ')\n",
    "txt1_white = txt1_white.replace('_', ' ')    # This should be done after _pos, etc checked\n",
    "txt1_white = txt1_white.replace('-', ' ')    # This should be done after -pos, etc checked\n",
    "txt1_white = txt1_white.replace('=', ' ')\n",
    "txt1_white = txt1_white.replace('\\n', ' ')\n",
    "txt1_white = txt1_white.replace('\\\\n', ' ')\n",
    "txt1_white = txt1_white.replace('\\'', ' ')\n",
    "txt1_white = re.sub(' +',' ', txt1_white) \n",
    "txt1_white = txt1_white.replace('\\'', ' ')\n",
    "txt1_white = txt1_white.replace('(', ' ')\n",
    "txt1_white = txt1_white.replace(')', ' ')\n",
    "txt1_white = txt1_white.replace('[', ' ')\n",
    "txt1_white = txt1_white.replace(']', ' ')\n",
    "txt1_white = txt1_white.replace('{', ' ')\n",
    "txt1_white = txt1_white.replace('}', ' ')"
   ]
  },
  {
   "cell_type": "code",
   "execution_count": 73,
   "metadata": {},
   "outputs": [
    {
     "name": "stdout",
     "output_type": "stream",
     "text": [
      "initial length 6146\n"
     ]
    }
   ],
   "source": [
    "tokens_white = word_tokenize(txt1_white)\n",
    "tokens_white = np.array(tokens_white)\n",
    "print('initial length %d' % len(tokens_white))"
   ]
  },
  {
   "cell_type": "code",
   "execution_count": 74,
   "metadata": {},
   "outputs": [
    {
     "name": "stdout",
     "output_type": "stream",
     "text": [
      "After removing stop-words & commoners 4223\n"
     ]
    }
   ],
   "source": [
    "tokens_white = [word for word in tokens_white if not word in stop_words]\n",
    "tokens_white = [word for word in tokens_white if not word in commoners]\n",
    "print('After removing stop-words & commoners %d' % len(tokens_white))"
   ]
  },
  {
   "cell_type": "code",
   "execution_count": 75,
   "metadata": {},
   "outputs": [
    {
     "name": "stdout",
     "output_type": "stream",
     "text": [
      "After removing DNA/RNA seqs 4203\n"
     ]
    }
   ],
   "source": [
    "# Remove nucleotide sequences\n",
    "nts = r\"[ACTGU]{4,}\"\n",
    "tokens_white = [word for word in tokens_white if not re.search(nts, word)]\n",
    "print('After removing DNA/RNA seqs %d' % len(tokens_white))"
   ]
  },
  {
   "cell_type": "markdown",
   "metadata": {},
   "source": [
    "This time switch to re.search t pickup pattern not just from the beginning of the words"
   ]
  },
  {
   "cell_type": "code",
   "execution_count": 76,
   "metadata": {},
   "outputs": [
    {
     "name": "stdout",
     "output_type": "stream",
     "text": [
      "# of gene-ish words: 441\n"
     ]
    }
   ],
   "source": [
    "gene_ish_words_white = [word for word in tokens_white if re.search(gene_ish_pattern, word)]\n",
    "print('# of gene-ish words: %d' % len(gene_ish_words_white))"
   ]
  },
  {
   "cell_type": "code",
   "execution_count": 77,
   "metadata": {},
   "outputs": [
    {
     "data": {
      "text/plain": [
       "['BCR',\n",
       " 'ABL',\n",
       " 'FIP1L1',\n",
       " 'PDGFRA',\n",
       " 'STRN',\n",
       " 'PDGFRA',\n",
       " 'ETV6',\n",
       " 'PDGFRA',\n",
       " 'PDGFRA',\n",
       " 'FIP1L1',\n",
       " 'PDGFRA',\n",
       " 'CEL',\n",
       " 'CEL',\n",
       " 'PDGFRA',\n",
       " 'PDGFRB',\n",
       " 'FGFR1',\n",
       " 'JAK2',\n",
       " 'PDGFRA',\n",
       " 'PDGFRB',\n",
       " 'PDGFRA',\n",
       " 'BCR',\n",
       " 'FIP1L1',\n",
       " 'KIF5B',\n",
       " 'CDK5RAP2',\n",
       " 'CEL',\n",
       " 'CEL',\n",
       " 'MPD',\n",
       " 'MPD',\n",
       " 'XY',\n",
       " 'XY',\n",
       " 'PDGFRA',\n",
       " 'STRN',\n",
       " 'PDGFRA',\n",
       " 'STRN',\n",
       " 'PDGFRA',\n",
       " 'ETV6',\n",
       " 'PDGFRA',\n",
       " 'ETV6',\n",
       " 'PDGFRA',\n",
       " 'MRD',\n",
       " 'BAC',\n",
       " 'PDGFRA',\n",
       " 'ETV6',\n",
       " 'BAC',\n",
       " 'UK',\n",
       " 'BACs',\n",
       " 'RP11',\n",
       " 'PDGFRA',\n",
       " 'RP11',\n",
       " 'ETV6',\n",
       " 'PDGFRA',\n",
       " 'BCR',\n",
       " 'ABL',\n",
       " 'FIP1L1',\n",
       " 'PDGFRA',\n",
       " 'PDGFRA',\n",
       " 'PDGFRA',\n",
       " 'PDGFRA',\n",
       " 'STRN',\n",
       " 'PDGFRA',\n",
       " 'HaeIII',\n",
       " 'PDAI12',\n",
       " 'HaeIII',\n",
       " 'STRN',\n",
       " 'PDGFRA',\n",
       " 'STRN',\n",
       " 'PDGFRA',\n",
       " 'WW',\n",
       " 'WW',\n",
       " 'WD40',\n",
       " 'WW',\n",
       " 'ΔWW',\n",
       " 'STRN',\n",
       " 'PDGFRA',\n",
       " 'STRN',\n",
       " 'STRN',\n",
       " 'NM',\n",
       " 'PDGFRA',\n",
       " 'PDGFRA',\n",
       " 'STRN',\n",
       " 'PDGFRA',\n",
       " 'FIP1L1',\n",
       " 'PDGFRA',\n",
       " 'PDGFRA',\n",
       " 'AG',\n",
       " 'STRN',\n",
       " 'ETV6',\n",
       " 'PDGFRA',\n",
       " 'ETV6',\n",
       " 'NM',\n",
       " 'PDGFRA',\n",
       " 'PDGFRA',\n",
       " 'ETV6',\n",
       " 'ETV6',\n",
       " 'PDGFRA',\n",
       " 'ETV6',\n",
       " 'PDGFRA',\n",
       " 'ETV6',\n",
       " 'PDGFRA',\n",
       " 'BACs',\n",
       " 'RP11',\n",
       " 'RP11',\n",
       " 'ETV6',\n",
       " 'PDGFRA',\n",
       " 'ETV6',\n",
       " 'PDGFRA',\n",
       " 'ETV6',\n",
       " 'PDGFRA',\n",
       " 'ETV6',\n",
       " 'PDGFRA',\n",
       " 'ETS',\n",
       " 'MRD',\n",
       " 'CEL',\n",
       " 'STRN',\n",
       " 'ETV6',\n",
       " 'PDGFRA',\n",
       " 'PDGFRA',\n",
       " 'PDGFRA',\n",
       " 'ETV6',\n",
       " 'CEL',\n",
       " 'STRN',\n",
       " 'WD',\n",
       " 'WD',\n",
       " 'STRN',\n",
       " 'PDGFRA',\n",
       " 'WD',\n",
       " 'WW',\n",
       " 'ETV6',\n",
       " 'CHIC2/BTL',\n",
       " 'AML',\n",
       " 'PGFRA',\n",
       " 'CHIC2/BTL',\n",
       " 'ETV6',\n",
       " 'PDGFRA',\n",
       " 'ETV6',\n",
       " 'CHIC2',\n",
       " 'PDGFRA',\n",
       " 'STRN',\n",
       " 'WW',\n",
       " 'ETV6',\n",
       " 'PDGFRA',\n",
       " 'WW',\n",
       " 'WW',\n",
       " 'ETV6',\n",
       " 'PDGFRA',\n",
       " 'WW',\n",
       " 'WW',\n",
       " 'WW',\n",
       " 'WW',\n",
       " 'IHES',\n",
       " 'FIP1',\n",
       " 'FIP1L1',\n",
       " 'PDGFRA',\n",
       " 'IHES',\n",
       " 'PDGFRA',\n",
       " 'PDGFRA',\n",
       " 'FIP1L1',\n",
       " 'PDGFRA',\n",
       " 'FIP1L1',\n",
       " 'PDGFRA',\n",
       " 'KIF5B',\n",
       " 'PDGFRA',\n",
       " 'PDGFRalpha',\n",
       " 'KIF5B',\n",
       " 'PDGFRA',\n",
       " 'PDGFRA',\n",
       " 'IHES',\n",
       " 'PDGFRA',\n",
       " 'PDGFRA',\n",
       " 'KIF5B',\n",
       " 'HES',\n",
       " 'HES',\n",
       " 'IHES',\n",
       " 'CEL',\n",
       " 'CEL',\n",
       " 'FIP1',\n",
       " 'FIP1L1',\n",
       " 'PDGFRA',\n",
       " 'PDGFRalpha',\n",
       " 'FIP1L1',\n",
       " 'PDGFRA',\n",
       " 'CEL',\n",
       " 'PDGFRB',\n",
       " 'PDGFR',\n",
       " 'IHES',\n",
       " 'PDGFRB',\n",
       " 'FIP1L1',\n",
       " 'PDGFRA',\n",
       " 'FIP1L1',\n",
       " 'FIP1L1',\n",
       " 'PDGFRA',\n",
       " 'PDGFRA',\n",
       " 'PDGFRA',\n",
       " 'KIF5B',\n",
       " 'PDGFRA',\n",
       " 'FIP1L1',\n",
       " 'PDGFRA',\n",
       " 'IHES',\n",
       " 'FIP1L1',\n",
       " 'PDGFRA',\n",
       " 'BCR',\n",
       " 'ABL',\n",
       " 'FIP1L1',\n",
       " 'PDGFRA',\n",
       " 'FIP1L1',\n",
       " 'PDGFRA',\n",
       " 'RNeasy',\n",
       " 'BCR',\n",
       " 'ABL',\n",
       " 'FIP1L1',\n",
       " 'PDGFRA',\n",
       " 'FIP1E6',\n",
       " 'PDA',\n",
       " 'FIP1E6',\n",
       " 'PDA',\n",
       " 'KIF5B',\n",
       " 'PDGFRA',\n",
       " 'KIF5B',\n",
       " 'PDA',\n",
       " 'KIF5B',\n",
       " 'PDAI12',\n",
       " 'KIF5B',\n",
       " 'PDGFRA',\n",
       " 'KIF5B',\n",
       " 'PDGFRA',\n",
       " 'KIF5B',\n",
       " 'PDAI12',\n",
       " 'KIF5B',\n",
       " 'PDAI12',\n",
       " 'PDGFRA',\n",
       " 'PDGFRA',\n",
       " 'PDGFRA',\n",
       " 'PDGFRA',\n",
       " 'PDA',\n",
       " 'PDGFRA',\n",
       " 'PDA',\n",
       " 'PDA',\n",
       " 'UK',\n",
       " 'PDA',\n",
       " 'PDA',\n",
       " 'PDA',\n",
       " 'FIP1L1',\n",
       " 'PDGFRA',\n",
       " 'PDGFRA',\n",
       " 'MG63',\n",
       " 'BCR',\n",
       " 'ABL',\n",
       " 'HaeIII',\n",
       " 'UK',\n",
       " 'PDGFRA',\n",
       " 'PDAI12',\n",
       " 'UK',\n",
       " 'PDGFRA',\n",
       " 'NVAMP',\n",
       " 'PDAI12',\n",
       " 'NVAMP',\n",
       " 'UK',\n",
       " 'TOPO',\n",
       " 'PCR4',\n",
       " 'UK',\n",
       " 'BAC',\n",
       " 'PDGFRA',\n",
       " 'KIF5B',\n",
       " 'HIV',\n",
       " 'TPHA',\n",
       " 'BCR',\n",
       " 'ABL',\n",
       " 'FIP1L1',\n",
       " 'PDGFRA',\n",
       " '46XY',\n",
       " 'PDGFRA',\n",
       " 'PDGFRA',\n",
       " 'FIP1L1',\n",
       " 'PDGFRA',\n",
       " 'BCR',\n",
       " 'PDGFRA',\n",
       " 'PDGFRA',\n",
       " 'PDGFRA',\n",
       " 'PDGFRA',\n",
       " 'PDGFRA',\n",
       " 'PDGFRA',\n",
       " 'PDGFRA',\n",
       " 'PDA',\n",
       " 'PDA',\n",
       " 'PDGFRA',\n",
       " 'PDGFRA',\n",
       " 'PDA',\n",
       " 'PDA',\n",
       " 'PDGFRA',\n",
       " 'PDGFRA',\n",
       " 'MG',\n",
       " 'PDGFRA',\n",
       " 'FIP1',\n",
       " 'FIP1L1',\n",
       " 'PDGFRA',\n",
       " 'PDGFRA',\n",
       " 'PDGFRA',\n",
       " 'PDGFRA',\n",
       " 'MG',\n",
       " 'PDGFRA',\n",
       " 'FIP1L1',\n",
       " 'PDGFRA',\n",
       " 'PDGFRA',\n",
       " 'PDGFRA',\n",
       " 'IHES',\n",
       " 'PDGFRA',\n",
       " 'FIP1L1',\n",
       " 'PDGFRA',\n",
       " 'PDGFRA',\n",
       " 'FIP1L1',\n",
       " 'PDGFRA',\n",
       " 'PDGFRA',\n",
       " 'PDGFRA',\n",
       " 'PDGFRA',\n",
       " 'PDGFRA',\n",
       " 'BCR',\n",
       " 'ABL',\n",
       " 'FIP1L1',\n",
       " 'PDGFRA',\n",
       " 'NCP',\n",
       " 'HaeIII',\n",
       " 'PDAI12',\n",
       " 'PDGFRA',\n",
       " 'PDGFRA',\n",
       " 'PDGFRA',\n",
       " 'PDGFRA',\n",
       " 'HaeIII',\n",
       " 'PDAI12',\n",
       " 'HaeIII',\n",
       " 'FIP1L1',\n",
       " 'PDGFRA',\n",
       " 'PDGFRA',\n",
       " 'FIP1L1',\n",
       " 'FIP1L1',\n",
       " 'PDGFRA',\n",
       " 'KIF5B',\n",
       " 'PDGFRA',\n",
       " 'KIF5B',\n",
       " 'NM',\n",
       " 'PDGFRA',\n",
       " 'KIF5B',\n",
       " 'PDAI12',\n",
       " 'PDGFRA',\n",
       " 'KIF5B',\n",
       " 'KIF5B',\n",
       " 'PDGFRA',\n",
       " 'KIF5B',\n",
       " 'PDGFRA',\n",
       " 'PB',\n",
       " 'BM',\n",
       " 'KIF5B',\n",
       " 'PDGFRA',\n",
       " 'KIF5B',\n",
       " 'PDA',\n",
       " 'KIF5B',\n",
       " 'PDGFRA',\n",
       " 'KIF5B',\n",
       " 'PDGFRA',\n",
       " 'KIF5B',\n",
       " 'PDGFRA',\n",
       " 'RP11',\n",
       " 'RP11',\n",
       " 'KIF5B',\n",
       " 'KIF5B',\n",
       " 'RP11',\n",
       " 'BAC',\n",
       " 'RP11',\n",
       " 'PDGFRA',\n",
       " 'KIF5B',\n",
       " 'PDGFRA',\n",
       " 'BACs',\n",
       " 'PDGFRA',\n",
       " 'RP11',\n",
       " 'RP11',\n",
       " 'KIF5B',\n",
       " 'PDGFRA',\n",
       " 'KIF5B',\n",
       " 'PDGFRA',\n",
       " 'PDGFRA',\n",
       " 'KIF5B',\n",
       " 'KIF5B',\n",
       " 'KIF5B',\n",
       " 'KIF5B',\n",
       " 'PDGFRA',\n",
       " 'KIF5B',\n",
       " 'PDGFRA',\n",
       " 'KIF5B',\n",
       " 'PDGFRA',\n",
       " 'IHES/CEL,2',\n",
       " 'FIP1L1',\n",
       " 'PDGFRA',\n",
       " 'IHES',\n",
       " 'USA',\n",
       " 'IHES',\n",
       " 'FIP1L1',\n",
       " 'PDGFRA',\n",
       " 'PDGFRA',\n",
       " 'IHES',\n",
       " 'PDGFRA',\n",
       " 'PDGFRA',\n",
       " 'PDGFRA',\n",
       " 'IHES',\n",
       " 'PDGFRA',\n",
       " 'FIP1L1',\n",
       " 'PDGFRA',\n",
       " 'FIP1L1',\n",
       " 'PDGFRA',\n",
       " 'CHIC2',\n",
       " 'FIP1L1',\n",
       " 'PDGFRA',\n",
       " 'PDGFRA',\n",
       " 'IHES',\n",
       " 'FIP1L1',\n",
       " 'PDGFRA',\n",
       " 'FIP1L1',\n",
       " 'PDGFRA',\n",
       " 'PDGFRA',\n",
       " 'PDGFRA',\n",
       " 'KIF5B',\n",
       " 'PDGFRA',\n",
       " 'KIF5B',\n",
       " 'PDGFRA',\n",
       " 'BCR',\n",
       " 'FIP1L1',\n",
       " 'KIF5B',\n",
       " 'ATP',\n",
       " 'KIF5B',\n",
       " 'PDGFRalpha',\n",
       " 'KIF5B',\n",
       " 'PDGFRalpha',\n",
       " 'KIF5B',\n",
       " 'PDGFRA',\n",
       " 'PDGFRalpha',\n",
       " 'KIF5B',\n",
       " 'KIF5B',\n",
       " 'PDGFRalpha',\n",
       " 'PDGFRA',\n",
       " 'IHES',\n",
       " 'PDGFRA',\n",
       " 'FIP1L1',\n",
       " 'PDGFRA']"
      ]
     },
     "execution_count": 77,
     "metadata": {},
     "output_type": "execute_result"
    }
   ],
   "source": [
    "gene_ish_words_white"
   ]
  },
  {
   "cell_type": "code",
   "execution_count": null,
   "metadata": {
    "collapsed": true
   },
   "outputs": [],
   "source": []
  },
  {
   "cell_type": "code",
   "execution_count": null,
   "metadata": {
    "collapsed": true
   },
   "outputs": [],
   "source": []
  },
  {
   "cell_type": "code",
   "execution_count": null,
   "metadata": {
    "collapsed": true
   },
   "outputs": [],
   "source": []
  },
  {
   "cell_type": "code",
   "execution_count": null,
   "metadata": {
    "collapsed": true
   },
   "outputs": [],
   "source": []
  },
  {
   "cell_type": "code",
   "execution_count": null,
   "metadata": {
    "collapsed": true
   },
   "outputs": [],
   "source": []
  },
  {
   "cell_type": "code",
   "execution_count": null,
   "metadata": {
    "collapsed": true
   },
   "outputs": [],
   "source": []
  },
  {
   "cell_type": "code",
   "execution_count": null,
   "metadata": {},
   "outputs": [],
   "source": [
    "# Do the same with pd.DF\n",
    "gene_ish_words = df1[df1['tokens'].str.match(gene_ish_pattern)]\n",
    "print(len(gene_ish_words))"
   ]
  },
  {
   "cell_type": "code",
   "execution_count": null,
   "metadata": {
    "collapsed": true
   },
   "outputs": [],
   "source": [
    "gene_table = gene_ish_words.groupby('tokens').size().reset_index()\n",
    "gene_table.columns = ['tokens', 'appearances']"
   ]
  },
  {
   "cell_type": "code",
   "execution_count": null,
   "metadata": {},
   "outputs": [],
   "source": [
    "gene_table.sort_values('appearances', ascending=False).head(15)"
   ]
  },
  {
   "cell_type": "code",
   "execution_count": null,
   "metadata": {
    "collapsed": true
   },
   "outputs": [],
   "source": [
    "mutation_patterns = ['Truncation', 'Deletion', 'Promoter','Amplification', 'Epigenetic', 'Frame', 'Overexpression',\n",
    "                     'Duplication', 'Insertion','Subtype', 'Fusion', 'Splice', 'Wildtype']"
   ]
  },
  {
   "cell_type": "code",
   "execution_count": null,
   "metadata": {
    "collapsed": true
   },
   "outputs": [],
   "source": [
    "mutation_table = pd.DataFrame(index=[mutation_patterns])\n",
    "mutation_table['appearances'] = 0"
   ]
  },
  {
   "cell_type": "code",
   "execution_count": null,
   "metadata": {
    "collapsed": true
   },
   "outputs": [],
   "source": [
    "for pattern in mutation_patterns:\n",
    "    appearance = len(df1[df1['tokens'].str.contains(pattern, case=False)])\n",
    "    mutation_table.loc[pattern, 'appearances'] = appearance"
   ]
  },
  {
   "cell_type": "code",
   "execution_count": null,
   "metadata": {},
   "outputs": [],
   "source": [
    "mutation_table"
   ]
  },
  {
   "cell_type": "markdown",
   "metadata": {
    "collapsed": true
   },
   "source": [
    "<a id='sec2'></a>\n",
    "# Write function to get gene-ish words list and mutation type table (<a href='#sec0'>Back To Top</a>)"
   ]
  },
  {
   "cell_type": "code",
   "execution_count": null,
   "metadata": {
    "collapsed": true
   },
   "outputs": [],
   "source": [
    "def process_text1(text, print_on=False):\n",
    "    '''\n",
    "    Process the original text. Tokenize into words first, and then remove stop words and numbers\n",
    "    \n",
    "    INPUT:\n",
    "    ======\n",
    "    text : str\n",
    "        A string containing a writing to be analyzed\n",
    "    \n",
    "    OUTPUT:\n",
    "    =======\n",
    "    words : list\n",
    "        A list of tokenized words\n",
    "        \n",
    "    '''\n",
    "    # Tokenize the text\n",
    "    word_tokens = word_tokenize(text)\n",
    "    \n",
    "    # Remove some unwanted words (hyphen excluded), and numbers\n",
    "    remove_list = ['.', ',', '(', ')', '[', ']', '=', '+', '>', '<', ':', ';', '%']\n",
    "    word_tokens = [word for word in word_tokens if word not in remove_list]\n",
    "    word_tokens = [word for word in word_tokens if (word.isnumeric() == False)]\n",
    "    \n",
    "    # Remove Stop words\n",
    "    stop_words = set(stopwords.words('english'))\n",
    "    words = [w for w in word_tokens if not w in stop_words]\n",
    "    \n",
    "    # print if print_on=True\n",
    "    if print_on:\n",
    "        print('Length Before removing stop words %d' % len(word_tokens))\n",
    "        print('Length After removing stop words %d' % len(words))\n",
    "    \n",
    "    return words"
   ]
  },
  {
   "cell_type": "code",
   "execution_count": null,
   "metadata": {},
   "outputs": [],
   "source": [
    "# Check if it works\n",
    "txt2 = process_text1(txt1)\n",
    "txt2"
   ]
  },
  {
   "cell_type": "code",
   "execution_count": null,
   "metadata": {
    "collapsed": true
   },
   "outputs": [],
   "source": [
    "def get_gene_like_words(tokenized_text, gene_list=None):\n",
    "    '''\n",
    "    Get Gene-name like words from the a list of tokenized words\n",
    "    \n",
    "    INPUT:\n",
    "    ======\n",
    "    tokenized_text : list\n",
    "        A list of tokenized words\n",
    "    \n",
    "    OUTPUT:\n",
    "    =======\n",
    "    gene_like_words : list\n",
    "        A list of gene name like words in the tokenized list\n",
    "    '''\n",
    "    gene_ish_pattern = r\"[A-Z]{2,7}\"\n",
    "    gene_like_words = [word for word in tokenized_text if re.match(gene_ish_pattern, word)]\n",
    "    \n",
    "    if gene_list is not None:\n",
    "        genes = gene_list\n",
    "        for gene in genes:\n",
    "            for i in range(len(gene_like_words)):\n",
    "                if gene in gene_like_words[i]:\n",
    "                    gene_like_words[i] = gene\n",
    "    \n",
    "    return gene_like_words"
   ]
  },
  {
   "cell_type": "code",
   "execution_count": null,
   "metadata": {},
   "outputs": [],
   "source": [
    "glike_words = get_gene_like_words(txt2)\n",
    "glike_words"
   ]
  },
  {
   "cell_type": "code",
   "execution_count": null,
   "metadata": {
    "collapsed": true
   },
   "outputs": [],
   "source": [
    "def create_mutation_words_table(tokenized_text, normed=False):\n",
    "    '''\n",
    "    Create table for words to describe the mutation types from a list of\n",
    "    tokenized words\n",
    "    \n",
    "    INPUT:\n",
    "    ======\n",
    "    text : list\n",
    "        a list of tokenized words\n",
    "    \n",
    "    OUTPUT:\n",
    "    =======\n",
    "    mutation table : a list of sets\n",
    "    '''\n",
    "    # List of words for mutation types\n",
    "    mutation_patterns = ['truncation', 'deletion', 'promoter','amplification', 'epigenetic', 'frame', 'overexpression',\n",
    "                     'duplication', 'insertion','subtype', 'fusion', 'splice', 'wildtype']\n",
    "    \n",
    "    appearances = []\n",
    "    for pattern in mutation_patterns:\n",
    "        appearance = len([word for word in tokenized_text if pattern in word.lower()])\n",
    "        appearances.append(appearance)\n",
    "    \n",
    "    if normed == 'mutation_types':\n",
    "        appearances = np.array(appearances)\n",
    "        if np.sum(appearances) != 0:\n",
    "            appearances = appearances / np.sum(appearances)\n",
    "        table = dict(zip(mutation_patterns, appearances))\n",
    "    elif normed == 'total_text':\n",
    "        appearances = np.array(appearances)\n",
    "        appearances = appearances / len(tokenized_text)\n",
    "        table = dict(zip(mutation_patterns, appearances))\n",
    "    else:\n",
    "        table = dict(zip(mutation_patterns, appearances))\n",
    "        table['Total'] = np.sum(appearances)\n",
    "    \n",
    "    return table"
   ]
  },
  {
   "cell_type": "code",
   "execution_count": null,
   "metadata": {},
   "outputs": [],
   "source": [
    "create_mutation_words_table(txt2, normed='mutation_types')"
   ]
  },
  {
   "cell_type": "markdown",
   "metadata": {},
   "source": [
    "<a id='sec3'></a>\n",
    "# Compiling the entire text-ome - testing (<a href='#sec0'>Back To Top</a>)"
   ]
  },
  {
   "cell_type": "code",
   "execution_count": null,
   "metadata": {
    "collapsed": true
   },
   "outputs": [],
   "source": [
    "txt3 = text_train.iloc[150, 1]"
   ]
  },
  {
   "cell_type": "code",
   "execution_count": null,
   "metadata": {},
   "outputs": [],
   "source": [
    "class_train.iloc[150, :]"
   ]
  },
  {
   "cell_type": "code",
   "execution_count": null,
   "metadata": {},
   "outputs": [],
   "source": [
    "txt3"
   ]
  },
  {
   "cell_type": "code",
   "execution_count": null,
   "metadata": {
    "collapsed": true
   },
   "outputs": [],
   "source": [
    "textome1 = txt1 + ' ' + txt3"
   ]
  },
  {
   "cell_type": "code",
   "execution_count": null,
   "metadata": {
    "collapsed": true
   },
   "outputs": [],
   "source": [
    "tokens1 = process_text1(txt1)\n",
    "tokens2 = process_text1(txt3)\n",
    "tokens_agg = process_text1(textome1)"
   ]
  },
  {
   "cell_type": "markdown",
   "metadata": {},
   "source": [
    "<b>Create Mutation Table</b>"
   ]
  },
  {
   "cell_type": "code",
   "execution_count": null,
   "metadata": {
    "collapsed": true
   },
   "outputs": [],
   "source": [
    "mut_table1 = create_mutation_words_table(tokens1)\n",
    "mut_table2 = create_mutation_words_table(tokens2)\n",
    "mut_table_agg = create_mutation_words_table(tokens_agg)\n",
    "mut_table = pd.DataFrame([mut_table1, mut_table2, mut_table_agg])"
   ]
  },
  {
   "cell_type": "code",
   "execution_count": null,
   "metadata": {},
   "outputs": [],
   "source": [
    "mut_table"
   ]
  },
  {
   "cell_type": "code",
   "execution_count": null,
   "metadata": {
    "collapsed": true
   },
   "outputs": [],
   "source": [
    "mut_table1 = create_mutation_words_table(tokens1, normed=True)\n",
    "mut_table2 = create_mutation_words_table(tokens2, normed=True)\n",
    "mut_table = pd.DataFrame([mut_table1, mut_table2])"
   ]
  },
  {
   "cell_type": "code",
   "execution_count": null,
   "metadata": {},
   "outputs": [],
   "source": [
    "mut_table"
   ]
  },
  {
   "cell_type": "markdown",
   "metadata": {},
   "source": [
    "<b>Create a sparse matrix for gene-ish words space</b>"
   ]
  },
  {
   "cell_type": "code",
   "execution_count": null,
   "metadata": {
    "collapsed": true
   },
   "outputs": [],
   "source": [
    "genes = list(class_train['Gene'].unique())"
   ]
  },
  {
   "cell_type": "code",
   "execution_count": null,
   "metadata": {
    "collapsed": true
   },
   "outputs": [],
   "source": [
    "glike_words1 = get_gene_like_words(tokens1, gene_list=genes)\n",
    "glike_words2 = get_gene_like_words(tokens2, gene_list=genes)\n",
    "glike_words_agg = get_gene_like_words(tokens_agg, gene_list=genes)"
   ]
  },
  {
   "cell_type": "code",
   "execution_count": null,
   "metadata": {
    "collapsed": true
   },
   "outputs": [],
   "source": [
    "from collections import Counter"
   ]
  },
  {
   "cell_type": "code",
   "execution_count": null,
   "metadata": {
    "collapsed": true
   },
   "outputs": [],
   "source": [
    "c1 = dict(Counter(glike_words1))\n",
    "c2 = dict(Counter(glike_words2))"
   ]
  },
  {
   "cell_type": "code",
   "execution_count": null,
   "metadata": {
    "collapsed": true
   },
   "outputs": [],
   "source": [
    "gene_table = pd.DataFrame()"
   ]
  },
  {
   "cell_type": "code",
   "execution_count": null,
   "metadata": {
    "collapsed": true
   },
   "outputs": [],
   "source": [
    "gene_table = gene_table.append(c1, ignore_index=True)"
   ]
  },
  {
   "cell_type": "code",
   "execution_count": null,
   "metadata": {
    "collapsed": true
   },
   "outputs": [],
   "source": [
    "gene_table = gene_table.append(c2, ignore_index=True)"
   ]
  },
  {
   "cell_type": "code",
   "execution_count": null,
   "metadata": {},
   "outputs": [],
   "source": [
    "gene_table"
   ]
  },
  {
   "cell_type": "markdown",
   "metadata": {},
   "source": [
    "<a id='sec4'></a>\n",
    "# Compiling the entire text-ome - full mutation table (<a href='#sec0'>Back To Top</a>)"
   ]
  },
  {
   "cell_type": "code",
   "execution_count": null,
   "metadata": {},
   "outputs": [],
   "source": [
    "text_train.head()"
   ]
  },
  {
   "cell_type": "markdown",
   "metadata": {},
   "source": [
    "Create a whole list of dictionaries first and then convert to DF"
   ]
  },
  {
   "cell_type": "code",
   "execution_count": null,
   "metadata": {},
   "outputs": [],
   "source": [
    "%%time\n",
    "mut_words_list = []\n",
    "for i in range(len(text_train)):\n",
    "    text = text_train.loc[i, 'Text']\n",
    "    tokens = process_text1(text)\n",
    "    mut_words = create_mutation_words_table(tokens, normed='mutatio_types')\n",
    "    mut_words_list.append(mut_words)"
   ]
  },
  {
   "cell_type": "code",
   "execution_count": null,
   "metadata": {
    "collapsed": true
   },
   "outputs": [],
   "source": [
    "full_mutation_table = pd.DataFrame(mut_words_list)"
   ]
  },
  {
   "cell_type": "code",
   "execution_count": null,
   "metadata": {
    "scrolled": true
   },
   "outputs": [],
   "source": [
    "full_mutation_table"
   ]
  },
  {
   "cell_type": "markdown",
   "metadata": {},
   "source": [
    "Create a DF and it's updated as new row appended"
   ]
  },
  {
   "cell_type": "code",
   "execution_count": null,
   "metadata": {
    "collapsed": true
   },
   "outputs": [],
   "source": [
    "full_mutation_table2 = pd.DataFrame()"
   ]
  },
  {
   "cell_type": "code",
   "execution_count": null,
   "metadata": {},
   "outputs": [],
   "source": [
    "%%time\n",
    "for i in range(len(text_train)):\n",
    "    text = text_train.loc[i, 'Text']\n",
    "    tokens = process_text1(text)\n",
    "    mut_words = create_mutation_words_table(tokens, normed='mutation_types')\n",
    "    full_mutation_table2 = full_mutation_table2.append(mut_words, ignore_index=True)"
   ]
  },
  {
   "cell_type": "code",
   "execution_count": null,
   "metadata": {},
   "outputs": [],
   "source": [
    "full_mutation_table2"
   ]
  },
  {
   "cell_type": "code",
   "execution_count": null,
   "metadata": {},
   "outputs": [],
   "source": [
    "full_mutation_table.equals(full_mutation_table2)"
   ]
  },
  {
   "cell_type": "markdown",
   "metadata": {},
   "source": [
    "Two methods gave identical result and were equally fast. It seemed like CPU was heating up more with the latter case, I'll use the whole list method."
   ]
  },
  {
   "cell_type": "code",
   "execution_count": null,
   "metadata": {
    "collapsed": true
   },
   "outputs": [],
   "source": []
  },
  {
   "cell_type": "markdown",
   "metadata": {},
   "source": [
    "<a id='sec5'></a>\n",
    "# Compiling the entire text-ome - full gene-like words table (<a href='#sec0'>Back To Top</a>)"
   ]
  },
  {
   "cell_type": "code",
   "execution_count": null,
   "metadata": {},
   "outputs": [],
   "source": [
    "text_train.head()"
   ]
  },
  {
   "cell_type": "code",
   "execution_count": null,
   "metadata": {
    "collapsed": true
   },
   "outputs": [],
   "source": [
    "genes = list(class_train['Gene'].unique())"
   ]
  },
  {
   "cell_type": "code",
   "execution_count": null,
   "metadata": {},
   "outputs": [],
   "source": [
    "%%time\n",
    "glike_words_list = []\n",
    "for i in range(len(text_train)):\n",
    "    text = text_train.loc[i, 'Text']\n",
    "    tokens = process_text1(text)\n",
    "    glike_words = get_gene_like_words(tokens, gene_list=genes)\n",
    "    c = dict(Counter(glike_words))\n",
    "    glike_words_list.append(c)"
   ]
  },
  {
   "cell_type": "code",
   "execution_count": null,
   "metadata": {
    "collapsed": true
   },
   "outputs": [],
   "source": [
    "glike_words_table = pd.DataFrame(glike_words_list)"
   ]
  },
  {
   "cell_type": "code",
   "execution_count": null,
   "metadata": {},
   "outputs": [],
   "source": [
    "glike_words_table"
   ]
  },
  {
   "cell_type": "markdown",
   "metadata": {},
   "source": [
    "<a id='sec6'></a>\n",
    "# Compiling the entire gene-ome - full gene table (not genome)(<a href='#sec0'>Back To Top</a>)\n",
    "- This is NOT the gene-like words from the text\n",
    "- This shows which gene is annotated for each ID in the 'variants' file"
   ]
  },
  {
   "cell_type": "code",
   "execution_count": null,
   "metadata": {
    "collapsed": true
   },
   "outputs": [],
   "source": [
    "from sklearn.preprocessing import OneHotEncoder, LabelEncoder"
   ]
  },
  {
   "cell_type": "code",
   "execution_count": null,
   "metadata": {
    "collapsed": true
   },
   "outputs": [],
   "source": [
    "X_gene = np.array(class_train.Gene)\n",
    "X_gene_int = LabelEncoder().fit_transform(X_gene.ravel()).reshape(-1, 1)\n",
    "X_gene_bin = OneHotEncoder().fit_transform(X_gene_int).toarray()"
   ]
  },
  {
   "cell_type": "code",
   "execution_count": null,
   "metadata": {},
   "outputs": [],
   "source": [
    "X_gene_int"
   ]
  },
  {
   "cell_type": "code",
   "execution_count": null,
   "metadata": {
    "collapsed": true
   },
   "outputs": [],
   "source": [
    "full_gene_table = pd.DataFrame(X_gene_bin)"
   ]
  },
  {
   "cell_type": "code",
   "execution_count": null,
   "metadata": {},
   "outputs": [],
   "source": [
    "full_gene_table"
   ]
  },
  {
   "cell_type": "code",
   "execution_count": null,
   "metadata": {},
   "outputs": [],
   "source": [
    "full_gene_table.loc[:, 39].head(10)"
   ]
  },
  {
   "cell_type": "markdown",
   "metadata": {},
   "source": [
    "<a id='sec7'></a>\n",
    "# Convert Mutation_Types in Class file (<a href='#sec0'>Back To Top</a>)\n",
    "- Import convert_mutation_type\n",
    "- Use the label encoding to make it a sparse matrix"
   ]
  },
  {
   "cell_type": "code",
   "execution_count": null,
   "metadata": {
    "collapsed": true
   },
   "outputs": [],
   "source": [
    "def convert_mutation_type(data):\n",
    "    '''\n",
    "    Convert the 'Variant' Data into mutation_type in a new column, returns the new data with a new column\n",
    "\n",
    "    Input\n",
    "    =====\n",
    "    data : DataFrame\n",
    "        The train or test data containing Variant information\n",
    "\n",
    "    Output\n",
    "    ======\n",
    "    data : DataFrame\n",
    "        'mutation_type' is added to the original data from the input\n",
    "    '''\n",
    "    # Copy the Variation into a new column (this could be just an empty copy with Nones)\n",
    "    data['mutation_type'] = data['Variation']\n",
    "\n",
    "    # Define regex pattern for point mutants\n",
    "    point_mutation_pattern = \\\n",
    "        r\"[ARNDCEQGHILKMFPSTWYV]{1}[0-9]{1,4}[ARNDCEQGHILKMFPSTWYV*]?$\"\n",
    "\n",
    "    # Define new mutation types\n",
    "    major_types = ['Truncation', 'Point Mutation', 'Deletion', 'Promoter Mutations',\n",
    "       'Amplification', 'Epigenetic', 'Frame Shift', 'Overexpression',\n",
    "       'Deletion-Insertion', 'Duplication', 'Insertion',\n",
    "       'Gene Subtype', 'Fusion', 'Splice', 'Copy Number Loss', 'Wildtype']\n",
    "\n",
    "    # Convert the Variant information to mutation types\n",
    "    data.loc[(data['Variation'].str.match(point_mutation_pattern)), 'mutation_type']= 'Point Mutation'\n",
    "    data.loc[(data['Variation'].str.contains('missense', case=False)), 'mutation_type']= 'Point Mutation'\n",
    "    data.loc[(data['Variation'].str.contains('fusion', case=False)), 'mutation_type']= 'Fusion'\n",
    "    data.loc[(data['Variation'].str.contains('deletion', case=False)), 'mutation_type']= 'Deletion'\n",
    "    data.loc[((data['Variation'].str.contains('del', case=False))\\\n",
    "            &(data['Variation'].str.contains('delins', case=False) == False)),\n",
    "            'mutation_type']= 'Deletion'\n",
    "    data.loc[((data['Variation'].str.contains('ins', case=False))\\\n",
    "            &(data['Variation'].str.contains('delins', case=False) == False)),\n",
    "            'mutation_type']= 'Insertion'\n",
    "    data.loc[((data['Variation'].str.contains('del', case=False))\\\n",
    "            &(data['Variation'].str.contains('delins', case=False))),\n",
    "            'mutation_type']= 'Deletion-Insertion'\n",
    "    data.loc[(data['Variation'].str.contains('dup', case=False)), 'mutation_type']= 'Duplication'\n",
    "    data.loc[(data['Variation'].str.contains('trunc', case=False)), 'mutation_type']= 'Truncation'\n",
    "    data.loc[(data['Variation'].str.contains('fs', case=False)), 'mutation_type']= 'Frame Shift'\n",
    "    data.loc[(data['Variation'].str.contains('splice', case=False)), 'mutation_type']= 'Splice'\n",
    "    data.loc[(data['Variation'].str.contains('exon', case=False)), 'mutation_type']= 'Point Mutation'\n",
    "    data.loc[((data['Variation'].str.contains('EGFR', case=False))\\\n",
    "            |(data['Variation'].str.contains('AR', case=True))\\\n",
    "            |(data['Variation'].str.contains('MYC-nick', case=True))\\\n",
    "            |(data['Variation'].str.contains('TGFBR1', case=True))\\\n",
    "            |(data['Variation'].str.contains('CASP8L', case=True))),\n",
    "            'mutation_type']= 'Gene Subtype'\n",
    "    data.loc[((data['Variation'].str.contains('Hypermethylation', case=False))\\\n",
    "            |(data['Variation'].str.contains('Epigenetic', case=False))),\n",
    "             'mutation_type']= 'Epigenetic'\n",
    "    data.loc[(data['mutation_type'].isin(major_types) == False),\n",
    "            'mutation_type']= 'Others'\n",
    "\n",
    "    # rearrange order of columns\n",
    "    if 'Class' in data.columns:\n",
    "        data = data[['ID', 'Gene', 'Variation', 'mutation_type', 'Class']]\n",
    "    else:\n",
    "        data = data[['ID', 'Gene', 'Variation', 'mutation_type']]\n",
    "\n",
    "    return data"
   ]
  },
  {
   "cell_type": "code",
   "execution_count": null,
   "metadata": {
    "collapsed": true
   },
   "outputs": [],
   "source": [
    "new_table = convert_mutation_type(class_train)"
   ]
  },
  {
   "cell_type": "code",
   "execution_count": null,
   "metadata": {
    "collapsed": true
   },
   "outputs": [],
   "source": [
    "X_mtype = np.array(new_table['mutation_type'])\n",
    "X_mtype_int = LabelEncoder().fit_transform(X_mtype.ravel()).reshape(-1, 1)\n",
    "X_mtype_bin = OneHotEncoder().fit_transform(X_mtype_int).toarray()"
   ]
  },
  {
   "cell_type": "code",
   "execution_count": null,
   "metadata": {},
   "outputs": [],
   "source": [
    "X_mtype_int"
   ]
  },
  {
   "cell_type": "code",
   "execution_count": null,
   "metadata": {
    "collapsed": true
   },
   "outputs": [],
   "source": [
    "full_mtype_table = pd.DataFrame(X_mtype_bin)"
   ]
  },
  {
   "cell_type": "code",
   "execution_count": null,
   "metadata": {},
   "outputs": [],
   "source": [
    "full_mtype_table"
   ]
  },
  {
   "cell_type": "markdown",
   "metadata": {},
   "source": [
    "<a id='sec8'></a>\n",
    "# Combined All! (<a href='#sec0'>Back To Top</a>)"
   ]
  },
  {
   "cell_type": "code",
   "execution_count": null,
   "metadata": {
    "collapsed": true
   },
   "outputs": [],
   "source": [
    "full_mutation_table = full_mutation_table.fillna(value=0)\n",
    "glike_words_table = glike_words_table.fillna(value=0)\n",
    "full_gene_table = full_gene_table.fillna(value=0)\n",
    "full_mtype_table = full_mtype_table.fillna(value=0)"
   ]
  },
  {
   "cell_type": "code",
   "execution_count": null,
   "metadata": {
    "collapsed": true
   },
   "outputs": [],
   "source": [
    "features = pd.concat([full_mutation_table, \n",
    "                      glike_words_table,\n",
    "                      full_gene_table,\n",
    "                      full_mtype_table],\n",
    "                      axis=1)"
   ]
  },
  {
   "cell_type": "code",
   "execution_count": null,
   "metadata": {},
   "outputs": [],
   "source": [
    "features.shape"
   ]
  },
  {
   "cell_type": "code",
   "execution_count": null,
   "metadata": {},
   "outputs": [],
   "source": [
    "class_train.Class.shape"
   ]
  },
  {
   "cell_type": "markdown",
   "metadata": {},
   "source": [
    "<a id='sec9'></a>\n",
    "# Test with Random Forest (<a href='#sec0'>Back To Top</a>)"
   ]
  },
  {
   "cell_type": "code",
   "execution_count": null,
   "metadata": {
    "collapsed": true
   },
   "outputs": [],
   "source": [
    "X = np.array(features).astype(float)\n",
    "y = np.array(class_train.Class).astype(int).ravel()"
   ]
  },
  {
   "cell_type": "code",
   "execution_count": null,
   "metadata": {
    "collapsed": true
   },
   "outputs": [],
   "source": [
    "from sklearn.model_selection import train_test_split\n",
    "from sklearn.ensemble import RandomForestClassifier\n",
    "from sklearn.metrics import accuracy_score, recall_score, precision_score, f1_score"
   ]
  },
  {
   "cell_type": "code",
   "execution_count": null,
   "metadata": {
    "collapsed": true
   },
   "outputs": [],
   "source": [
    "X_train, X_test, y_train, y_test = train_test_split(X, y, test_size=0.2)"
   ]
  },
  {
   "cell_type": "code",
   "execution_count": null,
   "metadata": {},
   "outputs": [],
   "source": [
    "%%time\n",
    "rfc = RandomForestClassifier(n_estimators=50, max_depth=30)\n",
    "rfc.fit(X_train, y_train)"
   ]
  },
  {
   "cell_type": "code",
   "execution_count": null,
   "metadata": {
    "collapsed": true
   },
   "outputs": [],
   "source": [
    "y_pred = rfc.predict(X_test)"
   ]
  },
  {
   "cell_type": "code",
   "execution_count": null,
   "metadata": {},
   "outputs": [],
   "source": [
    "print(accuracy_score(y_test, y_pred))"
   ]
  },
  {
   "cell_type": "markdown",
   "metadata": {},
   "source": [
    "<a id='sec10'></a>\n",
    "# Test with Simple SVM (<a href='#sec0'>Back To Top</a>)"
   ]
  },
  {
   "cell_type": "code",
   "execution_count": null,
   "metadata": {
    "collapsed": true
   },
   "outputs": [],
   "source": [
    "from sklearn.preprocessing import scale\n",
    "from sklearn.svm import LinearSVC"
   ]
  },
  {
   "cell_type": "code",
   "execution_count": null,
   "metadata": {
    "collapsed": true
   },
   "outputs": [],
   "source": [
    "X_scale = scale(X)"
   ]
  },
  {
   "cell_type": "code",
   "execution_count": null,
   "metadata": {
    "collapsed": true
   },
   "outputs": [],
   "source": [
    "X_train2, X_test2, y_train2, y_test2 = train_test_split(X_scale, y, test_size=0.2)"
   ]
  },
  {
   "cell_type": "code",
   "execution_count": null,
   "metadata": {},
   "outputs": [],
   "source": [
    "%%time\n",
    "clf = LinearSVC()\n",
    "clf.fit(X_train2, y_train2)"
   ]
  },
  {
   "cell_type": "code",
   "execution_count": null,
   "metadata": {
    "collapsed": true
   },
   "outputs": [],
   "source": [
    "y_pred2 = clf.predict(X_test2)"
   ]
  },
  {
   "cell_type": "code",
   "execution_count": null,
   "metadata": {},
   "outputs": [],
   "source": [
    "print(accuracy_score(y_test2, y_pred2))"
   ]
  },
  {
   "cell_type": "code",
   "execution_count": null,
   "metadata": {
    "collapsed": true
   },
   "outputs": [],
   "source": []
  },
  {
   "cell_type": "code",
   "execution_count": null,
   "metadata": {
    "collapsed": true
   },
   "outputs": [],
   "source": []
  },
  {
   "cell_type": "code",
   "execution_count": null,
   "metadata": {
    "collapsed": true
   },
   "outputs": [],
   "source": []
  },
  {
   "cell_type": "code",
   "execution_count": null,
   "metadata": {
    "collapsed": true
   },
   "outputs": [],
   "source": []
  },
  {
   "cell_type": "code",
   "execution_count": null,
   "metadata": {
    "collapsed": true
   },
   "outputs": [],
   "source": []
  },
  {
   "cell_type": "code",
   "execution_count": null,
   "metadata": {
    "collapsed": true
   },
   "outputs": [],
   "source": []
  },
  {
   "cell_type": "code",
   "execution_count": null,
   "metadata": {
    "collapsed": true
   },
   "outputs": [],
   "source": []
  },
  {
   "cell_type": "code",
   "execution_count": null,
   "metadata": {
    "collapsed": true
   },
   "outputs": [],
   "source": []
  }
 ],
 "metadata": {
  "kernelspec": {
   "display_name": "Python 3",
   "language": "python",
   "name": "python3"
  },
  "language_info": {
   "codemirror_mode": {
    "name": "ipython",
    "version": 3
   },
   "file_extension": ".py",
   "mimetype": "text/x-python",
   "name": "python",
   "nbconvert_exporter": "python",
   "pygments_lexer": "ipython3",
   "version": "3.6.2"
  }
 },
 "nbformat": 4,
 "nbformat_minor": 2
}
